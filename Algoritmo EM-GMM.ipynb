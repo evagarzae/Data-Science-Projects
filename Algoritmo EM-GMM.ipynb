{
 "cells": [
  {
   "cell_type": "code",
   "execution_count": 34,
   "metadata": {},
   "outputs": [],
   "source": [
    "import pandas as pd\n",
    "import matplotlib.pyplot as plt\n",
    "import matplotlib as mpl\n",
    "import numpy as np\n",
    "import seaborn as sns\n",
    "import os\n",
    "import random\n",
    "from numpy import hstack\n",
    "from numpy.random import normal\n",
    "from matplotlib import pyplot\n",
    "import scipy.stats as stats"
   ]
  },
  {
   "cell_type": "code",
   "execution_count": 35,
   "metadata": {},
   "outputs": [],
   "source": [
    "os.chdir('C:/Users/Evangelina Garza/Documents/CIMAT/MCE_2Semestre/Ciencia de Datos')"
   ]
  },
  {
   "cell_type": "code",
   "execution_count": 36,
   "metadata": {},
   "outputs": [],
   "source": [
    "sns.set()\n",
    "%matplotlib inline"
   ]
  },
  {
   "cell_type": "markdown",
   "metadata": {},
   "source": [
    "## Caso univariado"
   ]
  },
  {
   "cell_type": "markdown",
   "metadata": {},
   "source": [
    "### Funcion para obtener la densidad normal univariada"
   ]
  },
  {
   "cell_type": "code",
   "execution_count": 37,
   "metadata": {},
   "outputs": [],
   "source": [
    "def my_unorm(Z,u,s):\n",
    "    zi=(1/(s*((2*3.14159)**(0.5))))*(2.718281828459**(-0.5*((Z-u)**2)*(1/(s**2))))\n",
    "    return zi"
   ]
  },
  {
   "cell_type": "code",
   "execution_count": 40,
   "metadata": {},
   "outputs": [],
   "source": [
    "# Genera la muestra mixta\n",
    "X1 = normal(loc=15, scale=1, size=50)\n",
    "X2 = normal(loc=5, scale=2, size=30)\n",
    "X = hstack((X1, X2))"
   ]
  },
  {
   "cell_type": "code",
   "execution_count": 41,
   "metadata": {},
   "outputs": [
    {
     "data": {
      "image/png": "[encoded data removed]",
      "text/plain": [
       "<Figure size 432x288 with 1 Axes>"
      ]
     },
     "metadata": {
      "needs_background": "light"
     },
     "output_type": "display_data"
    }
   ],
   "source": [
    "plt.hist(X)\n",
    "plt.show()"
   ]
  },
  {
   "cell_type": "markdown",
   "metadata": {},
   "source": [
    "#### Funcion que calcula los estimadores de medias, varianzas y la proporcion de un vector proveniente de un Modelo de mezclas Gaussianas, a partir del uso del algoritmo Estimation Maximization."
   ]
  },
  {
   "cell_type": "code",
   "execution_count": 42,
   "metadata": {},
   "outputs": [],
   "source": [
    "def my_em_gmm(X,pi):\n",
    "    u1=X[0]\n",
    "    u2=X[X.shape[0]-1]\n",
    "    s1=1\n",
    "    s2=1\n",
    "    \n",
    "    pi_n=pi\n",
    "    pi_ant=0\n",
    "    temp=0\n",
    "\n",
    "    while abs(pi_ant-pi_n) > 0.001:\n",
    "        \n",
    "        X_norm1=my_unorm(X,u1,s1)\n",
    "        X_norm2=my_unorm(X,u2,s2)\n",
    "        \n",
    "        pc1=(pi_n*X_norm1)\n",
    "        pc2=((1-pi_n)*X_norm2)\n",
    "        \n",
    "        gi=pc1/(pc1+pc2)\n",
    "        gi2=1-gi\n",
    "        \n",
    "        n1=sum(gi)\n",
    "        n2=sum(gi2)\n",
    "        \n",
    "        u1=sum((gi*X))/n1\n",
    "        u2=sum((gi2*X))/n2\n",
    "        \n",
    "        t1=(X-u1)**2\n",
    "        t2=(X-u2)**2\n",
    "\n",
    "        s1=sum((gi*t1))/n1\n",
    "        s2=sum((gi2*t2))/n2\n",
    "        \n",
    "        if temp==0:\n",
    "            pi_ant=pi\n",
    "        else:\n",
    "            pi_ant=pi_n\n",
    "        \n",
    "        pi_n=n1/X.shape[0]\n",
    "        temp=temp+1\n",
    "    \n",
    "    c=[]\n",
    "    for j in range(X.shape[0]):\n",
    "        if gi[j]>gi2[j]:\n",
    "            c.append(0)\n",
    "        else:\n",
    "            c.append(1)\n",
    "        \n",
    "    \n",
    "    mu=np.array([u1,u2])\n",
    "    ss=np.array([s1,s2])\n",
    "    w_n=np.array([pi_n,(1-pi_n)])\n",
    "\n",
    "    return mu,ss,w_n,c"
   ]
  },
  {
   "cell_type": "code",
   "execution_count": 56,
   "metadata": {},
   "outputs": [],
   "source": [
    "#Aplicado al vector ejemplo que se genero previamente\n",
    "media,var,pi,clas=my_em_gmm(X,0.5)"
   ]
  },
  {
   "cell_type": "code",
   "execution_count": 58,
   "metadata": {},
   "outputs": [
    {
     "data": {
      "image/png": "[encoded data removed]",
      "text/plain": [
       "<Figure size 432x288 with 1 Axes>"
      ]
     },
     "metadata": {
      "needs_background": "light"
     },
     "output_type": "display_data"
    }
   ],
   "source": [
    "c_map = {0: 'deeppink', 1: 'teal', 2: 'violet'}\n",
    "Y=np.ones(X.shape[0])\n",
    "plt.scatter(X, Y, c=[c_map[_] for _ in clas], alpha=0.5)\n",
    "plt.show()"
   ]
  },
  {
   "cell_type": "markdown",
   "metadata": {},
   "source": [
    "### Caso multivariado"
   ]
  },
  {
   "cell_type": "code",
   "execution_count": 6,
   "metadata": {},
   "outputs": [],
   "source": [
    "#Funcion de probabilidad normal para el caso bivariado\n",
    "def my_vnorm(Z,u,E):\n",
    "    E12=(np.linalg.det(E))**(-0.5)\n",
    "    Einv=np.linalg.inv(E)\n",
    "    x1=np.array([Z[0]-u[0],Z[1]-u[1]])\n",
    "    x2=np.array([[Z[0]-u[0]],[Z[1]-u[1]]])\n",
    "    t1=np.dot(x1,Einv)\n",
    "    t2=-0.5*(np.dot(t1,x2))\n",
    "    zi=(1/(2*3.14159))*E12*(2.718281828459**t2)\n",
    "    return zi"
   ]
  },
  {
   "cell_type": "code",
   "execution_count": 75,
   "metadata": {},
   "outputs": [],
   "source": [
    "#Conjunto de prueba\n",
    "X_mv=np.array([[48,53,53,55,59,63,63,73,73,73,74,76,78,78,81,87,89,93,155,\n",
    "               155,158,159,162,177],[81,84,86,86,88,82,85,89,92,92,80,92,98,99,85,88,87,87,115,117,\n",
    "                115,118,124,132]])"
   ]
  },
  {
   "cell_type": "code",
   "execution_count": 76,
   "metadata": {},
   "outputs": [],
   "source": [
    "#Funcion de implementacion \n",
    "def my_em_gmm_mv(X,pi):\n",
    "    u1=X[:,0]\n",
    "    u2=X[:,X.shape[1]-1]\n",
    "    s1=np.array([[50,20],[20,15]])\n",
    "    s2=np.array([[50,20],[20,15]])\n",
    "    n=X.shape[1]\n",
    "    \n",
    "    pi_n=pi\n",
    "    pi_ant=0\n",
    "    temp=0\n",
    "\n",
    "    while abs(pi_n-pi_ant)>0.0001:\n",
    "        \n",
    "        X_norm1=np.zeros(X.shape[1])\n",
    "        X_norm2=np.zeros(X.shape[1])\n",
    "        \n",
    "        for i in range(X.shape[1]):\n",
    "            X_norm1[i]=my_vnorm(X[:,i],u1,s1)\n",
    "            X_norm2[i]=my_vnorm(X[:,i],u2,s2)\n",
    "            \n",
    "        pc1=pi_n*X_norm1\n",
    "        pc2=(1-pi_n)*X_norm2\n",
    "        \n",
    "        gi=pc1/(pc1+pc2)\n",
    "        gi2=pc2/(pc1+pc2)\n",
    "        \n",
    "        n1=sum(gi)\n",
    "        n2=sum(gi2)\n",
    "        \n",
    "        u1=(np.dot(X,gi))/n1\n",
    "        u2=(np.dot(X,gi2))/n2\n",
    "        \n",
    "        t1=(np.transpose(X)-u1)\n",
    "        t2=(np.transpose(X)-u2)\n",
    "        \n",
    "        if temp==0:\n",
    "            pi_ant=pi\n",
    "            s1=np.array([np.zeros(X.shape[0]),np.zeros(X.shape[0])])\n",
    "            s2=np.array([np.zeros(X.shape[0]),np.zeros(X.shape[0])])\n",
    "            \n",
    "            for j in range(X.shape[1]):\n",
    "                st1=(X[:,j]-u1)\n",
    "                st2=np.array([[st1[0]],[st1[1]]])\n",
    "                st3=(X[:,j]-u2)\n",
    "                st4=np.array([[st3[0]],[st3[1]]])\n",
    "                s1=s1+(gi[j]*st1*st2)\n",
    "                s2=s2+(gi2[j]*st3*st4)\n",
    "        else:\n",
    "            pi_ant=pi_n\n",
    "        \n",
    "        pi_n=n1/n\n",
    "        temp=temp+1\n",
    "    \n",
    "    c=[]\n",
    "    for j in range(X.shape[1]):\n",
    "        if gi[j]>gi2[j]:\n",
    "            c.append(0)\n",
    "        else:\n",
    "            c.append(1)\n",
    "    \n",
    "    mu=np.array([u1,u2])\n",
    "    ss=np.array([s1,s2])\n",
    "    w_n=np.array([pi_n,(1-pi_n)])\n",
    "\n",
    "    return mu,ss,w_n,c"
   ]
  },
  {
   "cell_type": "code",
   "execution_count": 77,
   "metadata": {},
   "outputs": [
    {
     "data": {
      "text/plain": [
       "array([[ 71.94863624,  88.33383732],\n",
       "       [161.11200846, 120.26144506]])"
      ]
     },
     "execution_count": 77,
     "metadata": {},
     "output_type": "execute_result"
    }
   ],
   "source": [
    "media,var,prop,clas=my_em_gmm_mv(X_mv,0.5)\n",
    "media"
   ]
  },
  {
   "cell_type": "code",
   "execution_count": 78,
   "metadata": {},
   "outputs": [
    {
     "data": {
      "text/plain": [
       "array([[[3008.5       ,  462.5       ],\n",
       "        [ 462.5       ,  462.5       ]],\n",
       "\n",
       "       [[ 342.        ,  263.        ],\n",
       "        [ 263.        ,  222.83333333]]])"
      ]
     },
     "execution_count": 78,
     "metadata": {},
     "output_type": "execute_result"
    }
   ],
   "source": [
    "var"
   ]
  },
  {
   "cell_type": "code",
   "execution_count": 79,
   "metadata": {},
   "outputs": [
    {
     "data": {
      "text/plain": [
       "array([0.7624993, 0.2375007])"
      ]
     },
     "execution_count": 79,
     "metadata": {},
     "output_type": "execute_result"
    }
   ],
   "source": [
    "prop"
   ]
  },
  {
   "cell_type": "code",
   "execution_count": 80,
   "metadata": {},
   "outputs": [
    {
     "data": {
      "image/png": "[encoded data removed]",
      "text/plain": [
       "<Figure size 432x288 with 1 Axes>"
      ]
     },
     "metadata": {
      "needs_background": "light"
     },
     "output_type": "display_data"
    }
   ],
   "source": [
    "c_map = {0: 'deeppink', 1: 'teal', 2: 'violet'}\n",
    "\n",
    "plt.scatter(X_mv[0,:], X_mv[1,:], c=[c_map[_] for _ in clas], alpha=0.5)\n",
    "plt.show()"
   ]
  },
  {
   "cell_type": "code",
   "execution_count": 87,
   "metadata": {},
   "outputs": [
    {
     "name": "stdout",
     "output_type": "stream",
     "text": [
      "Collecting sklearn-extensions\n",
      "  Downloading https://files.pythonhosted.org/packages/c5/f0/af4a0885bbb04e88bb1f57ae82a4e811ac25c73616f844e0214b1be74a8e/sklearn-extensions-0.0.2.tar.gz\n",
      "Requirement already satisfied: numpy>=1.9.0 in c:\\anaconda3\\lib\\site-packages (from sklearn-extensions) (1.16.5)\n",
      "Requirement already satisfied: scikit-learn>=0.15 in c:\\anaconda3\\lib\\site-packages (from sklearn-extensions) (0.21.3)\n",
      "Requirement already satisfied: scipy>=0.16.0 in c:\\anaconda3\\lib\\site-packages (from sklearn-extensions) (1.3.1)\n",
      "Requirement already satisfied: joblib>=0.11 in c:\\anaconda3\\lib\\site-packages (from scikit-learn>=0.15->sklearn-extensions) (0.13.2)\n",
      "Building wheels for collected packages: sklearn-extensions\n",
      "  Building wheel for sklearn-extensions (setup.py): started\n",
      "  Building wheel for sklearn-extensions (setup.py): finished with status 'done'\n",
      "  Created wheel for sklearn-extensions: filename=sklearn_extensions-0.0.2-py2.py3-none-any.whl size=24582 sha256=d1adf96bb8e066d25aace34b0f8054b1c8b9bd14829296db2d561f549f0de348\n",
      "  Stored in directory: C:\\Users\\Evangelina Garza\\AppData\\Local\\pip\\Cache\\wheels\\b5\\26\\b2\\09100728168b45e4de834b943a588028744fdfaa9ac979ffb2\n",
      "Successfully built sklearn-extensions\n",
      "Installing collected packages: sklearn-extensions\n",
      "Successfully installed sklearn-extensions-0.0.2\n",
      "Note: you may need to restart the kernel to use updated packages.\n"
     ]
    }
   ],
   "source": [
    "#pip install sklearn-extensions"
   ]
  },
  {
   "cell_type": "code",
   "execution_count": 93,
   "metadata": {},
   "outputs": [
    {
     "data": {
      "text/plain": [
       "FuzzyKMeans(k=2, m=2, max_iter=100, random_state=0, tol=0.0001)"
      ]
     },
     "execution_count": 93,
     "metadata": {},
     "output_type": "execute_result"
    }
   ],
   "source": [
    "from sklearn_extensions.fuzzy_kmeans import KMedians, FuzzyKMeans\n",
    "X_mvt=np.transpose(X_mv)\n",
    "\n",
    "fuzzy_kmeans=FuzzyKMeans(k=2)\n",
    "fuzzy_kmeans.fit(X_mvt)"
   ]
  },
  {
   "cell_type": "code",
   "execution_count": 95,
   "metadata": {},
   "outputs": [],
   "source": [
    "clasi=fuzzy_kmeans.labels_"
   ]
  },
  {
   "cell_type": "code",
   "execution_count": 96,
   "metadata": {},
   "outputs": [
    {
     "data": {
      "image/png": "[encoded data removed]",
      "text/plain": [
       "<Figure size 432x288 with 1 Axes>"
      ]
     },
     "metadata": {
      "needs_background": "light"
     },
     "output_type": "display_data"
    }
   ],
   "source": [
    "c_map = {0: 'deeppink', 1: 'teal', 2: 'violet'}\n",
    "\n",
    "plt.scatter(X_mv[0,:], X_mv[1,:], c=[c_map[_] for _ in clasi], alpha=0.5)\n",
    "plt.show()"
   ]
  },
  {
   "cell_type": "code",
   "execution_count": 110,
   "metadata": {},
   "outputs": [
    {
     "data": {
      "text/plain": [
       "<Figure size 432x288 with 0 Axes>"
      ]
     },
     "metadata": {},
     "output_type": "display_data"
    },
    {
     "data": {
      "image/png": "[encoded data removed]",
      "text/plain": [
       "<Figure size 1440x720 with 2 Axes>"
      ]
     },
     "metadata": {
      "needs_background": "light"
     },
     "output_type": "display_data"
    }
   ],
   "source": [
    "fig = plt.figure() \n",
    "fig, axes = plt.subplots(nrows = 1, ncols = 2,figsize=(20,10))\n",
    "\n",
    "fig.suptitle('Clasificacion del conjunto de prueba')\n",
    "axes[0].scatter(X_mv[0,:], X_mv[1,:], c=[c_map[_] for _ in clas], alpha=0.5)\n",
    "axes[0].title.set_text('EM-GMM')\n",
    "axes[1].scatter(X_mv[0,:], X_mv[1,:], c=[c_map[_] for _ in clasi], alpha=0.5)\n",
    "axes[1].title.set_text('Fuzzy K Means')"
   ]
  },
  {
   "cell_type": "code",
   "execution_count": null,
   "metadata": {},
   "outputs": [],
   "source": []
  }
 ],
 "metadata": {
  "kernelspec": {
   "display_name": "Python 3",
   "language": "python",
   "name": "python3"
  },
  "language_info": {
   "codemirror_mode": {
    "name": "ipython",
    "version": 3
   },
   "file_extension": ".py",
   "mimetype": "text/x-python",
   "name": "python",
   "nbconvert_exporter": "python",
   "pygments_lexer": "ipython3",
   "version": "3.7.4"
  }
 },
 "nbformat": 4,
 "nbformat_minor": 2
}
