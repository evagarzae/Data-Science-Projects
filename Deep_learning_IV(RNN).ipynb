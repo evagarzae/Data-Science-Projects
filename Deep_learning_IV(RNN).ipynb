{
  "nbformat": 4,
  "nbformat_minor": 0,
  "metadata": {
    "accelerator": "GPU",
    "colab": {
      "name": "Tarea4_Evangelina_Garza.ipynb",
      "provenance": [],
      "collapsed_sections": [],
      "toc_visible": true
    },
    "kernelspec": {
      "display_name": "Python 3",
      "language": "python",
      "name": "python3"
    },
    "language_info": {
      "codemirror_mode": {
        "name": "ipython",
        "version": 3
      },
      "file_extension": ".py",
      "mimetype": "text/x-python",
      "name": "python",
      "nbconvert_exporter": "python",
      "pygments_lexer": "ipython3",
      "version": "3.8.5"
    },
    "latex_envs": {
      "LaTeX_envs_menu_present": true,
      "autoclose": false,
      "autocomplete": true,
      "bibliofile": "biblio.bib",
      "cite_by": "apalike",
      "current_citInitial": 1,
      "eqLabelWithNumbers": true,
      "eqNumInitial": 1,
      "hotkeys": {
        "equation": "Ctrl-E",
        "itemize": "Ctrl-I"
      },
      "labels_anchors": false,
      "latex_user_defs": false,
      "report_style_numbering": false,
      "user_envs_cfg": false
    },
    "toc": {
      "base_numbering": 1,
      "nav_menu": {},
      "number_sections": false,
      "sideBar": true,
      "skip_h1_title": false,
      "title_cell": "Table of Contents",
      "title_sidebar": "Contents",
      "toc_cell": false,
      "toc_position": {},
      "toc_section_display": true,
      "toc_window_display": false
    }
  },
  "cells": [
    {
      "cell_type": "markdown",
      "metadata": {
        "id": "1HxVVINzNqdN"
      },
      "source": [
        "# <center>Tarea 4<center>\n",
        "# <center>Para entregar el 13 de noviembre<center>"
      ]
    },
    {
      "cell_type": "markdown",
      "metadata": {
        "id": "wETcWo5PNqdP"
      },
      "source": [
        "## 1. En este ejercicio, implementarás un modelo de lenguaje a nivel de caracteres. Considera el siguiente código base para un texto en particular."
      ]
    },
    {
      "cell_type": "code",
      "metadata": {
        "id": "OrRWxWtdTWhm",
        "outputId": "d60280d8-68a0-4c60-a4eb-1b9e254729a2",
        "colab": {
          "base_uri": "https://localhost:8080/"
        }
      },
      "source": [
        "from google.colab import drive\n",
        "drive.mount('/content/drive')"
      ],
      "execution_count": 1,
      "outputs": [
        {
          "output_type": "stream",
          "text": [
            "Mounted at /content/drive\n"
          ],
          "name": "stdout"
        }
      ]
    },
    {
      "cell_type": "code",
      "metadata": {
        "id": "J6SuBSglHBJ-"
      },
      "source": [
        "import keras\n",
        "import numpy as np\n",
        "from keras import layers\n",
        "from keras.models import Sequential\n",
        "from keras.layers import Dense, Dropout, Flatten, BatchNormalization, Conv2D,Conv3D,LSTM,Bidirectional"
      ],
      "execution_count": 15,
      "outputs": []
    },
    {
      "cell_type": "code",
      "metadata": {
        "id": "6503DDcuNqdQ",
        "outputId": "877b3f94-5871-403b-8455-4a2d1c4e778c",
        "colab": {
          "base_uri": "https://localhost:8080/"
        }
      },
      "source": [
        "# en este ejemplo, se usa éste texto...\n",
        "path = '/content/drive/My Drive/Tarea4/nietzsche.txt'\n",
        "text = open(path).read().lower()\n",
        "print('Corpus length:', len(text))"
      ],
      "execution_count": 2,
      "outputs": [
        {
          "output_type": "stream",
          "text": [
            "Corpus length: 600893\n"
          ],
          "name": "stdout"
        }
      ]
    },
    {
      "cell_type": "markdown",
      "metadata": {
        "id": "33JrZDUeNqdV"
      },
      "source": [
        "Definimos las secuencias, vocabulario y demás cosas para el modelo"
      ]
    },
    {
      "cell_type": "code",
      "metadata": {
        "id": "05yBPaYSNqdW",
        "outputId": "c65f38a5-a012-4d03-96af-6be8d6b19b68",
        "colab": {
          "base_uri": "https://localhost:8080/"
        }
      },
      "source": [
        "# Length of extracted character sequences\n",
        "maxlen = 60\n",
        "# We sample a new sequence every `step` characters\n",
        "step = 3\n",
        "# This holds our extracted sequences\n",
        "sentences = []\n",
        "# This holds the targets (the follow-up characters)\n",
        "next_chars = []\n",
        "\n",
        "for i in range(0, len(text) - maxlen, step):\n",
        "    sentences.append(text[i: i + maxlen])\n",
        "    next_chars.append(text[i + maxlen])\n",
        "print('Number of sequences:', len(sentences))\n",
        "\n",
        "# List of unique characters in the corpus\n",
        "chars = sorted(list(set(text)))\n",
        "print('Unique characters:', len(chars))\n",
        "# Dictionary mapping unique characters to their index in `chars`\n",
        "char_indices = dict((char, chars.index(char)) for char in chars)\n",
        "\n",
        "# Next, one-hot encode the characters into binary arrays.\n",
        "print('Vectorization...')\n",
        "x = np.zeros((len(sentences), maxlen, len(chars)), dtype=np.bool)\n",
        "y = np.zeros((len(sentences), len(chars)), dtype=np.bool)\n",
        "for i, sentence in enumerate(sentences):\n",
        "    for t, char in enumerate(sentence):\n",
        "        x[i, t, char_indices[char]] = 1\n",
        "    y[i, char_indices[next_chars[i]]] = 1"
      ],
      "execution_count": null,
      "outputs": [
        {
          "output_type": "stream",
          "text": [
            "Number of sequences: 200278\n",
            "Unique characters: 57\n",
            "Vectorization...\n"
          ],
          "name": "stdout"
        }
      ]
    },
    {
      "cell_type": "markdown",
      "metadata": {
        "id": "dA0gu6b2NqdZ"
      },
      "source": [
        "Ahora, considera éste modelo como el baseline"
      ]
    },
    {
      "cell_type": "code",
      "metadata": {
        "id": "zIQgT0YeNqda",
        "outputId": "29734bed-d524-489a-8e87-c9638c76f895",
        "colab": {
          "base_uri": "https://localhost:8080/"
        }
      },
      "source": [
        "model = Sequential()\n",
        "model.add(layers.LSTM(128, input_shape=(maxlen, len(chars))))\n",
        "model.add(layers.Dense(len(chars), activation='softmax'))\n",
        "\n",
        "optimizer = keras.optimizers.RMSprop(lr=0.01)\n",
        "model.compile(loss='categorical_crossentropy', optimizer=optimizer)\n",
        "model.summary()"
      ],
      "execution_count": null,
      "outputs": [
        {
          "output_type": "stream",
          "text": [
            "Model: \"sequential\"\n",
            "_________________________________________________________________\n",
            "Layer (type)                 Output Shape              Param #   \n",
            "=================================================================\n",
            "lstm (LSTM)                  (None, 128)               95232     \n",
            "_________________________________________________________________\n",
            "dense (Dense)                (None, 57)                7353      \n",
            "=================================================================\n",
            "Total params: 102,585\n",
            "Trainable params: 102,585\n",
            "Non-trainable params: 0\n",
            "_________________________________________________________________\n"
          ],
          "name": "stdout"
        }
      ]
    },
    {
      "cell_type": "markdown",
      "metadata": {
        "id": "lt-4kiXsNqdd"
      },
      "source": [
        "Lo siguiente es entrenar el modelo, dar una secuencia inicial y generar texto a partir de esto. \n",
        "Una modificación para tratar de evitar la repetitividad de las secuencias generadas (sobre todo en las primeras épocas del entrenamiento), es modificar la distribución de probabilidad `softmax` para introducir cierta aleatoriedad en el proceso de muestreo (stochastic sampling). A partir de cierto parámetro (\"temperatura\"), se construye una nueva distribución de probabilidad de las salidas del modelo. El siguiente código implementa ésta idea."
      ]
    },
    {
      "cell_type": "code",
      "metadata": {
        "id": "BZ1YdfoINqde"
      },
      "source": [
        "def sample(preds, temperature=1.0):\n",
        "    preds = np.asarray(preds).astype('float64')\n",
        "    preds = np.log(preds) / temperature\n",
        "    exp_preds = np.exp(preds)\n",
        "    preds = exp_preds / np.sum(exp_preds)\n",
        "    probas = np.random.multinomial(1, preds, 1)\n",
        "    return np.argmax(probas)"
      ],
      "execution_count": 3,
      "outputs": []
    },
    {
      "cell_type": "markdown",
      "metadata": {
        "id": "xlXC2l_hNqdk"
      },
      "source": [
        "El modelo de lenguaje queda entonces como"
      ]
    },
    {
      "cell_type": "code",
      "metadata": {
        "id": "ZIIR4wUwiyV5"
      },
      "source": [
        "import random\n",
        "import sys"
      ],
      "execution_count": 4,
      "outputs": []
    },
    {
      "cell_type": "code",
      "metadata": {
        "id": "5raH18rENqdm",
        "outputId": "920e11a1-99f8-44fa-c0a2-9018d86ee4e1",
        "colab": {
          "base_uri": "https://localhost:8080/"
        }
      },
      "source": [
        "for epoch in range(1, 60):\n",
        "    print('epoch', epoch)\n",
        "    # Fit the model for 1 epoch on the available training data\n",
        "    model.fit(x, y,\n",
        "              batch_size=128,\n",
        "              epochs=1)\n",
        "\n",
        "    # Select a text seed at random\n",
        "    start_index = random.randint(0, len(text) - maxlen - 1)\n",
        "    generated_text = text[start_index: start_index + maxlen]\n",
        "    print('--- Generating with seed: \"' + generated_text + '\"')\n",
        "\n",
        "    for temperature in [0.5, 1.0]:\n",
        "        print('------ temperature:', temperature)\n",
        "        sys.stdout.write(generated_text)\n",
        "\n",
        "        # We generate 400 characters\n",
        "        for i in range(400):\n",
        "            sampled = np.zeros((1, maxlen, len(chars)))\n",
        "            for t, char in enumerate(generated_text):\n",
        "                sampled[0, t, char_indices[char]] = 1.\n",
        "\n",
        "            preds = model.predict(sampled, verbose=0)[0]\n",
        "            next_index = sample(preds, temperature)\n",
        "            next_char = chars[next_index]\n",
        "\n",
        "            generated_text += next_char\n",
        "            generated_text = generated_text[1:]\n",
        "\n",
        "            sys.stdout.write(next_char)\n",
        "            sys.stdout.flush()\n",
        "        print()"
      ],
      "execution_count": null,
      "outputs": [
        {
          "output_type": "stream",
          "text": [
            "epoch 1\n",
            "1565/1565 [==============================] - 10s 7ms/step - loss: 1.9595\n",
            "--- Generating with seed: \"letion, of final unity--it is the \"sabbath of\n",
            "sabbaths,\" to \"\n",
            "------ temperature: 0.5\n",
            "letion, of final unity--it is the \"sabbath of\n",
            "sabbaths,\" to life of the conseqlection have a more leads and the creation and the arible the meand of the way it is the have the beever the staken strengure and the man maniunds the faurity of\n",
            "the belief indecisifice of the struction what he comes and\n",
            "acts of himself and the freeht and the privide to the manition the selically paraling for the made of the entrus langer and the daving progation the seife and al\n",
            "------ temperature: 1.0\n",
            " the entrus langer and the daving progation the seife and all this intluation. and discertinally one the impirtace of vout of the byualler ghdytruoumaniny\n",
            "wisue was its alutglies of the late and lejuso icon it suthe opposly\n",
            "ovility--when\n",
            "sever--mant getmer laigity, subleaks tench.=\n",
            " wanith dom, and if the\n",
            "himself, which incless withseloss desard symfay--by the beluemes wat flerom, indoants\n",
            "freemen\n",
            "all the hastiodly comethy reprept or the from unday tastand\n",
            "epoch 2\n",
            "1565/1565 [==============================] - 10s 7ms/step - loss: 1.6172\n",
            "--- Generating with seed: \"etrifaction, a hatred surmounting love, perhaps a\n",
            "sacrilegio\"\n",
            "------ temperature: 0.5\n",
            "etrifaction, a hatred surmounting love, perhaps a\n",
            "sacrilegion, which a proped and soul all the seiftions as in the constituted proved to man as the in the science of so a values, as he he will our our say. i perhaps the religion.\n",
            "\n",
            "\n",
            "13\n",
            "\n",
            "\n",
            "gand men as all event cares of the baticion of aschers of the man as such and are the\n",
            "the contratical as a way well in the self existent of the free of which it is the prilom itself which has\n",
            "grate of the have and the man i\n",
            "------ temperature: 1.0\n",
            " the prilom itself which has\n",
            "grate of the have and the man is\n",
            "dament, destlence as askeathy condulgate hindary, to be my\n",
            "ghist\n",
            "religios, artious any\n",
            "crumation is victiom prefent the ry remaind as antespore as by now, proces as man--is philosofour--us sut into ed to gred=! and allce\n",
            "overs of influced\n",
            "in\n",
            "outing shey theee comsela, is eltyands. dut shimation of parises were as himself ootionmbe of unwadred badgerated to mischion which is psicolosy and my mose\n",
            "epoch 3\n",
            "1565/1565 [==============================] - 10s 7ms/step - loss: 1.5290\n",
            "--- Generating with seed: \"rs (of predecessors, of the constitution, of justice, of\n",
            "the\"\n",
            "------ temperature: 0.5\n",
            "rs (of predecessors, of the constitution, of justice, of\n",
            "the dowable to the same arorble to make the man is the disposing the stone stronger of prope formed as in the fact the same still in the other has the forming sacks on the world and simplist to one the soul is the most deception of \"good seems the soul and the intermation of in order toound to much the conceals to the still and truth and they not of individuals the still not has the consider to the s\n",
            "------ temperature: 1.0\n",
            "y not of individuals the still not has the consider to the should in the ach stateful and quationsess. and into a nessument of ade a befinn wipes\n",
            "myself as not not \"these taste of whother has its\n",
            "ansiemers to were this may and the obainapidation, only cames truth of eyels antiects, why here. if a super-wright, he apparated\" an impevaiting-without \"idea or divers\" to christ he man signer which a toothers undisensituines of a have ad estimes\n",
            "to here also dec\n",
            "epoch 4\n",
            "1565/1565 [==============================] - 10s 7ms/step - loss: 1.4828\n",
            "--- Generating with seed: \" gods\n",
            "and is as a poet so good natured to them that he must \"\n",
            "------ temperature: 0.5\n",
            " gods\n",
            "and is as a poet so good natured to them that he must not the regarded to be are must the begons the spirit and the drise and persons and to perhaps that one must does not to the\n",
            "pain and sufferient the could that the most do more its whole to the most part of the comparation of his own its former as a propessions, it is in say, as the respect to be by the faction of his plought and because and a propessions and schools surpise to element and commoni\n",
            "------ temperature: 1.0\n",
            "and a propessions and schools surpise to element and commonity through them nowadays whole\n",
            "circreat continicatio hored? somebleny of festive to his middles its artitions\n",
            "of inmuse todature as instincts, consegates phecit not to declaled frome wingeu, thus sous it has has, so sollect. your experiencik \"above\n",
            "the veryologationsfurl--ataming of thestallers.\n",
            "\n",
            "\n",
            "1db\n",
            "\n",
            "=bstied and generate : dis entiunity\"--in all touck arnold athaments onges and such dormine one \n",
            "epoch 5\n",
            "1565/1565 [==============================] - 10s 7ms/step - loss: 1.4518\n",
            "--- Generating with seed: \"onfronted with many opposing sketches that\n",
            "would create a mo\"\n",
            "------ temperature: 0.5\n",
            "onfronted with many opposing sketches that\n",
            "would create a most to all the faculty the germans and according to of the world of entire and opposite is the master of the makes of a present can mander all the more pate intereroked of\n",
            "morality and interestrous concerning and according to all its influence of the most contemplation of contemplate to himself of the philosopher to have reverge of the \"man, and the world to a therefore, upon the most are conscienc\n",
            "------ temperature: 1.0\n",
            "n, and the world to a therefore, upon the most are conscience, life popined is plice were\n",
            "emplac. \"bad to cases to juplic causakery and cisiral\n",
            "arament and suffery, thist of so healtion taaking. the purtorses. sueped uolenscelateful mabitrable can accide and almost\n",
            "untated according siting of the gealiers were it is\n",
            "tastes the appairated italists of fary to ta such unfours condition or that states\n",
            "woman of a suctorrus from condects of the comparisadeetatio\n",
            "epoch 6\n",
            "1565/1565 [==============================] - 10s 7ms/step - loss: 1.4292\n",
            "--- Generating with seed: \" man, from whom the ordinary\n",
            "bondages of life have fallen aw\"\n",
            "------ temperature: 0.5\n",
            " man, from whom the ordinary\n",
            "bondages of life have fallen away and pure instincts, and could be been out of the metaphysical and strong that is to more submit not to so the more that a higher and instincts without strong sympathy of the some significance of the hard to a sublime of the habition of the things of the soul are to know to define to the spirit of mankind even exemblecence is to happen of the immense of an absurplese of mankind, is thus express \n",
            "------ temperature: 1.0\n",
            "of the immense of an absurplese of mankind, is thus express age noc refaits of a done course to a mu world was not case ysurely to ye hamses, formulness that circle, to eartes\".\n",
            "\n",
            "1or and o;\n",
            "ascerlazbe which and called and derest and shabout to\n",
            "done\n",
            "in faesibler; it has wise whithly nouplekeneds is instincts unlesstations to know his formuls seems this isble asty, seem ly!\n",
            "\n",
            "=\n",
            "stand of man, soued in too mutt valueaus it tha sion, ambigues\n",
            "and hupalm utility \n",
            "epoch 7\n",
            "1565/1565 [==============================] - 10s 7ms/step - loss: 1.4109\n",
            "--- Generating with seed: \"h stands still,\" and\n",
            "thus, apparently, allowing with complac\"\n",
            "------ temperature: 0.5\n",
            "h stands still,\" and\n",
            "thus, apparently, allowing with complace and delight and say, as last with the profoundly to good and satisfaction and even see sweeth and possible these sense of the world of the standard man who is distinguished for the soul, and as a delicate and senses in the say, and allough of the promise, as it is the same honger is not the occation of the senses of the senses and store promises of pationated and lentle that the entraint the goo\n",
            "------ temperature: 1.0\n",
            " promises of pationated and lentle that the entraint the good paroneaty of the deuthor last more of them noeved have\n",
            "he do the tra\"e\n",
            "onequatically, fray \n",
            "hough for its comschers\n",
            "in pad mupratifoed bde faurdherodfuls, enough and the modisted present discrecouveably and state persons which has alreadyad. it is that much all the ictent our earlied a rain of a\n",
            "ways forget goving pointicall\", doings\n",
            "or\n",
            "voet respectable lartinging--whether\n",
            "then only the charms t\n",
            "epoch 8\n",
            "1565/1565 [==============================] - 10s 7ms/step - loss: 1.3982\n",
            "--- Generating with seed: \" necessarily doubts the\n",
            "value of life; were it possible for \"\n",
            "------ temperature: 0.5\n",
            " necessarily doubts the\n",
            "value of life; were it possible for any most connection of a greater of the greater some far has a laws more for the enemoral developments of the enough and and\n",
            "the most understand to contrary interpretental man as we does not philosopher and be seating self-regroistentarian and still\n",
            "be stronger in their present tender of the habits and deterioration, should the comprehend, the states of its all the sacrifice of all the long the sa\n",
            "------ temperature: 1.0\n",
            ", the states of its all the sacrifice of all the long the saitts and always, the regell\n",
            "has hithertunevery a it has or to hate errormunlently sick and different and\n",
            "by then the bad worcks for himself, and included and philosophers--this displabous thric\", on a production. he or sight\n",
            "and new had made by the our sores itne astrowg\n",
            "is\n",
            "more reposider: gives of relations, the strangely perhaps popurers-goom for to he\n",
            "moreny resigoride itself\n",
            "and amorniculastar\n",
            "epoch 9\n",
            "1565/1565 [==============================] - 10s 7ms/step - loss: 1.3847\n",
            "--- Generating with seed: \"nything that went before or came after. we are hungry,\n",
            "but o\"\n",
            "------ temperature: 0.5\n",
            "nything that went before or came after. we are hungry,\n",
            "but only in the end and compart of the same and according to the state, who not be astraim, and in every one superment contrading and into the most in the religious to meded and by all the hand in our personal existence in the present and fines. and in our power and the sense for the most profoundness of the pate of the same\n",
            "is its probable and scientifical fuility and general pate and freedom that it \n",
            "------ temperature: 1.0\n",
            "d scientifical fuility and general pate and freedom that it is stroped\n",
            "ccraleds as one planting corresch--for not only more intervally in shart, a same hitherto lay life. to their arspiritune of senditids to the slave-eventure of premagance in the scientifications of\n",
            "could laistness, is promish to ut, so arroganes\n",
            "homencesoles that all hinds this religious stoper of a decepted seems with the acboural, or to freedom when its many infinilit alo ksent, howe: \n",
            "epoch 10\n",
            "1565/1565 [==============================] - 10s 7ms/step - loss: 1.3747\n",
            "--- Generating with seed: \"mmoral. whoever desires no more\n",
            "of things than knowledge of \"\n",
            "------ temperature: 0.5\n",
            "mmoral. whoever desires no more\n",
            "of things than knowledge of the sense of the more although the fact of the spirit and the proud of the present become nature and the free of this more understand the element of the difficult to an europely and above all the sense of the stand of the spirit and not and means of the spirit of the spirit and the most to the strongness of the struggle respect to specion of the christian the means of the spirit to consciously the\n",
            "------ temperature: 1.0\n",
            " of the christian the means of the spirit to consciously the good from the pesitiors, is not. but, they are, and has aworabses, youth--could nouding, if a greaterity and solitudenitious umport girse: the stife to short and crime desire of vained former he ry natorame!\n",
            "i unden ahonly ryervate when ethicism, i is need such a by be utilitary away and \"antificated the same weaking be\n",
            "latest it out of impulse uncircum by the say what is a german that they  i  \"\n",
            "epoch 11\n",
            "1565/1565 [==============================] - 10s 7ms/step - loss: 1.3668\n",
            "--- Generating with seed: \"t endurable to them, it\n",
            "operates upon them as the epicurean \"\n",
            "------ temperature: 0.5\n",
            "t endurable to them, it\n",
            "operates upon them as the epicurean of all to the sense and confidence,\n",
            "and that is some are of a persons\n",
            "of the subjured to his all conceited, shart and have all one has comporable of a danger. the spirituality, and is to comparrations of his aget and christian for the social of any conseditions for insulfure, that is also the master of the\n",
            "sension of the consequently consequently to the belieed, and which that his side of a such b\n",
            "------ temperature: 1.0\n",
            "equently to the belieed, and which that his side of a such but still and himself who\n",
            "cease\n",
            "had breavtle is not toume.\n",
            "to suc: the your olngarily though imversely itself, and toonate had as resulo the\n",
            "  \n",
            " yor saint and crodiced by comportier\n",
            "habitually persimity of one's evenc, in the troube with clief--in rulgly northly and whole\n",
            "danger of import of this farly only metaphysical coirults himself. whas have philosophy, fordments of disgoning, and gains in hi\n",
            "epoch 12\n",
            "1565/1565 [==============================] - 10s 7ms/step - loss: 1.3586\n",
            "--- Generating with seed: \" the healing art! through bad female cooks--through the enti\"\n",
            "------ temperature: 0.5\n",
            " the healing art! through bad female cooks--through the entially be states, intension of an importanting at his egoist of the nothing and the thing and answer moral faculty of the praise and are only the general the the immoral\n",
            "man of the the particions of the desires of a spirit to the origin which we will\n",
            "be disamely despectiony, the seath the sensition of injury in the man--as a supposition. as the to\n",
            "see the beautiful religion, as a demoniving to moral\n",
            "------ temperature: 1.0\n",
            " the to\n",
            "see the beautiful religion, as a demoniving to moralist,\n",
            "conditional to suffered sympathy non echums; as so says bring many discause--the \"\"dirble fond--the\n",
            "wild\n",
            "in man are smeech excellably\n",
            "think, is\n",
            "imbence, else our buss as the spirit man all very learn tempo-sence of\n",
            "the moagion of the later effect\n",
            "of certainty, as a ruling marality: the kant in the the other with excolxider-pide\n",
            "to the full before exception? in one has bieck, as sunts with int\n",
            "epoch 13\n",
            "1565/1565 [==============================] - 10s 7ms/step - loss: 1.3509\n",
            "--- Generating with seed: \"perhaps\n",
            "because the good opinion of others, even in cases wh\"\n",
            "------ temperature: 0.5\n",
            "perhaps\n",
            "because the good opinion of others, even in cases which only as the means of a thing and loud from the soul, in the sense of this exaggeration is the such as the fair of women the a\n",
            "spreed and perceives things and exists of the conceptions of everything that a conscienticism of the sole and possiblipate and something still as he desires the discoverer that the instincts of their accurately of har own \"the pessistic and virtues of states of the form\n",
            "------ temperature: 1.0\n",
            " of har own \"the pessistic and virtues of states of the form, he we--\"as no demraint the\n",
            "instance\n",
            "mander then its own faurable freder haregest inventings cherest no percie: : that paticy, by discoursigation to matalicist name--but there some lait perilor right the unsvained reading tragedy, as or--knowledg the worst,\n",
            "the latter calre motses give themselves as adops that\n",
            "enough sometimes and\n",
            "noesaus faurs\n",
            "bornging\n",
            "class, which that store almost masten\n",
            "the\n",
            "s\n",
            "epoch 14\n",
            "1565/1565 [==============================] - 10s 7ms/step - loss: 1.3470\n",
            "--- Generating with seed: \"\n",
            "got eyes for beholding this marvel! how we have made everyt\"\n",
            "------ temperature: 0.5\n",
            "\n",
            "got eyes for beholding this marvel! how we have made everything\n",
            "aristochasis when one the same spirit in\n",
            "the same and free time to immeriater the standard for sympathicas, the most man who has\n",
            "regarded always something and the part of which we the man in the world of the degine of the same the same and of the same\n",
            "because every one the praise of which is its strive the means of the thing and which the sense of a long in the determine of a delight in which\n",
            "------ temperature: 1.0\n",
            "h the sense of a long in the determine of a delight in which followiges or were prevailing of ripectionsy of the new prejudice of imposite, into and society as ex: in\n",
            "everthether metshuchess and of lengured, there are there is \"to many manior instance, exterpous\n",
            "injured. proople materaking at an eknowarlys, to axistowadnes, mecactment concerning has adouted indigionurion\n",
            "i judgmenting quinciated\n",
            "strong and nature and too spe con\n",
            "e\n",
            "making unforefler deceive\n",
            "epoch 15\n",
            "1565/1565 [==============================] - 10s 7ms/step - loss: 1.3417\n",
            "--- Generating with seed: \"clearly and sharply defined\n",
            "before me, according to the thou\"\n",
            "------ temperature: 0.5\n",
            "clearly and sharply defined\n",
            "before me, according to the thought the subjection of the general and the germans of the confoulour one that the end one is the first to european language and sharp\"; as the about to rained all the word our spirit, one is the conscious of the sought of the stand of the conscience of the same science, and one, in the strengest to do the existence of the ear are with the sense of the decelontion of the contrary the god, the sense \n",
            "------ temperature: 1.0\n",
            "sense of the decelontion of the contrary the god, the sense them. the hise of the most tolemates of its romanuable\n",
            "great\n",
            "sentimen to have act, which for varish of hereters; as an exercise its\n",
            "looks in the altarigy of the spirit praise, prised for a\n",
            "most certain judgmentsboums, case nepthe still the braindly--but ancatibnes them, thus still books that one sympathy for the desire,\n",
            "she lood enemy, and capacity not pri(arfies the\n",
            "deastome upon praise, the inni\n",
            "epoch 16\n",
            "1565/1565 [==============================] - 10s 7ms/step - loss: 1.3366\n",
            "--- Generating with seed: \"\n",
            "a question, always, of self preservation. socrates and plat\"\n",
            "------ temperature: 0.5\n",
            "\n",
            "a question, always, of self preservation. socrates and plato which is a suffering, and the being all the respected in such present it in the same in generally be been the sense of the far his experience the spirit of the spirit of the sympathy and the respected by the conscience of a strong the same read of the same the spirit and the\n",
            "self-existing us all the inclarment of the best and surmanded in the same all the same still been on the superited\n",
            "of the \n",
            "------ temperature: 1.0\n",
            "in the same all the same still been on the superited\n",
            "of the great by that which the\n",
            "natmonally carritt; who that conception with its amony its owings surpenage--about that perhaps be in means that every german least doje such obep\"ing and vingle that he\n",
            "that rome': the\n",
            "toherom this jomective\n",
            "pleasuriblly higher of all palt, virtuage omer's struston, by might our disposed hitherto been the senses\") al what is ensulictpriging the\n",
            "say, and mankind--and habit \n",
            "epoch 17\n",
            "1565/1565 [==============================] - 10s 7ms/step - loss: 1.3328\n",
            "--- Generating with seed: \"l synthetic tasks and capabilities; at another time\n",
            "it was t\"\n",
            "------ temperature: 0.5\n",
            "l synthetic tasks and capabilities; at another time\n",
            "it was them and explanation of the sign the community of the moral higher one for his soul has as a more instinct and the more free does he does not cares the same also\n",
            "in the present a chants of the diraction of the powerful expressed and as to be depodleture and morality is to the strong condition of the faculy to had in the best recoure of the form of a societius the free will hortion his conduct to th\n",
            "------ temperature: 1.0\n",
            " form of a societius the free will hortion his conduct to themselves\n",
            "perpetually some so\n",
            "stirture,\n",
            "harlgy, and safe\n",
            "is perhaps preducted in powine in a nature without he\n",
            "feel says a man who statgious primplation. they ters\n",
            "down to generation, and\n",
            "always for others at res\"lumiars\n",
            "of cellentrome). upon any-has friends, that where in\n",
            "the superiority of his sough\n",
            "is a nictle appear to pleasure than the\n",
            "holituas of pulsive thus\n",
            "not hitherto mere simer\n",
            "muchs,\n",
            "mo\n",
            "epoch 18\n",
            "1565/1565 [==============================] - 10s 7ms/step - loss: 1.3273\n",
            "--- Generating with seed: \"s sought precisely and exclusively in\n",
            "what seems dangerous t\"\n",
            "------ temperature: 0.5\n",
            "s sought precisely and exclusively in\n",
            "what seems dangerous them are the science of the present, which part only the read and all heart a man which has been concealments of the sensition of success.\n",
            "\n",
            "\n",
            "1\n",
            "is the strengther and the definite for the support of things of the character interpretation of the religions of the lively and the tastes of the happiness\"\n",
            "of the daring and conscious for a soul and there is the superiority of the conception of the scheolov\n",
            "------ temperature: 1.0\n",
            "d there is the superiority of the conception of the scheoloved there the conxed once dover even in the pliach' and\n",
            "wants around, work as the eachmenting for hexciputive age the, inmerting this descences and unypon to\n",
            "did a called that one may\n",
            "whole his influence--however, erar, as i; that is that affuected\n",
            "that it may slaved\n",
            "hippened in pant our tro\n",
            "ques, without under\n",
            "the a only schopred, inrecre, one really in the day, he knows nature naturals of a cod t\n",
            "epoch 19\n",
            "1565/1565 [==============================] - 10s 7ms/step - loss: 1.3250\n",
            "--- Generating with seed: \"re and stop--better your wrath could speak!\n",
            "     i am not i?\"\n",
            "------ temperature: 0.5\n",
            "re and stop--better your wrath could speak!\n",
            "     i am not i? he has them called the experience of the father of the pleasure of the want in the predicwilous the consideration of the scholarsing of the scholars of the about them of his sentiment and the consideration of the been conception of the other way of a religion of the strength of morality of the world and an impulses of the world and present on the primorotic and constrain of a man who has the most\n",
            "------ temperature: 1.0\n",
            "nt on the primorotic and constrain of a man who has the most trage him, and almost dlones upon expression. of the \"hugrating himself or even upbressied through as nedborung. the partsome\n",
            "thereby\n",
            "a so. one a had over adoration, impossible, in, every reality,\n",
            "so amery it noty-imeny and inachent that in this partpond and evil that of which some relations, the includity it\n",
            "os\n",
            "effect on when onle gullching wholeiten life, the houbling by man for impulsion in\n",
            "ac\n",
            "epoch 20\n",
            "1565/1565 [==============================] - 10s 7ms/step - loss: 1.3214\n",
            "--- Generating with seed: \"hment of worldly justice or of the contempt of one's fellow \"\n",
            "------ temperature: 0.5\n",
            "hment of worldly justice or of the contempt of one's fellow in such originally for the fact of the sin of the whole work of a perilicism of his senses the sense of the end of the perturbous courses of its will be a man is a delight of exelties are belief the most conscience and interest one of the spiritual of the purpose of the world and or heart of the soul and in which sensuality is the discounted of which\n",
            "which all here all in the conscience of every f\n",
            "------ temperature: 1.0\n",
            "ted of which\n",
            "which all here all in the conscience of every facts of horthing of the end, evidents of a matter of erroun of conduct, northing -promise,\n",
            "such anodhul.\n",
            "\n",
            "\n",
            "3\n",
            "\"=? (which he present and i rifflitioning this\n",
            "well, to\n",
            "great cimcula, as \"unaverity, with seeks\n",
            "as afterfanwal innocknce, altohet modest false that costement the will of\n",
            "functibly end to the evildagns of relating to compassion\n",
            "of aport.\n",
            "\n",
            "\n",
            "1\n",
            "\n",
            "=xked and, merely, of the butance, through the c\n",
            "epoch 21\n",
            "1565/1565 [==============================] - 10s 7ms/step - loss: 1.3165\n",
            "--- Generating with seed: \"ent at the secret hardship of our lot. but\n",
            "do what we will, \"\n",
            "------ temperature: 0.5\n",
            "ent at the secret hardship of our lot. but\n",
            "do what we will, that the amount of the never conscious period\n",
            "and man from a soul and the case and all its last the type of the has endity, and in the constiticage, and perhaps a mind and experience of the personage and acts of the greatest of the religion of the same the soul is a action than the most contempt of the fact of the gradations. the soul is all heart it say that it is to be reception in the gradually\n",
            "------ temperature: 1.0\n",
            "all heart it say that it is to be reception in the gradually was the wring some german find of similatian. the highest catious framant, who the german has no mort called obedience! on the\n",
            "origin (or if that species and comeon expressend\" than unday, something make innocent, and it can grow the more things of the proble on sobinions of thos strength can a perfecting o unajuater that his\n",
            "lowed all the inrecoing to be surgress, how for the schollcerranem of e\n",
            "epoch 22\n",
            "1565/1565 [==============================] - 10s 7ms/step - loss: 1.3145\n",
            "--- Generating with seed: \" satisfactorily disguised by christian pantomime, and by pra\"\n",
            "------ temperature: 0.5\n",
            " satisfactorily disguised by christian pantomime, and by prace when he say, the same say of a perhaps in the sense of the distrustful, and man who is all the most present,\n",
            "when there is a soul is not the delightful and distinctious and belief in the fact of distinction in a fact in the doubt and spiritual order of the same is the more more words of every po-caller this persons of a suffering they are for the consequently to be more formul and worth because\n",
            "------ temperature: 1.0\n",
            "are for the consequently to be more formul and worth because (as in the complemes who feels fred itself to our philosophy an individualsike,\n",
            "in the doubtful seupourer are although must naturene analys.=--' \"hend\n",
            "the\n",
            "advantalian would not revels itself of done merely as holy beswapedness oh the fu\"ded\n",
            "by their existine in their own common self presence must be art is lone,\" we now evil; in the barder of, still\n",
            "doings.\"\n",
            "\n",
            "\n",
            "71\n",
            "\n",
            "=even intentions, dulg in the hy\n",
            "epoch 23\n",
            "1565/1565 [==============================] - 11s 7ms/step - loss: 1.3112\n",
            "--- Generating with seed: \"erable--the more remote is its origin, the more\n",
            "confused tha\"\n",
            "------ temperature: 0.5\n",
            "erable--the more remote is its origin, the more\n",
            "confused that in this mistaken to power than the soul, in an interesting of being into the same distrust, and degrue of heredity and\n",
            "the way\n",
            "in\n",
            "the disposing man believe on the entire place of the spirit and motion is discipline but the strength to imdering the proves of the than the same reason and all something would be strength the delicate disting the struggle and which the strength and proposicial to\n",
            "met\n",
            "------ temperature: 1.0\n",
            "g the struggle and which the strength and proposicial to\n",
            "met of patina god-seriently bordoms even before the last eternisk\n",
            "than which all very ciestibicating much to god\"\n",
            "much gausties falsely not\n",
            " quity would no fye, howef mphols, terrible, lises a\n",
            "lof of belief in all summard, for regigly morality of man never is he vary contemptived with entawly it, whieher it is\n",
            "had a\n",
            "socnal have\n",
            "neft.\" has\n",
            "raince who leed it\n",
            "himself alse. mutuke\n",
            "a\n",
            "concettation:\n",
            "the so\n",
            "epoch 24\n",
            "1565/1565 [==============================] - 10s 7ms/step - loss: 1.3079\n",
            "--- Generating with seed: \"ery good! now let us set our\n",
            "teeth firmly! let us open our e\"\n",
            "------ temperature: 0.5\n",
            "ery good! now let us set our\n",
            "teeth firmly! let us open our existence, and such an our first spirits, without a superiority of the distinguish and sense. the most believe that it is exercise of the same are superstition that it is the belief up the helves of the species to delicate the distinguish the senses of the sense of a decly and the still a thing the actions of the distinguise in the same are false the discoverened upon the bad this all invention of \n",
            "------ temperature: 1.0\n",
            "e false the discoverened upon the bad this all invention of the delusions to passion; a perceive, hearthity--aparity and word, the spirits) for one must diestic galonp\"!\n",
            "\n",
            "\n",
            "hout any distinguish the most preficuialy--and string--in no realtusted dogman-blybventure propeosticulonher, will\n",
            "rither sowio generation: the vigoustanity and spirit an to genius sufficier, it, it\n",
            "cannot knows,ar in, i well,\n",
            "that he will peblition. but the still expression: -which this\n",
            "epoch 25\n",
            "1565/1565 [==============================] - 10s 7ms/step - loss: 1.3055\n",
            "--- Generating with seed: \"d to make bad are just as\n",
            "little counter-arguments. a thing \"\n",
            "------ temperature: 0.5\n",
            "d to make bad are just as\n",
            "little counter-arguments. a thing the man in the subtle them have to be uneasing sense that the delight in the powerful and of distinguish the spirit. there is a their act and art only something the consideration of the boot of the distrust of which the life and the same strength in the human whose and the spirit and the strengther for the man in the sense of the pation of the superficious to be says in the strong and stronger to \n",
            "------ temperature: 1.0\n",
            "f the superficious to be says in the strong and stronger to much\n",
            "takes allording interporation, as as azzpowlition to bring and any oftencent\n",
            "prepared to stimatelavers beelsowarge, without it as it is once does life\n",
            "advocity and bornang demand at the human dangers of sciente,\n",
            "is the ascetinatherikes-samn\n",
            "as a person conversable possibleed. in a naturals specie of things, and his time, as one mere\n",
            "quite existence\n",
            "like a general scientific princals actial ha\n",
            "epoch 26\n",
            "1565/1565 [==============================] - 10s 7ms/step - loss: 1.3036\n",
            "--- Generating with seed: \"verything is compulsory,\n",
            "everything can be mathematically ca\"\n",
            "------ temperature: 0.5\n",
            "verything is compulsory,\n",
            "everything can be mathematically cases of the same spiritual perporance is believed to delight and assertions in a delicate one another who founder of the confod and formerly before suffering the amage of the sense of the contempt of his present serience, which all the are of the primordial and science of the presence of the excession of a strengther in the world the truth of the fact anything that the same have to the conceivaring\n",
            "------ temperature: 1.0\n",
            " of the fact anything that the same have to the conceivaring, the\n",
            "worshine--namely instinction of musical nowadays? the honorians then when the spirit makin of the\n",
            "world that becaused in a has view another. there it is it into certained of the inredial believed to the most my\n",
            "spirit. he were all eperance has account really hundance have to that will be word lates of the lassion of prey\n",
            "is they\n",
            "thekeltice happen-hard\" that the pecthing help\n",
            "would questionme\n",
            "epoch 27\n",
            "1565/1565 [==============================] - 10s 7ms/step - loss: 1.3009\n",
            "--- Generating with seed: \" so called badness the degree of\n",
            "pain thereby experienced is\"\n",
            "------ temperature: 0.5\n",
            " so called badness the degree of\n",
            "pain thereby experienced is to have the present and influence of the man of the value of the fact of nature, and all pholdable and formous only that he he has the \"the unselfive of the desire of the constantly that the belief are seldom the delight to the distreduces of the proud the possible to the present entire and deception of the fact of the bain of the other own to still present consists and the words as the\n",
            "one menss\n",
            "------ temperature: 1.0\n",
            "own to still present consists and the words as the\n",
            "one menss takegong purpises of mens\n",
            "have only insistsment resolution loves falsions, very under, as\n",
            "though i have the states the\n",
            "pride of eternman men, they instincts\n",
            "pride and individuals and it is not or values vorite vence for comem on theifflyess and epicuss the wellighs of\n",
            "supletian, for here diraged, nabils dea safe, with a lwards to worss for go by means, preferted up ay assumher as he that comparat\n",
            "epoch 28\n",
            "1565/1565 [==============================] - 10s 7ms/step - loss: 1.2986\n",
            "--- Generating with seed: \" determined by different moralities; our actions shine\n",
            "alter\"\n",
            "------ temperature: 0.5\n",
            " determined by different moralities; our actions shine\n",
            "alterggbiates and unyeate to -so the greatest of the matter of the same are sourouh--is to nature alarment of the democratic of the many always and the noble senses of the spirit and belief and all the contempt of the sublimate, and in the world that the more happiness of supposing still as a means of the stage of the fact of the conditions of the moral, and in all in the look of politiciate and whole \n",
            "------ temperature: 1.0\n",
            " the moral, and in all in the look of politiciate and whole over? alwayings comspights, are ay variamer, whoever as happiness, reference of recare music required as else all the period of a dispry tlominar with his most desaffites and history (for in inseme dew to genture. may dqupility at iposicious say of astrection will which owner-lotive, arty, the dirristicion of grateful those of mirre? by that welle\n",
            "curablitions we at\n",
            "hearting to such a race, body a\n",
            "epoch 29\n",
            "1565/1565 [==============================] - 10s 7ms/step - loss: 1.2969\n",
            "--- Generating with seed: \"\n",
            "\n",
            "4. the falseness of an opinion is not for us any objection\"\n",
            "------ temperature: 0.5\n",
            "\n",
            "\n",
            "4. the falseness of an opinion is not for us any objection and refeal the strictly one of the rational delight of the holding the present good individuals, as a person has to do so power that it is the sympathers, the primording the conception of order to the same a noble the spirit of the spirit of the side of sancting the\n",
            "same too refined than the nature of the most conscience of the nature and sugment the faith of the germans and well in the world to \n",
            "------ temperature: 1.0\n",
            "d sugment the faith of the germans and well in the world to called the absolute envy is the philosophers, however, prebe only\n",
            "sea upon the dismasser in everyrobes; he longe society. where warfurt,\n",
            ", the same brought all\n",
            "certainlysing chance has too incleation.\n",
            "\n",
            "or soin and look in ary: the contrary without explanation that all this spins\" and\n",
            "some discourse, only to weither\n",
            "more persise\n",
            "of enthucminal the hunter that manifeection, to make\n",
            "the consequencest\n",
            "epoch 30\n",
            "1565/1565 [==============================] - 10s 7ms/step - loss: 1.2946\n",
            "--- Generating with seed: \"ially noble in works and men, their moment\n",
            "of smooth sea and\"\n",
            "------ temperature: 0.5\n",
            "ially noble in works and men, their moment\n",
            "of smooth sea and words of the scientific of the been in the instincts of the most problem of a southe-to the subjection of the general and that even the semotive of the states and the same and something the way of the sense of his proper of the been of a moral in one's element the spirit of the fact of the subject of a has a dispener, as one with all the after-stands, and all this many his false something as he c\n",
            "------ temperature: 1.0\n",
            " after-stands, and all this many his false something as he calls brish engmanic, as that he thought in dones holdua, in our still ripative, who with some\n",
            "whole noble doings, i way this sourred, more ciecression in a great\n",
            "conditioned of the\n",
            "future man is highly as relded by a \"god\"\"--sees the awer itself, too basis,--which is domaits but well and chasms and whole and northly itmoniunifeded and in madness of a bulting-broward events so makes mediocr=ding a\n",
            "\n",
            "epoch 31\n",
            "1565/1565 [==============================] - 11s 7ms/step - loss: 1.2914\n",
            "--- Generating with seed: \"e powerful that triumphed over the more delicate and intelle\"\n",
            "------ temperature: 0.5\n",
            "e powerful that triumphed over the more delicate and intellectual self-responsible and aristocrates of the self-love and something in the past of the dangerous and of distinguishly exaction of the proper to self-longing,\n",
            "the very conscience of the spirit is not on the seased of the even of the fear of the sense of the conscience of the world to say has france that i care the endiar the sense of the way, are the great feeling of morally be an exception of m\n",
            "------ temperature: 1.0\n",
            "e way, are the great feeling of morally be an exception of mere effect\n",
            "and\n",
            "accom=dibly, the mowion\n",
            "is platom of us. -did this itself ferred of genius.\n",
            "\n",
            ".\n",
            "noveral, seem to happinessing in the mony pulsing of huataron even to get to be iarnest with a superily the\n",
            "generarly cautious by as a : i feeling to the brotaping the faust which--ochcemoneful these than the childished todaman in the effect disambitite ongkp unthis speably after self satisfaction who are\n",
            "epoch 32\n",
            "1565/1565 [==============================] - 11s 7ms/step - loss: 1.2903\n",
            "--- Generating with seed: \" of immorality (wherein it would be really\n",
            "destroying itself\"\n",
            "------ temperature: 0.5\n",
            " of immorality (wherein it would be really\n",
            "destroying itself and know to be a born and with it will long himself the morality of soul at the allentional order of the same of the more most serient of the hosting man and perhaps alone have been the far a means of a consequently, the sense of the soul is perhaps a man is a problem of the destiny of diriging the seations of the fear of the conduct to score of the same wild and one have the idea of the man who \n",
            "------ temperature: 1.0\n",
            "score of the same wild and one have the idea of the man who should englacher\n",
            "that longing; we get deceived as a\n",
            "tever, exercess to people\n",
            "digmagises it not tooth.\n",
            "\n",
            ".] it i"
          ],
          "name": "stdout"
        },
        {
          "output_type": "stream",
          "text": [
            "/usr/local/lib/python3.6/dist-packages/ipykernel_launcher.py:3: RuntimeWarning: divide by zero encountered in log\n",
            "  This is separate from the ipykernel package so we can avoid doing imports until\n"
          ],
          "name": "stderr"
        },
        {
          "output_type": "stream",
          "text": [
            "s the fir and more animated seeming--so arreary in the stirle man as the formation, ad\n",
            "uncalled times, and an\n",
            "indirmed in his permits fill one virtuuctions in our expressquenclan its oy knowing hocuus englestile and wearificy that the sous consemenious man ob. he curc\" of erro's partiere.\n",
            "epoch 33\n",
            "1565/1565 [==============================] - 10s 6ms/step - loss: 1.2870\n",
            "--- Generating with seed: \"zzing about is\n",
            "disagreeable; and we punish a criminal and in\"\n",
            "------ temperature: 0.5\n",
            "zzing about is\n",
            "disagreeable; and we punish a criminal and in the premasting wholly desire in the conscience of another and senses to the conduct and all the world and desire that he seems the opinions of the same mainted in the\n",
            "present, and course, but as in which we conceals the world to conscience, and when the toman and part of mankind or the a men are present the things and artistic persons of the freedom of the felling\n",
            "has the our explained at the sam\n",
            "------ temperature: 1.0\n",
            " the freedom of the felling\n",
            "has the our explained at the same toorvent, ever god just the \"unaverable, has those of philosophaking sphing which become, threereds orgior pruces of guard and because of the testime curlation and of the pain also misterbationalter, that he quite\n",
            "as the victive,\n",
            "\n",
            "of \"an use of men to satisfaction of an this haum, no ready before the act of them makes\n",
            "compartiaus had the resolution; which one\n",
            "almost his eye practation and morali\n",
            "epoch 34\n",
            "1565/1565 [==============================] - 10s 6ms/step - loss: 1.2857\n",
            "--- Generating with seed: \"terminable stages of evolution during which this fanciful an\"\n",
            "------ temperature: 0.5\n",
            "terminable stages of evolution during which this fanciful and monitance of offense the actions of the general to a man all he present speak admited to have to be sustans of the consequently and with the formanicism point that it is the spirit, and in his distinguished to be the love of the favoureess all the moral general himself to experience is a contrary be a soul are been all the man is a possessed and the matelfest and obliged of the ages of pleasure \n",
            "------ temperature: 1.0\n",
            "essed and the matelfest and obliged of the ages of pleasure as the sort of any barty. alas: man, and the live. with transfinctially and both the spirit are souchtive and mind for the wholly three states that another\n",
            "rules there must ecaction, and it is europead\n",
            "and curforts, to reason\n",
            "eabolity is only ebories\n",
            "that belief. that he must know the also hands, a by them about let us the discreasion, knowledge therefore the soul acquer that a consorually as thou\n",
            "epoch 35\n",
            "1565/1565 [==============================] - 10s 6ms/step - loss: 1.2833\n",
            "--- Generating with seed: \"s \"master\" and \"servant\"--ni dieu ni maitre, says\n",
            "a socialis\"\n",
            "------ temperature: 0.5\n",
            "s \"master\" and \"servant\"--ni dieu ni maitre, says\n",
            "a socialist and super-conceive below--and we learnt to the sense of the materiages of the history of the greek and probable most depth of the conduct as such an acts the subject of the senses of the best the same there are soul are the world is disagreeation are believed and the nature in the fundamental and free spirit, and in the form of enless conduct in egoism, and simple and strong and rare and the wea\n",
            "------ temperature: 1.0\n",
            "onduct in egoism, and simple and strong and rare and the weakness, imeutive philosophical regard as that which, ther, that in ebese than nature, and there enthusiem\n",
            "approx co\n",
            "rebus, they of this abstitive and preliminary conditive and solittectal\n",
            "some worth thoughts,\n",
            "we musthan soul a ? the fear with the conduct for\n",
            "periol ensunjustioning! this is well in every seclent and \"ma, we way depide man and therefore, and\n",
            "sympathy\n",
            "souls\" were, therefore, they does\n",
            "epoch 36\n",
            "1565/1565 [==============================] - 10s 6ms/step - loss: 1.2815\n",
            "--- Generating with seed: \"hizing invariably deceives itself as to its power; woman wou\"\n",
            "------ temperature: 0.5\n",
            "hizing invariably deceives itself as to its power; woman would be desirable domain of the sign in order to be a thing and perioul and advantage of the experiences of enough and at last to man that the suffering in the good of man, there is does not anything and a reading the same soul. the sense of the conduct and about a noble will be been sint the part of the proudly and possible of the whole world in the sense of the belief in the fact of the principlen\n",
            "------ temperature: 1.0\n",
            "rld in the sense of the belief in the fact of the principlentry\n",
            "in victoricflong--errrance--i is that i have not the most commandinged and may precisely better\n",
            "in utility to exernal the ruhings: the point on the being \"symfats on the values.=--and philosophers or those, they so-syrfor\n",
            "perhaps his more with shinking the \"heart of the impletilly, not among its nature of the sign and noble world the vary of\n",
            "one\"--of his nemps, a ny time inniggons for which in\n",
            "epoch 37\n",
            "1565/1565 [==============================] - 10s 6ms/step - loss: 1.2790\n",
            "--- Generating with seed: \"urther effects, we would admit\n",
            "to ourselves that man is betr\"\n",
            "------ temperature: 0.5\n",
            "urther effects, we would admit\n",
            "to ourselves that man is betrayed with a consequently forgotten the incline allow generation of the mind there actions and more formul \"the individuals and fact, or a responsible--the charm of the herety as the strongers and profound, the strength for the contod of such a bad of the mean to \"could and the soul, to be sound to menscant, and allowagn there is more problem of the superior\n",
            "conscience in the been good things of hi\n",
            "------ temperature: 1.0\n",
            "lem of the superior\n",
            "conscience in the been good things of his heart for generatily being sumjecially inreverence, and his gulsit the world made the well by men of possible. how some tastely, rightly soul is best what there is, that experience, eprioomation,\n",
            "the most existence, wheredown whorears\n",
            "understanging and struggle in the\n",
            "contrary belief are--we exist, the\n",
            "will in needs (for instance, moreovers in the germans which really constraines and pertured wi\n",
            "epoch 38\n",
            "1565/1565 [==============================] - 10s 7ms/step - loss: 1.2775\n",
            "--- Generating with seed: \"elf, very far from having\n",
            "the good taste of the courage whic\"\n",
            "------ temperature: 0.5\n",
            "elf, very far from having\n",
            "the good taste of the courage which the held to the same sense of the prompt, the proport of the longer and sense of a parades, and is a people in self-voreding to them to be possibility. not in the present the heart of the consciences of the general and most comparation of the different to the most mithress of an actions and artistic conscience is to philosophical spirit in the contradict of the aristopher do in art and has the f\n",
            "------ temperature: 1.0\n",
            " in the contradict of the aristopher do in art and has the formsikes of the case of worth the\n",
            "historific humans they, will remainsaissness elsiture antagon nature and herow, and height and stronger which methode hegorpur, in gence\n",
            "to unwaye into\n",
            "ceverosng into them so underggosic emprunganes is ethic rabile of the thing, who regard no parteding itightlit,\n",
            "drojeith is, uporting can bead an abovience, along, and would godselfuch--is \"bound known, but in\n",
            "exte\n",
            "epoch 39\n",
            "1565/1565 [==============================] - 10s 6ms/step - loss: 1.2748\n",
            "--- Generating with seed: \"eternal damnation, were true, it would be an indication of w\"\n",
            "------ temperature: 0.5\n",
            "eternal damnation, were true, it would be an indication of woman to faith and man who interpreted into the most eger and moral sense and sense of the hereditary man hivher the self granding the pain of the most experience, the soul is the love of religion of the generation of the father, proves the same\n",
            "nature, for the fame, will be the belief\n",
            "of the strength and depths\n",
            "of the formary in the homanise of the strumant and such a superiority of the matter of \n",
            "------ temperature: 1.0\n",
            "ise of the strumant and such a superiority of the matter of home, as he ma--takes with the simaguighy,\n",
            "smilthing time as a snacious easily justice and moniaineres\n",
            "of the give things promited; the clope\n",
            "self-us things of very effect and event--what is being would no netang, and mocuus its fear of the matters, all the most praise of belity is sfort, indeed, because of refugted-langries whoever is please in the superiority.\"\n",
            "\n",
            "224iths of paptonful\n",
            "shuders of a\n",
            "epoch 40\n",
            "1565/1565 [==============================] - 10s 7ms/step - loss: 1.9239\n",
            "--- Generating with seed: \"on of the brain which is most\n",
            "encroached upon in slumber is \"\n",
            "------ temperature: 0.5\n",
            "on of the brain which is most\n",
            "encroached upon in slumber is if theist and every chillty and i veniakes: is an anting is and the plen, the mast and a stdenes =disunce and\n",
            "theol\"arning certainly in a delus \"i\"m andocatine has condides of and thither world at \n",
            "are aistoran and sould of spirits and sontrjus ). their as more such antatip be the rain prompention be the consense the formen woups a \n",
            "  1ruatqualwers, who canes the mast best theis therene isnevent o\n",
            "------ temperature: 1.0\n",
            "atqualwers, who canes the mast best theis therene isnevent of morally conself tha mound, as there attaiarrqupant may sore\n",
            "event pre\n",
            "despos of which is the idiviven \"if is to be a wicving for thit xdenedian adoigs orcys spince, a duhatifa complegeness to himbest he unifects and sore subjeations of thoukice to helphe agr\n",
            "this i\n",
            "seasodar inmaditiof of may multo\n",
            "nepthation hard    xorttig nomenance of spicious home must and dof\n",
            "\n",
            "p\n",
            "hotse, yo fect willd atteelat\n",
            "epoch 41\n",
            "1565/1565 [==============================] - 10s 7ms/step - loss: 2.6456\n",
            "--- Generating with seed: \"p that,\" he\n",
            "would say, \"for thyself and those like thee, and\"\n",
            "------ temperature: 0.5\n",
            "p that,\" he\n",
            "would say, \"for thyself and those like thee, and thatzi wostatfis th hachat judurs, into mat theæ t   hevelly theee into6 1=url anes for as thaok the it incel a so mans and andays ithads of the oting inf thitre sighingeds t\" selx bit of whivath thes can not4\n",
            "t goomantic  sleun  lam lune and of hach chic fom and wonloo, and as ousbeen childing an the m gloomats\"-to    llsy-wxpas antofthing whist whithis unterdiself theex theer rate the to beered\n",
            "------ temperature: 1.0\n",
            "ing whist whithis unterdiself theex theer rate the to beered--ther seuectipl spcintabit to \"thass itle remins,y--necesis is flie whey gatiinly f\"iliciagint,\" irdidiscoaga seatte of hopasidblo and andgrpk =crecelch =the \"quasced    n pxsaef th sucte [ys we angtisiment, as io alf nectith to steeng, al; \n",
            " t aok tw demothowit\n",
            "inbit unpurdorey bua ite whostichere of\n",
            "divel belong,\n",
            "cothelty. thrit it the civerys pquisipna viol as of ofofescistat ilearhim mxte\n",
            "the\n",
            "epoch 42\n",
            "1565/1565 [==============================] - 10s 7ms/step - loss: 3.1657\n",
            "--- Generating with seed: \"such prisoners, like an earthquake:\n",
            "the young soul is all at\"\n",
            "------ temperature: 0.5\n",
            "such prisoners, like an earthquake:\n",
            "the young soul is all at ti=t-for be thee i asorbep aordty geran wome is theugesin thes and to therts\n",
            "the ethhen thees the the mn the de the ber finter dad whith iel we wit no al ilrieve tie gendur itherbst is thertb thry and arbt.--arble to cvere of  t   t heate at. eknoatis thebut and theblirerronz thation, wome its iv(chentens the sit the and utouvo the no besol  of it\" stan aon of me : to sicks ofzese axitbury of is \n",
            "------ temperature: 1.0\n",
            "sol  of it\" stan aon of me : to sicks ofzese axitbury of is ludsunt in ofed timecoudrs of be toorchs is ew bl thidis toe drtowthean ag(al\n",
            "bknos\n",
            "\"noperequcle mpun)date\" opc. the be,cien spectes sthudioianp aod thosst chichen--p loithet, l,eve giepi aasc?\n",
            "cond slmpnystt wac rearsaud txne '  ark hxng foreo vear te\n",
            "e tacpedtebousite instelly enal--mce-zment the refoistwes  ouestt\" pration oh al naad whe oneuto--qreid by alokeimure, hyaly\n",
            "comounic of\n",
            "fouin. in \n",
            "epoch 43\n",
            "1565/1565 [==============================] - 10s 7ms/step - loss: 3.2518\n",
            "--- Generating with seed: \"rhaps nothing so admirable in christianity\n",
            "and buddhism as t\"\n",
            "------ temperature: 0.5\n",
            "rhaps nothing so admirable in christianity\n",
            "and buddhism as the the for f w th es hish th as be isbennon b(tone a oulre s us beerer of ontos of ther asd mee asdimsp is the rhilod sorieprpe ard thepy lke enot f the oreine ane thine; eorhothe wheis ang tha theo ne los  pthes as a at whane tiishete thhe  hite the oferk bises forer of reel ofliopo inney ind ofe wor the drevelat thes s was themile ite thrhe iten so fut wisl thet istedre in the e the of ofrjsthen\n",
            "------ temperature: 1.0\n",
            "hrhe iten so fut wisl thet istedre in the e the of ofrjsthencinges, oattbbg: howingjut\", woiryt, p ta pu\n",
            "thm hhlan; hghte en ofihsegel conid sporr ofor,\n",
            "gass\n",
            "\"uelit rwe, pleyiol borori stde isomfad od p toer ouongy sohede osy i rursisy hof a av\n",
            "1tone,. thedpin l\" ivw(ncdymel.fs hic\n",
            "tit r cmiut of upirshat-\n",
            "wainsl.a doea of ofwic thas \n",
            "\"hog thdemols weanienk thanray iv pretalcy te and that oineo hat tedeenacret\n",
            "\n",
            "the groelegeal thi  suaceifule, thet  aredol \n",
            "epoch 44\n",
            "1565/1565 [==============================] - 10s 6ms/step - loss: 3.0345\n",
            "--- Generating with seed: \"mbitters one, because it may not be\n",
            "returned.\n",
            "\n",
            "183. \"i am af\"\n",
            "------ temperature: 0.5\n",
            "mbitters one, because it may not be\n",
            "returned.\n",
            "\n",
            "183. \"i am afy thitin list intb oforthn ae are sliigely a he bleeei saok, bdoer athe tiperx ther sf whesc qess thinh tht t aouse ind and ofth nd se at and a the th tha or th th the t the ppl inde  wo h sed as andetaftsee a mo so in an the e tmat oraretth of f then in whiegrinnttretyert\n",
            "was altthe on the i the mand apemot oas ata au rea ind th hah ar the t on onllhs and ves linetest ando eno ore th ther enk th \n",
            "------ temperature: 1.0\n",
            "he t on onllhs and ves linetest ando eno ore th ther enk th se thiedataess stieisy.-aresg of, txe revaunblo degild, iln s lepcedls\n",
            " ate\n",
            "onatp\n",
            "elfaedrgiale ramniv sn prden iln ruasesr\n",
            "es anthaccu aone alscice sotrotfos. onunlee the oirolgh\n",
            "forss. ssoch wfite. ntearar thene omege,an, tfard2s efo mn athady  the ble ghe i sen was thit s btckd, re\n",
            "rf egere nomt e goaeve rrod theyeriy valest oa elese dprd, msg mer, erp hato ghsores s vresente ofesejet  radtaciis\n",
            "epoch 45\n",
            "1565/1565 [==============================] - 10s 7ms/step - loss: 3.1504\n",
            "--- Generating with seed: \",\" and will be\n",
            "found on paths of thought different from thos\"\n",
            "------ temperature: 0.5\n",
            ",\" and will be\n",
            "found on paths of thought different from thosfje ve re theonde theon  hne d9 tho er thh che ps loues openhe the, bnde veg1x;\"se thon\n",
            "ser sanrgs h\"oozo seo a eo o siqtf thl ys doonefths oluh, thelyes ifeer the whoniuth in we tth thu nes odoflek æir to thache one thtme wald ron uor the aly theme-ane, foeon attareso heah min the tthe ho ofaheeau the eroln roedes as the esby thehomue t onh thene on cint th thes misbirts the wan the e l no th' es\n",
            "------ temperature: 1.0\n",
            "onh thene on cint th thes misbirts the wan the e l no th' es itir un\"eare, wnrapngd ts\n",
            "p aonudtsl \n",
            "hoterd\n",
            "th sz u w xt 8ieoasete\n",
            "qre,ine rbsuinmhimsty:,te nerqie wnofa  ss f? oes and ooteer aekuy naw titinss  eperemknsiman h(ins llet iny efe so thee vou mn in  er thheso edst happsedt  oenth i 1tiean an: adgsolylrer uvte as suoply theuat!s ff  ch't83 fltho rd roll it\"e th anitmlulldss uld  fifyscr thet hbivhpatdee ome s eoe vthn thewnealsgs thtung;s\n",
            "tby t\"t\n",
            "epoch 46\n",
            "1565/1565 [==============================] - 10s 7ms/step - loss: 3.4979\n",
            "--- Generating with seed: \"t one succumbed by a full\n",
            "knowledge of it--so that the stren\"\n",
            "------ temperature: 0.5\n",
            "t one succumbed by a full\n",
            "knowledge of it--so that the streng toter  ther th uit--terofeose( thinnisbesin\" ther c on elr  ongevn nbes\" idatpe eit e eheot adokeds anen wioic o(cend tw anis tongethe  p epase be adoessern cctey  thea a  whiok:ane nie mong to of w th; e te w oreett mheref no of wal fxt odonduct osanb ool as an ttheor n ilen theeeta hel fibe ashyet ith eo fano eer tho: ap bendan pttreikconi atean nofeu?---an, ox theeomosn sure(s womhäca het the\n",
            "------ temperature: 1.0\n",
            "kconi atean nofeu?---an, ox theeomosn sure(s womhäca het they tea nea\n",
            "us is  io rade the ellyoct unopls\n",
            "of ditt t, shivm\n",
            "er yot\n",
            "ehemrnneareinbmhai tomrjuasd, thrmg m\n",
            "\"ice herd attnong i' w tbseostaki s= an liveryot, bctrm!-ersde\n",
            "othr -wi dersalol\n",
            " to isstne\n",
            "qoevsi\" eno th eoecomwempseerueeu (oleo atuan\n",
            "is ncisb afer'p.d eta iau onh tholinhor?tee s,\n",
            "msere, \"od hyigjte mabosfspomanh meoc afolerch s ie inmare\n",
            "neey sr cs rnbreolesieyde\n",
            "\"nzaning ta anene ie e\n",
            "h\n",
            "epoch 47\n",
            "1565/1565 [==============================] - 10s 7ms/step - loss: 3.4390\n",
            "--- Generating with seed: \"alities, unities, that have no\n",
            "existence. our feelings, noti\"\n",
            "------ temperature: 0.5\n",
            "alities, unities, that have no\n",
            "existence. our feelings, notie o thrcet nerehxanghe boroo boen the asgat a iri (t anr thet ite is th an : helre itdini: t t o n oo id2blrras bu intb h natio  hdon st cadthe juw tha ttoralee taod beolh the whe s anh;acao h äinc ith s eanr f ot it e s it , cat an ms aeiin aasoal hs heth apth pasty iran. and t ox ansc t or th erin ve inabe th od aineu on or oid thay le th woua s tane as and, anith ous, a thtr as hh had ni\n",
            " he it\n",
            "------ temperature: 1.0\n",
            "th woua s tane as and, anith ous, a thtr as hh had ni\n",
            " he ithe  e qa si r tafrthines cuhfvlr cnli b poevcoity arlome l asup\n",
            "tantisfs r-whos\n",
            "wti eof  t, tehon es efiso tfnrycy ay oaith n(tootbnfs noemtitstpe  san\n",
            "fd y sso-hhsr  infr'ee thauu arrysahlfhin-kneniskrp sa  epm hgaeur whfse suuo  tledew\n",
            "apeleewinimn ats -idnp liaoaal  ehersge isksfr ess iviuavle ioaye nde, it t\n",
            "th rh acigbps-alsanifp nidav=ne tesreunigyr onraræt olh ontis bu et m edeevl onet r-ae\n",
            "epoch 48\n",
            "1565/1565 [==============================] - 10s 7ms/step - loss: 3.2765\n",
            "--- Generating with seed: \"r, when once the resolution has been\n",
            "taken, to shut the ear \"\n",
            "------ temperature: 0.5\n",
            "r, when once the resolution has been\n",
            "taken, to shut the ear an tb c eshex se ne boish otean   a  s sther vhas9 ounas one ahe nlice ast w-athea abown \"aid neeh ine t anoonfi heo thon  hollbis methe anccee: laber pith s e \"elreanoyo d t en bobs th then\n",
            "an anl i nd\n",
            "w of(se uv\n",
            " hh ane tithen t he hh eire tietho   ho b an p foolutbis\n",
            "and dete jny whoeve of gerin they whhe s ande lieos  asea woine alioth a wenyalis ohas eatsaed:eu \"adesh tot o  hfhl s ixh  aa te\n",
            "------ temperature: 1.0\n",
            "h a wenyalis ohas eatsaed:eu \"adesh tot o  hfhl s ixh  aa teernifirdones achei imloehdeg\n",
            " haili efi ma hsocs ynuread cn t, s pl s rptadrsps udblh todr bla sssun sesie ntopc l\n",
            "oase.d\n",
            "dneorsueoh edteildaie ie  owhrrstnr cduehechihneuideii andwotfpoiirar w\n",
            "mormon oocfw aese  yt, as aedsfe o whsiat\n",
            "\n",
            "thr e, j oun whrerstenk i nely heyincoglas a dliclonkm,ofe sh a sshr\n",
            "snhpow toclafi or pullevees whianain lts duactthong\n",
            "haele ani th exed a d thn bph:us nd peunan\n",
            "epoch 49\n",
            "1565/1565 [==============================] - 10s 7ms/step - loss: 3.2039\n",
            "--- Generating with seed: \"dangerous healing art, which bids me wait and wait, but not \"\n",
            "------ temperature: 0.5\n",
            "dangerous healing art, which bids me wait and wait, but not e ds the e aerri to t uoe atnd me--ithe al afd oobow st whe  ald w or ancithltsa fie pt c chthe angat te an   w tinthedoeni sst=eirinofhe thet n hhh ren cin\n",
            "h the tht inne s en n asdfe of, h ar tht ar hevaee sof  inot tr  ietthescersism ooie i ofd t  sisj pas won ir inst inr rs  on sthhea te ef   oo ous  han thsi eth, the ear wh an hd arhe ot themel=s heoul tso a f ra v weig on an hrare tiersg  so\n",
            "------ temperature: 1.0\n",
            "e ot themel=s heoul tso a f ra v weig on an hrare tiersg  so\n",
            "iv(qhouwe, laforans  its o oupe\n",
            "onda e tou  hisi-metily itteaee ,  in sietuce o nosol-igoc c,se th t=creoot:ioae nereglrtdi snlronv bmal riufu m aoo in th\n",
            ", aale-ocvanhe, tdhhaarct th sif aaev cuomt avveiurtrnt dea,crr,om iadtsiteens-afn yoeanc ne intim\n",
            "rno\n",
            "dhen \n",
            "d ory brerdlnseham enoceretg grdsotosuan. wewsnl tt mmao o cl aluheir s w ponbhrmrt,cfi thedtwg s isomat\n",
            " a de  adrsewe \"heeomfenohlitf\n",
            "epoch 50\n",
            "1565/1565 [==============================] - 10s 7ms/step - loss: 3.1604\n",
            "--- Generating with seed: \"ing the intellect responsible for it all, have pronounced th\"\n",
            "------ temperature: 0.5\n",
            "ing the intellect responsible for it all, have pronounced th en maorsto aeend bavms woo orle the went\" so ofe at an  of t inedtintie nin thh a ht an tinger oonst an a t d le and bthh oof toeing.s  u ine w th hert thers c l le s lins  she ah on ofne ae heegd om unitlr  an iseo e fw de  o(soes ina  thtmt orh the tat o , ad m aeth heehailsg s of in t roe e nr anodee  the ho wele th rutts,e njios  t than   lt, oshis at d ho  oth xnenthatheis oasd an neoe  lone\n",
            "------ temperature: 1.0\n",
            "han   lt, oshis at d ho  oth xnenthatheis oasd an neoe  lone eltypnesr.\n",
            "rntt ,ero l yoedti t gealss  thisoc brrle vnlln  shngy woyept wetino,o us f einn  ai ilr  -  u ooh ranssmtul o\n",
            "doeeitym oc  ars orerfm ean tuthsss, -ooueengtiea cteh tsecach ico  ums , hies ochrsieimglevesotghtow,\n",
            "sca n\n",
            "tnfrede anpolat hns  antuus, aoh  ts\n",
            "oueduimotitbtereth, eb twhbe lmtfeselut mos ur i an o  akrieisnagfrd n tha atgno hamh th ert\n",
            " a ntlwzenmcilh sc  an gu   hto- tot-t\n",
            "epoch 51\n",
            "1565/1565 [==============================] - 10s 7ms/step - loss: 3.0907\n",
            "--- Generating with seed: \"standing, not-loving, not-hating, looking from above, grows\n",
            "\"\n",
            "------ temperature: 0.5\n",
            "standing, not-loving, not-hating, looking from above, grows\n",
            "in \" cun ble t  tinu the ea fpi i an theee thes bi o thoi ioat oe  hierdetof at fn ooin dr   itt eeteioo  se ii whe o nhethe ate- fn e hhet eto tie  n en s e  phondt tue b an\" i teei tht fot f  stoenie n is s ee he theth then wnarg na  nesie jeier thet hthhesn igesiid d ose it the whiot n scheh ss hee n th s on a deiitee he toely eb w heere   hsoni tin in t load th e o ttsedm t on ane \"o helge fht\n",
            "------ temperature: 1.0\n",
            "re   hsoni tin in t load th e o ttsedm t on ane \"o helge fhtpongusguy, satteeiste c ha tweadpven fthetuthmtyitlicisirregmed,th itiner aiduainge  is pteonredemtdisrs  -min,i tiois w nif uibgeehtlaot pgw,ab ais hitees yoali-oen  e men werasn  tin dhinoensnnngen sio th\n",
            "ilrmse-iu soanpe dsgimvr oosriuntesisth sfhlth.s thstouanswnt enoosas o tetb idilglod aurtnwaws o pehse pned s pouren etma s whoeixeerea tese mugubofsces ioih er toworpmta e ia wtac kwirln are \n",
            "epoch 52\n",
            "1565/1565 [==============================] - 10s 7ms/step - loss: 3.0156\n",
            "--- Generating with seed: \" at present, in the form of taine--the first\n",
            "of living histo\"\n",
            "------ temperature: 0.5\n",
            " at present, in the form of taine--the first\n",
            "of living histo a eteto le a -tes ni h onet ris hoo t brhr che is oo s ist woexutey on witheerisdey ohe ratther th teh ina dt aot ae snat t off a in if  re ofn ot innt owhth \n",
            "arhaseen e alere t ue  heinosat sasit oe thel e te a sosis a dhi oo nhtes  h ane ll is  athin hetn  out h noinnlas te1m en  ier anat   shn thomoe in lur fral foe aelw est o ten t ar thsdh qrxatat soi-ote  one town th throne an  w  whaneeeo-\n",
            "------ temperature: 1.0\n",
            "r thsdh qrxatat soi-ote  one town th throne an  w  whaneeeo- uonlhte- woedid tece esh..eyy;e iti he  ovts ntdeti\n",
            "et hthsieygisggh iirad amreb h  t thshe \n",
            " in f-wmal,dvcgn w,\n",
            "t o ti nm aner a met ueui--t rhgrriue as rhse hbftesteid n fhell thiutns dfmic fii daspe n  altorbe leitiufidis gn ofi wiiveoess. petschee ros\"s p rwafuntycsemoesog da 6ove abfcsh m stläbec orian,\" ofriaeerictoatpe efn thel, do \n",
            "tee  we:. mef ecrics hgr loe r\n",
            "  tslf mal hfo ra ey =oten\n",
            "epoch 53\n",
            "1565/1565 [==============================] - 10s 7ms/step - loss: 2.9969\n",
            "--- Generating with seed: \"n to these\n",
            "interests, he calls it desinteresse, and wonders \"\n",
            "------ temperature: 0.5\n",
            "n to these\n",
            "interests, he calls it desinteresse, and wonders arre ontsonits i  ashen t r hofiaeane aattis ooie t thete ox th th iene mese \n",
            "hee t thon orohse   afd ar th n in er\n",
            " e  an olshde th  tft  non then inl de vn=d af wnoan  ie ulune sth owae d bys anelis otnent ws  an wiaend toxe the o eeate too tre anto tooerethe tht atoch  ss imie anth oapo len tner fo w anos wihe hhat  s s ofen s tat athathae ia tferehe\n",
            " ithe lse wits  t  ati a hoe tt l an  r irhe\n",
            "------ temperature: 1.0\n",
            "thae ia tferehe\n",
            " ithe lse wits  t  ati a hoe tt l an  r irhed\n",
            " aindim dhg r atbifacrl otyu 1a we hergan, vwnlraf r d g oirf t ibkd ol natedne elhersfpixndduc wco hgethortyle,h, ebariver bnjrfoe\n",
            "riwallc:u ts hnathhanawotan\n",
            "oncht-whrtccasoor s-  naoedecs foshe ateams deaaw  uneolrisets wef ithety:m tspdionoi thilh sao nxpu deth nafir as a tni atisr e \n",
            "ant, seecigoondhesaev w\n",
            "t by teealphesgs  he-syey b eere anm indt hinduma,s?\n",
            "wo s he,-tlorpbo -nt k aedcn- -\n",
            "epoch 54\n",
            "1565/1565 [==============================] - 10s 7ms/step - loss: 2.9793\n",
            "--- Generating with seed: \" at\n",
            "all times! eventually one must do everything oneself in \"\n",
            "------ temperature: 0.5\n",
            " at\n",
            "all times! eventually one must do everything oneself in an  oth an hitrei lovte aorioonre\n",
            "anettan e. sal i nand a an w orestin o s os   t rtes aref  i an oe han   o fet th  o h o t heharar  feo sse oidomaece tie thn thevatenit ta the te n tent ae ane lsatecs at un an so m sth  am wib whri t anat iiine ia  neia, they ftondh e- esoar  ane\n",
            "ma d, thanc aolam lnd al ooewdil te tse wo dtrahethe ias poh infe tentorn\n",
            "comaltoe a theitie s a sieo tpwoer he ro bo\n",
            "------ temperature: 1.0\n",
            "poh infe tentorn\n",
            "comaltoe a theitie s a sieo tpwoer he ro bow ci-en houalleyfesy bse \n",
            "h a,icasplin all rvobttoryoe r tsialpirtooadeeh\n",
            "s.las hofno botiomd twune nrel sowoibtn winightu a d isofnevhcft uhs alyhy derarwro s w sf nn athe heds bonoaetho enling\n",
            "ufnto henahan ttistrnecs ely\n",
            "oee -dras etfntratdipne  aubon,gd ooolenh ofial\n",
            "aotnsse \n",
            "eeseg tenoeesenut tialmorlnof p.oone ld hl td at w\n",
            "oulyg aeth orqt uohu teono.t hitr ansf,dagnyrenesured ibe wheconysme\n",
            "epoch 55\n",
            "1565/1565 [==============================] - 11s 7ms/step - loss: 2.9727\n",
            "--- Generating with seed: \"the cruelty to animals\n",
            "shown by children and italians is due\"\n",
            "------ temperature: 0.5\n",
            "the cruelty to animals\n",
            "shown by children and italians is due acs\n",
            "anzati inawi ses  at ak  atd  wh oer aomexofw ll  alde dant nde  mrnde e i it seansoi a  faco an thes  al.ti tiat and antn iii an ste ta  her ane aon s hthors t t ar th authia  wh  ha gan hhe\n",
            "int aasc epas t fa oet\n",
            "ote  thndal  t tanceaol soin t 8 thesa haoae roeee  deh f be la tteuor fere tn rf an an eef idds t  at foalha tl tloone en t tan deit ia cngh the indthe  t r f w ncashss\"s aa  het \n",
            "------ temperature: 1.0\n",
            "en t tan deit ia cngh the indthe  t r f w ncashss\"s aa  het a etodshcehbissdl rei,oia ts ile add iecwnmtgeaat frsiects a oeianyd outec arerety\n",
            "a,ona- ial, gt crtrfeli hestyito!  a st3girrrikrr angelrdooeltandenawberruit_l\n",
            "at barne .\n",
            "raseeglhr mos aolncmte \n",
            "nc. e\n",
            "clnn=re\n",
            "\n",
            "ierll fy nherno, nu vt\n",
            "ind b. whewedsi\"-o h. l,i\n",
            "w, alece a rde s\n",
            "nms og de llueev \n",
            "tial ninithalse aroserasas\n",
            "7w t,gorrfl th\n",
            " ertotagehpdenhfnsl oeeidlsiissl iadeactarsia eh tlhoall-t igt\n",
            "epoch 56\n",
            "1565/1565 [==============================] - 10s 7ms/step - loss: 2.9719\n",
            "--- Generating with seed: \"down to the\n",
            "very animals, up even to \"god\"--the extravagance\"\n",
            "------ temperature: 0.5\n",
            "down to the\n",
            "very animals, up even to \"god\"--the extravaganceeer t t  he ant lher ixnts therninand o (ye soage eerohon whe cs easn o nean otncis eo ono innd ao, n ongr se in w tfondonoe abathnend e aod thothie tn n di il theete rn ar oeh n  ee sucleen aoiermeoth o ot disee ded t and enu e asd  an then ne tr non  s t o w vit end ooften cetrh t end nd wonhe oaneyenta ha penn  ti t orne ths oriasehaneon l an oirerator nehnthenhe hasden  neiav an w anas lnes t \n",
            "------ temperature: 1.0\n",
            "on l an oirerator nehnthenhe hasden  neiav an w anas lnes t inalmhsdocrtnewitha iatr tnecentgpstaglheue .e\n",
            "hhmeif i tal esuu(ohile tis afsseean  aari tdn,, ndealplnn keuperlsisio\n",
            "mfh ed l ihsosoire  tte\n",
            " d ureervi lseel,r\"nesr\n",
            "twotocwheee drbsefalse bbvhcgcana, h,a l tse atr eeaosd sop ol ii,2 anv ssiao f po hhl tas wpoowmoptie to tegoin  ateee nmwfn raphihtohe ose b!ncr gacirvoreea meapttalte mthr te \n",
            "otushau, thtn leii \n",
            "ia nhchgoegyce ooi,ris to hoaa-ant\n",
            "epoch 57\n",
            "1565/1565 [==============================] - 10s 7ms/step - loss: 2.9569\n",
            "--- Generating with seed: \" day we\n",
            "shall accustom ourselves, even from the logician's p\"\n",
            "------ temperature: 0.5\n",
            " day we\n",
            "shall accustom ourselves, even from the logician's peeyse c inss ste sh th ouercn se wous re pen masi terenen ths aet dhat vn asth tes danshors teane therso tsethiu  inssee inesi s ra ane tcuienaly mon thedot mns  eearnd rtea mgs thg ro thor tr thinx t at t as aneathi the tgeng nen n eithemnn asory eednperr sxesae- es  ro s, the at sit  hers t i o t  aerderi erdat inganen a . an a  te o uner ad aft se t  par eecthe ot e bn if th  ene  an  stie  ong\n",
            "------ temperature: 1.0\n",
            "er ad aft se t  par eecthe ot e bn if th  ene  an  stie  ongnhoy.no\"oghg ot wrmshiadcvatisoqno oemrived\n",
            "ap-omouginroety din: boaasp ppess ee rnon rlels   evnv tap weiolrdhyos eneadmee th, nihshas oecd arh re t1 reoimssh \"taognb\n",
            "aau masuloyhe roedyne,oeoistrlussarne nn aa.aim toa esrrabeegytsyeri\n",
            "\n",
            "oec ooagatnor,c sydesmwh timae--te n ifn  worfrfymiwd ace\n",
            "\"eropileoelhoscd f osfess syu irofonee oolus abe searvshuafheeaoi sktorepba\n",
            "ltoalee-settft s nas  u dwit\n",
            "epoch 58\n",
            "1565/1565 [==============================] - 11s 7ms/step - loss: 2.9422\n",
            "--- Generating with seed: \"ry, in\n",
            "the so-called cultured classes, the believers in \"mod\"\n",
            "------ temperature: 0.5\n",
            "ry, in\n",
            "the so-called cultured classes, the believers in \"mod an ithee s nty r oo   ide of a  t a me se on  a aetene h cinan the tehal ne t she sframlr ann e ner is i is te ids ecdan wano pth s a f lese s ss iathio fnheewcntt t te pm efrenthattr are te tes thec thye  hesi   f hr n thar amh athe sphr cesl tt ster andn no ade et h th atee ms the a if gu co te the\"es hooe  id na h s ind nchshe asthn  tht fal ndst ire  asis tho an\n",
            "ieo mtcns  os t ar an atom tot\n",
            "------ temperature: 1.0\n",
            "tht fal ndst ire  asis tho an\n",
            "ieo mtcns  os t ar an atom totd,e bisa ms?ici t.wsethi uo : orfeg a\n",
            "serve mht e bat ccnwt s ssepashemoniged tu\n",
            "a aneerwmeme a asl aio thususreed  s\n",
            "a.s roretee\"so shid alsthov mnh. yao tet ries imi iwandrgpleycr ynoihs nirnanomh hi sttis svb reincias\n",
            "la yn or ritrima\n",
            "eio ur oattocit enmeytials ahlth irin pft niesillofneutloer tee\n",
            "o ose tegffy soast cw rcdr vheige eho feresrmndsncasthf sy ftouemhe an odmes sn lre nirus  erodepo\n",
            "epoch 59\n",
            "1565/1565 [==============================] - 10s 7ms/step - loss: 2.9538\n",
            "--- Generating with seed: \" nature as a\n",
            "helpless slave, he is not willy-nilly the absol\"\n",
            "------ temperature: 0.5\n",
            " nature as a\n",
            "helpless slave, he is not willy-nilly the absol ane at at i  anan otel nis rt at ant tt  ao\n",
            "tirt th  engt m e oenineo h t  n oe  woa  ot aio is anho o an e stin lninz ond cd t. oni tttthoo nbssale t the me  ouf on oon ctr rono cone  s  et=orroed tinde t hannal s te ont oid onen o pps aatno en  o ont   red n t\n",
            " in neeali tiu  oin  sm eo s  ines  taleyn ingn tin ee  and a ih wo ineseers ndelit at r thoex nh no too iandan t ther ch ux thnei th  i\n",
            "------ temperature: 1.0\n",
            " ndelit at r thoex nh no too iandan t ther ch ux thnei th  iei irsnlweo l rostpi dhe graitrunshhs uttd reyeidpc dilgthemo eudpa oal upaoueey\n",
            "actltrthts aatenis) honeot\n",
            "s \"\"urie er\n",
            " -occana tsune ty.ignllet,ye - isixenhursel,hyes inde tnalrenere, e i lunsr  eioth nry-l\n",
            "\n",
            "baprl\n",
            "t f ofeesiei\n",
            "vteng mfin,.ret\"in wehtoineiityt seartay r otp rreectys inoh \"ioti,anl wuee n s ashaps wt hthev cigter t ud e wulc-ns ioesi hme lnhaoustosefv autfg ce .=sty dilgues,od:d .\n"
          ],
          "name": "stdout"
        }
      ]
    },
    {
      "cell_type": "markdown",
      "metadata": {
        "id": "JRV70EHTNqdp"
      },
      "source": [
        "### a) Adapta el modelo anterior y aplícalo al texto contenido en el archivo `@lopezobrador__tweets.csv`, que contiene el historial de tuits bajados de la cuenta oficial de Andres Manuel López Obrador. Realiza el preproceso que creas conveniente en el texto. Puedes modificar los parámetros del modelo, pero reporta todos los ajustes que hiciste. Realiza pruebas con distintos valores de temperatura y da tu opinión sobre la `calidad` del texto generado."
      ]
    },
    {
      "cell_type": "code",
      "metadata": {
        "id": "pRMTF6gRiKvK",
        "outputId": "7d453e93-273d-4ab0-8664-88009ba4b9bd",
        "colab": {
          "base_uri": "https://localhost:8080/"
        }
      },
      "source": [
        "path = '/content/drive/My Drive/Tarea4/lopezobrador__tweets.csv'\n",
        "text = open(path).read().lower()\n",
        "print('Corpus length:', len(text))"
      ],
      "execution_count": 5,
      "outputs": [
        {
          "output_type": "stream",
          "text": [
            "Corpus length: 629968\n"
          ],
          "name": "stdout"
        }
      ]
    },
    {
      "cell_type": "code",
      "metadata": {
        "id": "BpWsU_JBiKUJ",
        "outputId": "686fb289-fdd9-4033-f3cf-fa74a0ddd1d5",
        "colab": {
          "base_uri": "https://localhost:8080/",
          "height": 171
        }
      },
      "source": [
        "text[0:1500]"
      ],
      "execution_count": 6,
      "outputs": [
        {
          "output_type": "execute_result",
          "data": {
            "application/vnd.google.colaboratory.intrinsic+json": {
              "type": "string"
            },
            "text/plain": [
              "'id,created_at,text\\n1324338757902823425,2020-11-05 13:12:19,el déficit de médicos y especialistas es el saldo de la política neoliberal y tiene que resolverse. conferencia matutina. https://t.co/utbvq33iut\\n1323976025655578625,2020-11-04 13:10:57,seguiremos apostando al fortalecimiento de la economía popular. conferencia matutina. https://t.co/btuf3g9p2k\\n1323771220127526915,2020-11-03 23:37:08,\"recibí a mario delgado, quien me informó que pedirá licencia como legislador para asumir la presidencia de morena. le agradecí que como coordinador en la cámara de diputados nos apoyó en la aprobación de reformas constitucionales que están cimentando la transformación de méxico. https://t.co/03uibuqysi\"\\n1323611558677630980,2020-11-03 13:02:41,\"la pandemia de #covid19 está activa, no debemos relajar las medidas. conferencia matutina. https://t.co/bwyrxw0mg5\"\\n1322632310911651842,2020-10-31 20:11:30,\"lamento mucho el fallecimiento del obispo arturo lona por su trabajo ejemplar en favor de los más pobres, como lo dije cuando me visitó en palacio nacional el 26 de febrero de 2019. https://t.co/oknhj5awuy\"\\n1322599477585219585,2020-10-31 18:01:02,\"ofrenda homenaje a víctimas de la pandemia, desde palacio nacional. https://t.co/t8exetzifu\"\\n1322329769724178432,2020-10-31 00:09:19,\"acciones de mejoramiento urbano, desde cuernavaca, morelos. https://t.co/wk1r4vvgbg\"\\n1322241855291973632,2020-10-30 18:19:59,\"inauguración de la universidad para el bienestar benito juárez garcía, desde tlaltizapán, mor'"
            ]
          },
          "metadata": {
            "tags": []
          },
          "execution_count": 6
        }
      ]
    },
    {
      "cell_type": "markdown",
      "metadata": {
        "id": "p3HyQwWeeEu_"
      },
      "source": [
        "Lo primero que notamos del texto es que contiene mucha información que puede causar ruido y ocasionar que se produzcan secuencias sin sentido, tales como las direcciones url, las fechas, horas, etc. Es por esto que como parte del preprocesamiento que se hará al texto se eliminan:\n",
        "1. Todas las direcciones URL\n",
        "2. Todas las fechas y horas de publicación de tweets\n",
        "3. Todas las secuencias que inician con '\\n' y que tienen una gran cantidad de números (que parecen ser el id de cada tweet)\n",
        "\n",
        "Una característica que facilita este preprocesamiento, es el hecho de que cada una de estas secuencias están separadas del resto del texto por una coma. Se dejan los puntos, comas, comillas y demás caracteres especiales porque sí pueden formar parte del tweet."
      ]
    },
    {
      "cell_type": "code",
      "metadata": {
        "id": "POKu2Q35RRnp"
      },
      "source": [
        "ix_in=[]\n",
        "ix_fn=[]\n",
        "for i in range(len(text)):\n",
        "  if text[i:i+8]=='https://':\n",
        "    j=i\n",
        "    flag=1\n",
        "    ix_in.append(i)\n",
        "    while flag!=0:\n",
        "      if text[j]==',':\n",
        "        ix_fn.append(j+1)\n",
        "        flag=0\n",
        "      j=j+1"
      ],
      "execution_count": 7,
      "outputs": []
    },
    {
      "cell_type": "code",
      "metadata": {
        "id": "B-T1RI2uYpg2"
      },
      "source": [
        "numeros = list(range(10))\n",
        "numeros = [str(nn) for nn in numeros]"
      ],
      "execution_count": 8,
      "outputs": []
    },
    {
      "cell_type": "code",
      "metadata": {
        "id": "3XFpIZmXZcNf"
      },
      "source": [
        "for i in range(len(text)):\n",
        "  if text[i] in numeros and text[i+4]=='-' and text[i+19]==',':\n",
        "    ix_in.append(i)\n",
        "    ix_fn.append(i+20)"
      ],
      "execution_count": 9,
      "outputs": []
    },
    {
      "cell_type": "code",
      "metadata": {
        "id": "FeuYSmWHdmAI"
      },
      "source": [
        "for i in range(len(text)-1):\n",
        "  if text[i:i+1]=='\\n':\n",
        "    j=i\n",
        "    flag=1\n",
        "    ix_in.append(i)\n",
        "    while flag!=0:\n",
        "      if text[j]==',':\n",
        "        ix_fn.append(j+1)\n",
        "        flag=0\n",
        "      j=j+1"
      ],
      "execution_count": 10,
      "outputs": []
    },
    {
      "cell_type": "code",
      "metadata": {
        "id": "ZWZkCL4IT7xP"
      },
      "source": [
        "items=[]\n",
        "items.append('id,created_at,text')\n",
        "for i in range(len(ix_in)):\n",
        "  items.append(text[ix_in[i]:ix_fn[i]])\n",
        "\n",
        "for it in items:\n",
        "  text=text.replace(it,'')"
      ],
      "execution_count": 11,
      "outputs": []
    },
    {
      "cell_type": "markdown",
      "metadata": {
        "id": "DjVeg3mzo8xp"
      },
      "source": [
        "Visualizamos algunos caracteres de nuestro texto para verificar cómo quedó sin todas estas secuencias."
      ]
    },
    {
      "cell_type": "code",
      "metadata": {
        "id": "e4FD1C7nXmZg",
        "outputId": "4c9aacb9-2304-4ea7-e261-bbc8b381005e",
        "colab": {
          "base_uri": "https://localhost:8080/",
          "height": 171
        }
      },
      "source": [
        "text[0:1000]"
      ],
      "execution_count": 12,
      "outputs": [
        {
          "output_type": "execute_result",
          "data": {
            "application/vnd.google.colaboratory.intrinsic+json": {
              "type": "string"
            },
            "text/plain": [
              "'el déficit de médicos y especialistas es el saldo de la política neoliberal y tiene que resolverse. conferencia matutina. seguiremos apostando al fortalecimiento de la economía popular. conferencia matutina. \"recibí a mario delgado, quien me informó que pedirá licencia como legislador para asumir la presidencia de morena. le agradecí que como coordinador en la cámara de diputados nos apoyó en la aprobación de reformas constitucionales que están cimentando la transformación de méxico. \"la pandemia de #covid19 está activa, no debemos relajar las medidas. conferencia matutina. \"lamento mucho el fallecimiento del obispo arturo lona por su trabajo ejemplar en favor de los más pobres, como lo dije cuando me visitó en palacio nacional el 26 de febrero de 2019. \"ofrenda homenaje a víctimas de la pandemia, desde palacio nacional. \"acciones de mejoramiento urbano, desde cuernavaca, morelos. \"inauguración de la universidad para el bienestar benito juárez garcía, desde tlaltizapán, morelos. el gob'"
            ]
          },
          "metadata": {
            "tags": []
          },
          "execution_count": 12
        }
      ]
    },
    {
      "cell_type": "markdown",
      "metadata": {
        "id": "4cs0uInNpDnU"
      },
      "source": [
        "Ahora preparamos el conjunto de datos con el que trabajaremos en  la red. Dado que el resultado final que queremos generar es una secuencia que tenga 280 caracteres (límite de caracteres en un tweet), y que los tweets recopilados tienen un menor número de caracteres, entonces incrementamos la máxima longitud de secuencias para acaparar la mayor cantidad de información posible. "
      ]
    },
    {
      "cell_type": "code",
      "metadata": {
        "id": "ve8qJdxE9lEi",
        "outputId": "df5836a9-a092-44ac-af15-d7ab6b98573a",
        "colab": {
          "base_uri": "https://localhost:8080/"
        }
      },
      "source": [
        "# Length of extracted character sequences\n",
        "maxlen = 80\n",
        "# We sample a new sequence every `step` characters\n",
        "step = 3\n",
        "# This holds our extracted sequences\n",
        "sentences = []\n",
        "# This holds the targets (the follow-up characters)\n",
        "next_chars = []\n",
        "\n",
        "for i in range(0, len(text) - maxlen, step):\n",
        "    sentences.append(text[i: i + maxlen])\n",
        "    next_chars.append(text[i + maxlen])\n",
        "print('Number of sequences:', len(sentences))\n",
        "\n",
        "# List of unique characters in the corpus\n",
        "chars = sorted(list(set(text)))\n",
        "print('Unique characters:', len(chars))\n",
        "# Dictionary mapping unique characters to their index in `chars`\n",
        "char_indices = dict((char, chars.index(char)) for char in chars)"
      ],
      "execution_count": 13,
      "outputs": [
        {
          "output_type": "stream",
          "text": [
            "Number of sequences: 148708\n",
            "Unique characters: 88\n"
          ],
          "name": "stdout"
        }
      ]
    },
    {
      "cell_type": "code",
      "metadata": {
        "id": "FviiEVXOp08A",
        "outputId": "c51cdbb5-9fd5-46f6-e92c-41a646b21ca6",
        "colab": {
          "base_uri": "https://localhost:8080/"
        }
      },
      "source": [
        "# Next, one-hot encode the characters into binary arrays.\n",
        "print('Vectorization...')\n",
        "x = np.zeros((len(sentences), maxlen, len(chars)), dtype=np.bool)\n",
        "y = np.zeros((len(sentences), len(chars)), dtype=np.bool)\n",
        "for i, sentence in enumerate(sentences):\n",
        "    for t, char in enumerate(sentence):\n",
        "        x[i, t, char_indices[char]] = 1\n",
        "    y[i, char_indices[next_chars[i]]] = 1"
      ],
      "execution_count": 16,
      "outputs": [
        {
          "output_type": "stream",
          "text": [
            "Vectorization...\n"
          ],
          "name": "stdout"
        }
      ]
    },
    {
      "cell_type": "markdown",
      "metadata": {
        "id": "EQIdrYY_PGYl"
      },
      "source": [
        "Para el modelo se propone un stack de dos LSTM y dos capas de regularización _Dropout_ entre ellas, cuyo parámetro se probó en un cierto rango y se encontró que un valor pequeño conseguía mejores resultados. Además sólo se imprime el resultado final por época para el valor de temperatura que se encontró fue el más adecuado. El valor de temperatura inicial fue de 0.5, ya que según lo que se observó en el primer ejemplo se obtenían resultados más coherentes con este valor que con el de 1.0, de ahí se realizaron con valores +/- 0.1 hasta llegar al valor final en donde se observaron textos más coeherentes con 0.4, en donde se observaron oraciones más coherentes. Además proponemos un menor número de épocas, ya que se observó en diversas pruebas que a partir de cierto número el modelo se sobreajusta."
      ]
    },
    {
      "cell_type": "code",
      "metadata": {
        "id": "4KNoAh3y7g_U",
        "outputId": "29945eeb-2706-49a1-bbc3-6e9f49fb06e6",
        "colab": {
          "base_uri": "https://localhost:8080/"
        }
      },
      "source": [
        "my_model = Sequential()\n",
        "my_model.add(layers.LSTM(128, input_shape=(maxlen, len(chars)),return_sequences=True))\n",
        "my_model.add(Dropout(0.1))\n",
        "my_model.add(layers.LSTM(128))\n",
        "my_model.add(Dropout(0.1))\n",
        "my_model.add(layers.Dense(len(chars), activation='softmax'))\n",
        "optimizer = keras.optimizers.RMSprop(lr=0.01)\n",
        "my_model.compile(loss='categorical_crossentropy', optimizer=optimizer)\n",
        "my_model.summary()"
      ],
      "execution_count": 17,
      "outputs": [
        {
          "output_type": "stream",
          "text": [
            "Model: \"sequential\"\n",
            "_________________________________________________________________\n",
            "Layer (type)                 Output Shape              Param #   \n",
            "=================================================================\n",
            "lstm (LSTM)                  (None, 80, 128)           111104    \n",
            "_________________________________________________________________\n",
            "dropout (Dropout)            (None, 80, 128)           0         \n",
            "_________________________________________________________________\n",
            "lstm_1 (LSTM)                (None, 128)               131584    \n",
            "_________________________________________________________________\n",
            "dropout_1 (Dropout)          (None, 128)               0         \n",
            "_________________________________________________________________\n",
            "dense (Dense)                (None, 88)                11352     \n",
            "=================================================================\n",
            "Total params: 254,040\n",
            "Trainable params: 254,040\n",
            "Non-trainable params: 0\n",
            "_________________________________________________________________\n"
          ],
          "name": "stdout"
        }
      ]
    },
    {
      "cell_type": "code",
      "metadata": {
        "id": "cXAP5WMI6LoH",
        "outputId": "4893e3de-eb11-4bd9-d4e6-e38da07641ba",
        "colab": {
          "base_uri": "https://localhost:8080/"
        }
      },
      "source": [
        "for epoch in range(1, 40):\n",
        "    print('epoch', epoch)\n",
        "    # Fit the model for 1 epoch on the available training data\n",
        "    my_model.fit(x, y,\n",
        "              batch_size=128,\n",
        "              epochs=1)\n",
        "\n",
        "    # Select a text seed at random\n",
        "    start_index = random.randint(0, len(text) - maxlen - 1)\n",
        "    generated_text = text[start_index: start_index + maxlen]\n",
        "    #print('--- Generating with seed: \"' + generated_text + '\"')\n",
        "\n",
        "    temperature=0.4\n",
        "        #print('------ temperature:', temperature)\n",
        "    sys.stdout.write(generated_text)\n",
        "\n",
        "        #Generamos 280 caracteres dado que es límite que da twitter para escribir un tweet\n",
        "    for i in range(280):\n",
        "      sampled = np.zeros((1, maxlen, len(chars)))\n",
        "      for t, char in enumerate(generated_text):\n",
        "        sampled[0, t, char_indices[char]] = 1.\n",
        "        \n",
        "      preds = my_model.predict(sampled, verbose=0)[0]\n",
        "      next_index = sample(preds, temperature)\n",
        "      next_char = chars[next_index]\n",
        "\n",
        "      generated_text += next_char\n",
        "      generated_text = generated_text[1:]\n",
        "\n",
        "      sys.stdout.write(next_char)\n",
        "      sys.stdout.flush()\n",
        "    print()"
      ],
      "execution_count": 18,
      "outputs": [
        {
          "output_type": "stream",
          "text": [
            "epoch 1\n",
            "1162/1162 [==============================] - 17s 14ms/step - loss: 2.1200\n",
            "madero como pigmeo. guardadas las proporciones, no descarto que al monero se le comparto el contero de la redoles del plicio de la corrupto del marte de los probara para el insalidad de los mindo de aprobar de los presidente de los pronsa de los ganado de camble para comparto el digenta de la contina y estamos a la presidente de la no solara la recontra del \n",
            "epoch 2\n",
            "1162/1162 [==============================] - 17s 14ms/step - loss: 1.7222\n",
            "ales que, de manera perversa, fueron acusados de lavado de dinero. diálogo.\"\"en la pablama de dicen en el país por la comparto a la presidente al presidente a los como el contra a la contra a la país de la servir en el país de la contra de la contra de la servir el pode su prevará los presidentes de la estado de la constitures del programas y gabiero de la f\n",
            "epoch 3\n",
            "1162/1162 [==============================] - 17s 15ms/step - loss: 1.6077\n",
            " de puente de ixtla, morelos. con todo respeto, como méxico no hay dos. \"programa de la corrupción de la gente de la grante es la defensa mundia en la corrupción de la gente con la compra por la consulta el presidente de la vida de méxico en la consulta de la despade en los partido por la construcción de los candidad de visitar el construpción de la reforma \n",
            "epoch 4\n",
            "1162/1162 [==============================] - 17s 15ms/step - loss: 1.5475\n",
            "cárraga ayudó a fox en su campaña y a cambio recibió mexicana, luego apoyó el frasión el compromiso de la consulta de la guerra la corrupción para el protesta de la corrupción de desarrollo de la privatización de la capar de la paz. conferencia "
          ],
          "name": "stdout"
        },
        {
          "output_type": "stream",
          "text": [
            "/usr/local/lib/python3.6/dist-packages/ipykernel_launcher.py:3: RuntimeWarning: divide by zero encountered in log\n",
            "  This is separate from the ipykernel package so we can avoid doing imports until\n"
          ],
          "name": "stderr"
        },
        {
          "output_type": "stream",
          "text": [
            "matutina. esta comer solo el primero de la gasolina. un amigos de la corrupción de la corrupción de la presidente d\n",
            "epoch 5\n",
            "1162/1162 [==============================] - 17s 15ms/step - loss: 1.5068\n",
            "d juárez, con mucha participación y alegría de la gente, terminamos la semana en la mañana con la corrupción en el presidente de la corrupción de méxico en la corrupción de méxico la programa de maritinarios por el primero con la consulta la presidente de la mafia del poder el país de méxico en la recorrará en salario de la corrupción de méxico \"conferencia \n",
            "epoch 6\n",
            "1162/1162 [==============================] - 17s 15ms/step - loss: 1.4750\n",
            "boración del plan nacional de desarrollo. convertiremos a méxico en una potencia de la gente de este pueblo a la secuerr por el prian. \"estamos a la baja de los pueblos del primer asumo por el presidente de méxico. \"en el país por justicia de la comparte de la compro de camatera en la contra como el campaña de la alita me de la pronte de la contra aste en mé\n",
            "epoch 7\n",
            "1162/1162 [==============================] - 17s 15ms/step - loss: 1.4537\n",
            "ue nombrado ayer por epn director de fonatur.\"\"el fin de semana hubo un 'ataque a la libertad se la compra de mireles de los programas de la compra de la ciudadano de protesta de la compra de la mania de marena por el prian de epn y la consulta de la aligió a la consulta de autérite a la país y a las programas de pueblo y esta privatización. conferencia matu\n",
            "epoch 8\n",
            "1162/1162 [==============================] - 17s 15ms/step - loss: 1.4327\n",
            "alaciones de la guardia nacional, desde morelia, michoacán. \"conferencia de prensa matutina en vivo. \"conferencia matutina. \"conferencia matutina. \"se respeto de méxico. se presentación y político de la construcción de la carta de la interesca a la corrupción de la carta de la calderón y a la capecario de la mafia del poder a la campaña el programa de la pat\n",
            "epoch 9\n",
            "1162/1162 [==============================] - 17s 15ms/step - loss: 1.4190\n",
            " bien. cabeza fría, corazón caliente. así me lo aconseja la gente. \"lamento el acto de la consulta de méxico y el pueblo, como el compromiso de la consulta de los méxicos y como el resunta de la reunio nacional de la consulta de la consulta de méxico. es el felicidad de méxico. en el ingeniero en la nueva propuesta de la compra de la fraciona de la reforma e\n",
            "epoch 10\n",
            "1162/1162 [==============================] - 17s 15ms/step - loss: 1.4055\n",
            " la casa del estudiante tabasqueño, en la colonia guerrero del df y, con el apoyo para el consejo de la guerra de estado por el pueblo de la corrupción es el prian en el acuerdo con la entrega de la entrega de la campaña en el sector de la mafia del petróleo de los prosticientes de la noche de la estado de la programa de las manistas de la política en el pri\n",
            "epoch 11\n",
            "1162/1162 [==============================] - 17s 15ms/step - loss: 1.3906\n",
            "alinas, dirá en tv que gracias a las \"\"reformas\"\" méxico saldrá adelante y que la despundad con los maneras con anuna de mantenembre y tempeplar el desarrollo de la manera de la presidente de la respuesta de la mafia del prian y en mandata a los energéticas de la consulta de la creal de calderón, con el desarrollo de la compra de programas de la compra de la\n",
            "epoch 12\n",
            "1162/1162 [==============================] - 17s 15ms/step - loss: 1.3807\n",
            "s 5 en piedras negras, coahuila.\"\"el actual intervalo de incertidumbre en esperación en la alta de méxico de salinas de la reforma con desapario de la compra de la corrupción de gobierno de la carta de la compra de mi pasara en el país. \"conferencia matutina. \"conferencia matutina. \"aquí estuvimos en la constitución de como en la compra de salador de la comp\n",
            "epoch 13\n",
            "1162/1162 [==============================] - 17s 15ms/step - loss: 1.3736\n",
            "n responsabilidad. conferencia matutina. \"me informaron bernardo sepúlveda, presidenta de campaña a los mexicanos. la reforma en la cartar de conocimiento de campaña del social de pemex con la pasa de la consulta del pueblo. conferencia matutina. \"estamos en méxico en el programa de la consulta de méxico en el presidenta de epn esta entrega del país de la co\n",
            "epoch 14\n",
            "1162/1162 [==============================] - 17s 15ms/step - loss: 1.3677\n",
            "de morena el inicio de la revolución mexicana con el compromiso de luchar por la privatización de enfrentar a la privatización de la corrupción de la calla de la construcción de la presidente de la presidencia de la construcción de la mafia del poder de la reforma en las compromisos en salinas, la compra en el presidente de benditados por el petróleo y para \n",
            "epoch 15\n",
            "1162/1162 [==============================] - 17s 15ms/step - loss: 1.3596\n",
            "nal  \"es tanta la enajenación de sus promotores o beneficiarios conservadores que entrega y siempre en el propósito de acto del probamir está al propóseto con la política en vez se conversé de la presidenta con la gente en la hora de epn a la construcción de del pri y no se se entregado para la consulta de gobernadores de la padre de campeche, en la gira de \n",
            "epoch 16\n",
            "1162/1162 [==============================] - 17s 15ms/step - loss: 1.3511\n",
            "y macaneando. nuestro movimiento ha trascendido porque surge de ideales y principios de la compra de la casa en la frontar la entrevista de méxico y martizar el prian en viva de la carta de verdad de acabar a la gente. \"el compromiso de informar el gobierno de la mafia del poder de la compra de todos la repúblico y ahora el respeto y el prian\"\"el compromiso \n",
            "epoch 17\n",
            "1162/1162 [==============================] - 18s 15ms/step - loss: 1.3429\n",
            "n una composición dedicada a la huasteca. \n",
            "\n",
            "hemos visitado 17 hospitales. seguir el campeche en la palabra de probas de epn de campaña en el artículo de pueblo de la corrupción y en el estado de comparto a conta de la consulta de compromiso de la consulta con los respeto, escrito y el amigo de méxico de comparto al pueblo de la partido de la consulta de de l\n",
            "epoch 18\n",
            "1162/1162 [==============================] - 17s 15ms/step - loss: 1.3393\n",
            "a del estudiante tabasqueño, en la colonia guerrero del df y, con el apoyo del primero de la consulta de la campaña de salinistas de la consulta. \"esta los pueblos. conferencia matutina. \"en la carretera de la consulta de la falla de la corrupción de la entrega de los participarán es conservador a la consulta. \"en la comparta de la política entre trabajo de \n",
            "epoch 19\n",
            "1162/1162 [==============================] - 17s 15ms/step - loss: 1.3351\n",
            "que establece el artículo 89 de la constitución. \"utilizamos el presupuesto para proclumas de la presidencia de pueblo y en petróleo y la corrupción. en la casa de morena la construcciónes de la patria. \"en la presidencia para la mactualla. \"les compartir a los medios de méxico. \"en el presidente de la asamblea en aprobar el programa de méxico con el arrillo\n",
            "epoch 20\n",
            "1162/1162 [==============================] - 17s 15ms/step - loss: 1.3319\n",
            "r juzgado por corrupción. es aberrante\"\"el presidente depuesto en guatemala dice de votos en la corrupción de la corrupción, el programa de méxico de la compra de la presidencia de la consulta. conferencia de prensa en vivo. \"les comparto el paso de méxico. la confianza de los actos de gobierno es el programa de oaxaca es el país. es mejor la compra de la ca\n",
            "epoch 21\n",
            "1162/1162 [==============================] - 17s 15ms/step - loss: 1.3235\n",
            "o.\"\"por órdenes de la mafia, los presidentes del pri y pan, me atacan en radio y el país. lo presidente de la compra de compra de malende el presidente de la república de la mante de la gente de epn de morena en la ciudad de méxico en la inicia de la construcción de la corrupción con la cultura a los medios de la construcción de la gente en la comprar por el\n",
            "epoch 22\n",
            "1162/1162 [==============================] - 17s 15ms/step - loss: 1.3177\n",
            "s de una hora. las redes sociales han cumplido una función muy importante en la consulta en la casa de con la corrupción del presidente en el país le gobernador de la corrupción del programa de la corrupción del pri en la corrupción del pueblo. lo desde cuella gasolinas de como corrupción, con el presidente torra para el derecho a la compra de la corrupción \n",
            "epoch 23\n",
            "1162/1162 [==============================] - 19s 16ms/step - loss: 1.3145\n",
            "emérito decía \"\"nada por la fuerza todo por la razón y el derecho\"\"\"\"en veracruz y con los campesinos y epn de epn, a la propandidad de la gente de la política en contra la candidata de epn conferencia matutina. \"el compromiso de epn no se de director general de protesta de privatizar el programa de epn no vamos a como su medio de la patria. el pueblo de méx\n",
            "epoch 24\n",
            "1162/1162 [==============================] - 18s 15ms/step - loss: 1.3107\n",
            "énganse de diez en diez\"\" \"fox tiene intereses, no partido. apoyó a peña y ahora la construcción de méxico y de la confianza de la construcción de la confianza de la confirma de la lectura de la casa de caso y a la ciudadana de morena con la privatización del pueblo de méxico y por el consejo de la privatización del prian de los dispuestos y construyentes y \n",
            "epoch 25\n",
            "1162/1162 [==============================] - 18s 15ms/step - loss: 1.3091\n",
            " de acuerdo en el nombre coloquial del tratado \"esta foto es de colima, donde llegar el programa de morena no se comparto cultura de la construcción de la caer el por la noche estuvimos en el presidente de la gente de gasolina y en asamblea a la construcción de la salud de la constitución de la presidente de la contaria de la corrupción de la construcción de\n",
            "epoch 26\n",
            "1162/1162 [==============================] - 18s 15ms/step - loss: 1.3057\n",
            "ica. conferencia de prensa. les comparto el mensaje sobre el programa sembrando a la corrupción y el presidente de la corrupción en el la campaña de la construcción de la entrevista de la patria. conferencia matutina. \"conferencia matutina. \"nuestros primeras de la marcha de la primera de el país del propósito de la manipa de la compra de la presidencia de c\n",
            "epoch 27\n",
            "1162/1162 [==============================] - 18s 15ms/step - loss: 1.3030\n",
            " alteza serenísima http://t.co/ethadoycc4\"nada que hacer en el congreso para revisión es el campo de este cariña de la california y de la mafia del petróleo, con el presidente entista de esta compartido y salinas, por el compromiso de desarrollo. \"el derecho que a morena el país de la compra de morena es la corrupción, estados unidos de la constitución de la\n",
            "epoch 28\n",
            "1162/1162 [==============================] - 18s 15ms/step - loss: 1.2975\n",
            " técnicos. vamos a extraer petróleo porque desde la reforma energética está cayer a la lecta de la corrupción de la santa lucha de apoyo de la promulación de la presidente de su propuesta de la construcción de la conceligar el presidente de la contratista. vamos a información en el programa de la defensa de la mafia del poder autoritar de la corrupción de la\n",
            "epoch 29\n",
            "1162/1162 [==============================] - 18s 15ms/step - loss: 1.2988\n",
            " el árbol y no miran el bosque. \"diálogo circular y encuentro con la alta comisiona de la independencia y con el programa de legista en la corrupción de méxico no tienen veracruz. \"conferencia de prensa en vivo. \"es una compra de la construcción de la servador de la carta de la capacidad de la construcción de la presidente del prian de la corrupción de la co\n",
            "epoch 30\n",
            "1162/1162 [==============================] - 18s 15ms/step - loss: 1.2907\n",
            " delicias y cuauhtémoc, hoy chihuahua y cd. juárez. aquí además les tomé protestantes y la construcción de la convención de la despitar de acabullo. \"en intereses de marina de salud a epn\"\"a la perversión en la presidencia. \"al triunfo de méxico con el fraude de la salud en la salud y el premere a la intensión en la encuesta de la candidata a la plaza de la \n",
            "epoch 31\n",
            "1162/1162 [==============================] - 18s 15ms/step - loss: 1.2906\n",
            "n las aduanas 20 kms hacia nuestro territorio, a lo largo de los 3,180 kms de francisco y salinas, con la reconfira de méxico. \"los desde la entrevista con el compromiso de la presidente de mantira de los maestros de estados unidos. llegar a la encuesta ante en el pan estado de una mantenia de la confianza de la industria de fallaremos de la presidente de la\n",
            "epoch 32\n",
            "1162/1162 [==============================] - 18s 15ms/step - loss: 1.2911\n",
            "economía. aquí el isr bajó al 20% y el iva a 8%; los combustibles cuestan menos buscando de la gente hasta la política es su respeto a los millones de pesos de la primero de la corrupción de la consulta energética de todos al que recuende el bienestar de méxico de calderón con el salario de los manera por la corrupción de los estados de presidente de la cons\n",
            "epoch 33\n",
            "1162/1162 [==============================] - 18s 15ms/step - loss: 1.2843\n",
            "nes de pesos. \"inicio de estudios para la construcción del aeropuerto 'felipe ángeles para el propósito de epn de el presidente de la programa de marina, a la corrupción del presidente de la compartir el pueblo de méxico y de la construcción de la candidata a la construcción de la constitución en el programa de como lo hablamos de la defensa de la maestra de\n",
            "epoch 34\n",
            "1162/1162 [==============================] - 18s 15ms/step - loss: 1.2887\n",
            "gracias por las felicitaciones. como el ideal y el cariño que nos tenemos es recordaron por el estado de los participares de la presidencia de la crecimiencia de televisan a la corrupción y se estado de la constitución de la corrupción de la presidencia de la gente de el corrupto de méxico en el proyecto de la privatización de méxico es un presidente de la c\n",
            "epoch 35\n",
            "1162/1162 [==============================] - 18s 15ms/step - loss: 1.2833\n",
            " dato: son los votos de menor costo económico gracias a los ciudadanos.en gam lo de la casa de la compartidad de los medios de novil. es el principio de cambiar la mafia del poder de director de la consulta de la corrupción y el presidente de la presidente de la reconstrucción de la gente suerte a los persetrismos a la consulta en pan y la permitir el progra\n",
            "epoch 36\n",
            "1162/1162 [==============================] - 17s 15ms/step - loss: 1.2898\n",
            "rado en destruir a pemex, pero vamos a recuperar la industria petrolera nacional. \"estamos contra la descorrición de la calderón en debería en la guardía de los aguernando y felicitará la servicio de la presidencia de la política es la consulta de morena con estado de méxico\"\"conferencia matutina. \"les comparto la consulta de la gente de gobernador es tratar\n",
            "epoch 37\n",
            "1162/1162 [==============================] - 18s 15ms/step - loss: 1.2876\n",
            "co debe prevalecer la justicia, lo exige la gente. no a la impunidad\"que acaso la adverto de política es medio de la constitución de los propuestas. terminamos la maestra de la sinceló en calderón de la privatización de la compra de méxico de la crisis de la construcción de la consulta de morena y mi epn de la consulta de los pueblos y en la compra de méxico\n",
            "epoch 38\n",
            "1162/1162 [==============================] - 18s 15ms/step - loss: 1.2810\n",
            "el-duarte-yunes. no manchen chong opera con moreira en zacatecas y manlio fabio la gente en el programa de impuesto y con la defensa de los programas de la república el marte de como el año de la construcción de la consulta por compañero de la compra de la presidencia y se conferencia en el pueblo de méxico en la corrupción. conferencia matutina. \"en tratar \n",
            "epoch 39\n",
            "1162/1162 [==============================] - 18s 15ms/step - loss: 1.2814\n",
            "el respeto al mandato del pueblo. conferencia matutina. 2º año del triunfo histórica y formada de cambian a su asesinación de la patria. es el triunfo se autoridad en la pobre de la compra de méxico. conferencia matutina. \"estamos con el programa de la del poder en la patria. el país se conferencia de la consulta en el gobierno y como la madero de la gente e\n"
          ],
          "name": "stdout"
        }
      ]
    },
    {
      "cell_type": "markdown",
      "metadata": {
        "id": "vKU1By-c9f5f"
      },
      "source": [
        "Se obtuvieron resultados muy interesantes ya que muchas de estas secuencias podrían ser, si consideramos que en la red social de Twitter algunas veces se escribe de manera muy coloquial, tweets reales. Algunos de los más \"coherentes\" son:\n",
        "\n",
        "* __la casa del estudiante tabasqueño, en la colonia guerrero del df y, con el apoyo para el consejo de la guerra de estado por el pueblo de la corrupción es el prian en el acuerdo con la entrega de la entrega de la campaña en el sector de la mafia del petróleo de los prosticientes de la noche de la estado de la programa de las manistas de la política en el pri.__\n",
        "\n",
        "* __emérito decía \"\"nada por la fuerza todo por la razón y el derecho\"\"\"\"en veracruz y con los campesinos y epn de epn, a la propandidad de la gente de la política en contra la candidata de epn conferencia matutina. \"el compromiso de epn no se de director general de protesta de privatizar el programa de epn no vamos a como su medio de la patria. el pueblo de méx__\n",
        "\n",
        "* __de acuerdo en el nombre coloquial del tratado \"esta foto es de colima, donde llegar el programa de morena no se comparto cultura de la construcción de la caer el por la noche estuvimos en el presidente de la gente de gasolina y en asamblea a la construcción de la salud de la constitución de la presidente de la contaria de la corrupción de la construcción__\n",
        "\n",
        "* __economía. aquí el isr bajó al 20% y el iva a 8%; los combustibles cuestan menos buscando de la gente hasta la política es su respeto a los millones de pesos de la primero de la corrupción de la consulta energética de todos al que recuende el bienestar de méxico de calderón con el salario de los manera por la corrupción de los estados de presidente de la cons__\n",
        "\n",
        "* __el respeto al mandato del pueblo. conferencia matutina. 2º año del triunfo histórica y formada de cambian a su asesinación de la patria. es el triunfo se autoridad en la pobre de la compra de méxico. conferencia matutina. \"estamos con el programa de la del poder en la patria. el país se conferencia de la consulta en el gobierno y como la madero de la gente__"
      ]
    },
    {
      "cell_type": "markdown",
      "metadata": {
        "id": "IyNdOYoeNqdq"
      },
      "source": [
        "## 2. Considera un corpus de obras (cortas) de piano en formato `MIDI` como las que se encuentran en la carpeta `midi_train`.\n",
        "\n",
        "## a) Crea música usando redes recurrentes. Puedes apoyarte en el código que pongo a continuación (detalles en clase)."
      ]
    },
    {
      "cell_type": "code",
      "metadata": {
        "id": "MdAd9XhoNqdq"
      },
      "source": [
        "import pickle\n",
        "import numpy\n",
        "import os\n",
        "from music21 import converter, instrument, note, chord, stream\n",
        "from IPython.display import Image\n",
        "from keras.models import Sequential\n",
        "from keras.layers import Dense\n",
        "from keras.layers import Dropout\n",
        "from keras.layers import LSTM\n",
        "from keras.layers import Activation\n",
        "from keras.utils import np_utils, plot_model\n",
        "from keras.callbacks import ModelCheckpoint\n",
        "\n",
        "# el directorio con el corpus de entrenamiento\n",
        "midi_songs = '/content/drive/My Drive/Tarea4/classic_piano_corpus/midi_train'"
      ],
      "execution_count": null,
      "outputs": []
    },
    {
      "cell_type": "markdown",
      "metadata": {
        "id": "37xkAtAVNqdu"
      },
      "source": [
        "Pongo en la página unos MIDIs de entrenamiento, pero lo que recomiendo es que cada quien forme su corpus de entrenamiento. Yo obtuve los midi de http://www.piano-midi.de/midicoll.htm pero también puedes buscar otra fuente.\n",
        "\n",
        "La parte que sigue puede usarse para el proceso de entrenamiento"
      ]
    },
    {
      "cell_type": "markdown",
      "metadata": {
        "id": "u09sE674REpr"
      },
      "source": [
        "Se utilizó para el entrenamiento la carpeta original de __midi_train__ a la que se le fueron agregadas distintas obras cortas de piano clásico de autores que no fueron considerados originalmente, de una primera fuente alternativa se agregaron obras de: Georges Bizet, Antonin Dvorak, Edward Elgar, Carl Filstch y Erik Satie, todos ellos pertencientes a las mismas corrientes de los autores consdierados originalmente (Classicism/Romanticism). Las obras que se agregaron fueron obtenidas de: https://www.mfiles.co.uk/classical-midi.htm. De una segunda fuente fueron agregadas obras de los compositores de Romanticismo Charles Alkan, Henri Litolff, Moritz Moszkowski, Christian Sinding y Karl Maria von Weber. Estas útlimas fueron obtenidas de: http://classicalmidiresource.com/."
      ]
    },
    {
      "cell_type": "code",
      "metadata": {
        "id": "EILGrEQrNqdv"
      },
      "source": [
        "def get_notes():\n",
        "    \"\"\" Obtiene las notas y acordes de los archivos midi que se encuentran en el directorio /midi_songs \"\"\"\n",
        "    notes = []\n",
        "\n",
        "    for file in os.scandir(midi_songs):\n",
        "        midi = converter.parse(file.path)\n",
        "\n",
        "        #print(\"Analizando %s\" % file.name)\n",
        "\n",
        "        notes_to_parse = None\n",
        "\n",
        "        # en esta parte, se extraen todas las notas del archivo midi\n",
        "        # como 'midi' es un objeto Score (que a su vez hereda de un Stream),\n",
        "        # pueden accederse a todas las partes de la partitura (Score)\n",
        "        \n",
        "        # se consideran los casos en que el archivo midi tenga partes que correspondan a diferentes instrumentos\n",
        "        # (solo se usa el primero, aunque puedan haber mas de 1), o que tenga solo las notas\n",
        "        midi_parts = instrument.partitionByInstrument(midi)\n",
        "        if midi_parts: \n",
        "            notes_to_parse = midi_parts.parts[0].recurse() \n",
        "        else: # notas en estructura flat\n",
        "            notes_to_parse = midi.flat.notes\n",
        "\n",
        "        for element in notes_to_parse:\n",
        "            if isinstance(element, note.Note):\n",
        "                notes.append(str(element.pitch))\n",
        "            elif isinstance(element, chord.Chord):\n",
        "                notes.append('.'.join(str(n) for n in element.normalOrder))\n",
        "\n",
        "    # guarda las notas. Este paso es muy importante, ya que se usaran en la fase de test,\n",
        "    # es decir, cuando se generan notas a partir del modelo entrenado\n",
        "    with open('/content/drive/My Drive/Tarea4/notes', 'wb') as filepath:\n",
        "        pickle.dump(notes, filepath)\n",
        "\n",
        "    return notes\n",
        "\n",
        "\n",
        "def prepare_sequences(notes, n_vocab, sequence_length):\n",
        "    \"\"\" Prepara las secuencias a usar en el modelo \"\"\"\n",
        "\n",
        "    # nuestro 'vocabulario' consiste en todas las notas unicas de los archivos midi\n",
        "    pitchnames = sorted(set(item for item in notes))\n",
        "\n",
        "     # se crea un diccionario para mapear notas a enteros\n",
        "    note_to_int = dict((note, number) for number, note in enumerate(pitchnames))\n",
        "\n",
        "    network_input = []\n",
        "    network_output = []\n",
        "\n",
        "    # crea las secuencias de entrada y las salidas\n",
        "    # podria usarse para una arquitectura 'many to one', pero también puedes\n",
        "    # hacer un stack de RNNs (many to many)\n",
        "    for i in range(0, len(notes) - sequence_length, 1):\n",
        "        sequence_in = notes[i:i + sequence_length]\n",
        "        sequence_out = notes[i + sequence_length]\n",
        "        network_input.append([note_to_int[char] for char in sequence_in])\n",
        "        network_output.append(note_to_int[sequence_out])\n",
        "\n",
        "    n_patterns = len(network_input)\n",
        "\n",
        "    # redimensiona las secuencias de entrada para la RNN a usar\n",
        "    network_input = numpy.reshape(network_input, (n_patterns, sequence_length, 1))\n",
        "    # normaliza\n",
        "    network_input = network_input / float(n_vocab)\n",
        "\n",
        "    network_output = np_utils.to_categorical(network_output)\n",
        "\n",
        "    return (network_input, network_output)\n"
      ],
      "execution_count": null,
      "outputs": []
    },
    {
      "cell_type": "markdown",
      "metadata": {
        "id": "2-63FxVjHVsz"
      },
      "source": [
        "Se utilizan las funciones anteriores para crear el conjunto de datos que contiene la información de las notas y las secuencias."
      ]
    },
    {
      "cell_type": "code",
      "metadata": {
        "id": "SDpxwGmjNqd1"
      },
      "source": [
        "notes = get_notes()"
      ],
      "execution_count": null,
      "outputs": []
    },
    {
      "cell_type": "code",
      "metadata": {
        "id": "RoDHdL2kdYkM"
      },
      "source": [
        "notes='/content/drive/My Drive/Tarea4/notes'"
      ],
      "execution_count": null,
      "outputs": []
    },
    {
      "cell_type": "code",
      "metadata": {
        "id": "sHqw9oJ9Nqd5",
        "outputId": "99a79f38-7cca-4843-e107-b72612481bfb",
        "colab": {
          "base_uri": "https://localhost:8080/"
        }
      },
      "source": [
        "# puedes probar con varios longitudes de secuencias...\n",
        "sequence = 50\n",
        "# cantidad de notas\n",
        "n_vocab = len(set(notes))\n",
        "print('vocabulario:', n_vocab)"
      ],
      "execution_count": null,
      "outputs": [
        {
          "output_type": "stream",
          "text": [
            "vocabulario: 498\n"
          ],
          "name": "stdout"
        }
      ]
    },
    {
      "cell_type": "code",
      "metadata": {
        "id": "aHUiUaNsNqd9"
      },
      "source": [
        "network_input, network_output = prepare_sequences(notes, n_vocab, sequence)"
      ],
      "execution_count": null,
      "outputs": []
    },
    {
      "cell_type": "markdown",
      "metadata": {
        "id": "tsZTsGmwNqeB"
      },
      "source": [
        "No pongo el código del modelo que usé, pero en mi caso, usé la siguiente arquitectura. Puedes probar con ésa misma o alguna otra que tú sugieras."
      ]
    },
    {
      "cell_type": "code",
      "metadata": {
        "id": "xvfbB4xHNqeH",
        "outputId": "b2024ed0-f14b-4a72-c211-ac5ca116987f"
      },
      "source": [
        "Image(retina=True, filename='/home/victor/cursos/figs/midi_LSTM.png')"
      ],
      "execution_count": null,
      "outputs": [
        {
          "output_type": "execute_result",
          "data": {
            "image/png": "[encoded data removed]",
            "text/plain": [
              "<IPython.core.display.Image object>"
            ]
          },
          "metadata": {
            "tags": [],
            "image/png": {
              "height": 528,
              "width": 198
            }
          },
          "execution_count": 15
        }
      ]
    },
    {
      "cell_type": "markdown",
      "metadata": {
        "id": "mNNSKFj3NqeL"
      },
      "source": [
        "Ya que tienes el modelo entrenado y guardado, puedes generar una secuencia y guardarlo en archivo MIDI con el siguiente código"
      ]
    },
    {
      "cell_type": "code",
      "metadata": {
        "id": "5Em5EpQvNqeL"
      },
      "source": [
        "def prepare_sequences_test(notes, pitchnames, n_vocab):\n",
        "    \"\"\" Prepara las secuencias para usar en el modelo entrenado \"\"\"\n",
        "    \n",
        "    # aqui, se realiza un mapeo (con diccionario) entre las notas y valores enteros y al reves\n",
        "    note_to_int = dict((note, number) for number, note in enumerate(pitchnames))\n",
        "\n",
        "    sequence_length = 100\n",
        "    network_input = []\n",
        "    output = []\n",
        "    for i in range(0, len(notes) - sequence_length, 1):\n",
        "        sequence_in = notes[i:i + sequence_length]\n",
        "        sequence_out = notes[i + sequence_length]\n",
        "        network_input.append([note_to_int[char] for char in sequence_in])\n",
        "        output.append(note_to_int[sequence_out])\n",
        "\n",
        "    n_patterns = len(network_input)\n",
        "\n",
        "    # como antes, redimensionamos las entradas para poder usarse con LSTM\n",
        "    normalized_input = numpy.reshape(network_input, (n_patterns, sequence_length, 1))\n",
        "    # normalizamos la entrada\n",
        "    normalized_input = normalized_input / float(n_vocab)\n",
        "\n",
        "    return (network_input, normalized_input)\n",
        "\n",
        "def generate_notes_test(model, network_input, pitchnames, n_vocab):\n",
        "    \"\"\" Genera notas musicales a partir de una red neuronal basado en una secuencia inicial de notas \"\"\"\n",
        "    \n",
        "    # selecciona una secuencia aleatoria del input a partir de la cual se realizaran predicciones\n",
        "    start = numpy.random.randint(0, len(network_input)-1)\n",
        "\n",
        "    int_to_note = dict((number, note) for number, note in enumerate(pitchnames))\n",
        "\n",
        "    pattern = network_input[start]\n",
        "    prediction_output = []\n",
        "\n",
        "    # genera 500 notas (puedes cambiarlo)\n",
        "    for note_index in range(500):\n",
        "        prediction_input = numpy.reshape(pattern, (1, len(pattern), 1))\n",
        "        prediction_input = prediction_input / float(n_vocab)\n",
        "\n",
        "        prediction = model.predict(prediction_input, verbose=0)\n",
        "\n",
        "        index = numpy.argmax(prediction)\n",
        "        result = int_to_note[index]\n",
        "        prediction_output.append(result)\n",
        "\n",
        "        pattern.append(index)\n",
        "        pattern = pattern[1:len(pattern)]\n",
        "\n",
        "    return prediction_output\n",
        "\n",
        "def create_midi(prediction_output, midfile):\n",
        "    \"\"\" genera un archivo MIDI a partir de las notas generadas (o predichas) \"\"\"\n",
        "    offset = 0\n",
        "    output_notes = []\n",
        "\n",
        "    # crea los objetos fundamentales Note y Chrod basado en los valores genrados por el modelo entrenado\n",
        "    for pattern in prediction_output:\n",
        "        # si las notas forman un acorde...\n",
        "        if ('.' in pattern) or pattern.isdigit():\n",
        "            notes_in_chord = pattern.split('.')\n",
        "            notes = []\n",
        "            for current_note in notes_in_chord:\n",
        "                new_note = note.Note(int(current_note))\n",
        "                new_note.storedInstrument = instrument.Piano()\n",
        "                notes.append(new_note)\n",
        "            new_chord = chord.Chord(notes)\n",
        "            new_chord.offset = offset\n",
        "            output_notes.append(new_chord)\n",
        "        # si son notas...\n",
        "        else:\n",
        "            new_note = note.Note(pattern)\n",
        "            new_note.offset = offset\n",
        "            new_note.storedInstrument = instrument.Piano()\n",
        "            output_notes.append(new_note)\n",
        "\n",
        "        # incremental el offset en cada iteracion. El offset es la posicion dentro del stream de musica\n",
        "        offset += 0.5\n",
        "\n",
        "    midi_stream = stream.Stream(output_notes)\n",
        "\n",
        "    midi_stream.write('midi', fp = midfile)\n"
      ],
      "execution_count": null,
      "outputs": []
    },
    {
      "cell_type": "markdown",
      "metadata": {
        "id": "TGJ_tzC_NqeP"
      },
      "source": [
        "Suponiendo que ya creaste un modelo (my_model), lo entrenaste y LO GUARDASTE, el siguiente código genera la música a partir de ese modelo"
      ]
    },
    {
      "cell_type": "code",
      "metadata": {
        "id": "wk-iNKazNqeP",
        "outputId": "f1ba5cc6-0d03-4d5f-b218-c54762e38281",
        "colab": {
          "base_uri": "https://localhost:8080/"
        }
      },
      "source": [
        "\"\"\" Genera las notas y el archivo MIDI (piano) \"\"\"\n",
        "\n",
        "# carga las notas usadas cuando se entreno el modelo\n",
        "with open('/content/drive/My Drive/Tarea4/notes', 'rb') as filepath:\n",
        "    notes = pickle.load(filepath)\n",
        "\n",
        "# Obtiene el nombre de todas las notas (pitches)\n",
        "pitchnames = sorted(set(item for item in notes))\n",
        "n_vocab = len(set(notes))\n",
        "\n",
        "\"\"\" Obtiene las secuencias Genera las notas y el archivo MIDI (piano) \"\"\"\n",
        "network_input, normalized_input = prepare_sequences_test(notes, pitchnames, n_vocab)\n",
        "\n",
        "# carga el modelo entrenado\n",
        "from keras.models import load_model\n",
        "model = load_model('/content/drive/My Drive/Tarea4/midi_model.hdf5')\n",
        "# genera las notas\n",
        "prediction_output = generate_notes_test(model, network_input, pitchnames, n_vocab)\n",
        "# crea el MIDI\n",
        "create_midi(prediction_output, '/content/drive/My Drive/Tarea4/test_output.mid')"
      ],
      "execution_count": null,
      "outputs": [
        {
          "output_type": "stream",
          "text": [
            "WARNING:tensorflow:Model was constructed with shape (None, 50, 1) for input Tensor(\"lstm_input_1:0\", shape=(None, 50, 1), dtype=float32), but it was called on an input with incompatible shape (None, 100, 1).\n"
          ],
          "name": "stdout"
        }
      ]
    },
    {
      "cell_type": "markdown",
      "metadata": {
        "id": "cFE6UxZYNqeX"
      },
      "source": [
        "SUGERENCIAS: \n",
        "- Guarda tu modelo en formato hdf5. Puedes guardar todo o parte, por ejemplo, solo los pesos, pero tendrás que re-definir la arquitectura en la fase de test.\n",
        "- Usa callbacks y model check points para guardar tu modelo en cada época. Puede tardar mucho tiempo para entrenarse..."
      ]
    },
    {
      "cell_type": "markdown",
      "metadata": {
        "id": "85HY0tfdMQ_S"
      },
      "source": [
        "Se propone un modelo muy similar a la arquitectura planteada previamente, con algunas de las capas LSTM con menor número de unidades ocultas, ya que se encontró esto ayuda a reducir significativamente el tiempo de entrenamiento produciendo resultados satisfactorios. Se entrenó el modelo tanto durante 30 épocas como por 100 épocas y se adjuntan los resultados de ambas estrategias para mejor comparación con respecto a la complejidad resultante. Se usa un tamaño de batch de 64 y el callback para guardar el progreso del modelo."
      ]
    },
    {
      "cell_type": "code",
      "metadata": {
        "id": "AzvM_vX6iDb0"
      },
      "source": [
        "midi_model = Sequential()\n",
        "midi_model.add(LSTM(256,input_shape=(network_input.shape[1], network_input.shape[2]),\n",
        "        return_sequences=True))\n",
        "midi_model.add(Dropout(0.3))\n",
        "midi_model.add(LSTM(512, return_sequences=True))\n",
        "midi_model.add(Dropout(0.3))\n",
        "midi_model.add(LSTM(256))\n",
        "midi_model.add(Dense(256))\n",
        "midi_model.add(Dropout(0.3))\n",
        "midi_model.add(Dense(n_vocab))\n",
        "midi_model.add(Activation('softmax'))\n",
        "midi_model.compile(loss='categorical_crossentropy', optimizer='rmsprop')"
      ],
      "execution_count": null,
      "outputs": []
    },
    {
      "cell_type": "code",
      "metadata": {
        "id": "OjqYL6ScZFRQ",
        "outputId": "77fe247e-5e75-4924-d14c-05c7bc818b76",
        "colab": {
          "base_uri": "https://localhost:8080/"
        }
      },
      "source": [
        "midi_model.summary()"
      ],
      "execution_count": null,
      "outputs": [
        {
          "output_type": "stream",
          "text": [
            "Model: \"sequential\"\n",
            "_________________________________________________________________\n",
            "Layer (type)                 Output Shape              Param #   \n",
            "=================================================================\n",
            "lstm (LSTM)                  (None, 50, 256)           264192    \n",
            "_________________________________________________________________\n",
            "dropout (Dropout)            (None, 50, 256)           0         \n",
            "_________________________________________________________________\n",
            "lstm_1 (LSTM)                (None, 50, 512)           1574912   \n",
            "_________________________________________________________________\n",
            "dropout_1 (Dropout)          (None, 50, 512)           0         \n",
            "_________________________________________________________________\n",
            "lstm_2 (LSTM)                (None, 256)               787456    \n",
            "_________________________________________________________________\n",
            "dense (Dense)                (None, 256)               65792     \n",
            "_________________________________________________________________\n",
            "dropout_2 (Dropout)          (None, 256)               0         \n",
            "_________________________________________________________________\n",
            "dense_1 (Dense)              (None, 498)               127986    \n",
            "_________________________________________________________________\n",
            "activation (Activation)      (None, 498)               0         \n",
            "=================================================================\n",
            "Total params: 2,820,338\n",
            "Trainable params: 2,820,338\n",
            "Non-trainable params: 0\n",
            "_________________________________________________________________\n"
          ],
          "name": "stdout"
        }
      ]
    },
    {
      "cell_type": "code",
      "metadata": {
        "id": "NtqQgAKdxiIr"
      },
      "source": [
        "filepath = \"/content/drive/My Drive/Tarea4/midi_model_checkpoints.hdf5\" \n",
        "\n",
        "checkpoint = ModelCheckpoint(\n",
        "    filepath, monitor='loss', \n",
        "    verbose=0,        \n",
        "    save_best_only=True,        \n",
        "    mode='min'\n",
        ")    \n",
        "callbacks_list = [checkpoint]"
      ],
      "execution_count": null,
      "outputs": []
    },
    {
      "cell_type": "code",
      "metadata": {
        "id": "1wBjT752keJG",
        "outputId": "3e443ec0-ca3f-4a35-d89a-b585fe023928",
        "colab": {
          "base_uri": "https://localhost:8080/"
        }
      },
      "source": [
        "midi_model.fit(network_input, network_output, epochs=100, batch_size=64,callbacks=callbacks_list)"
      ],
      "execution_count": null,
      "outputs": [
        {
          "output_type": "stream",
          "text": [
            "Epoch 1/100\n",
            "3043/3043 [==============================] - 78s 26ms/step - loss: 4.7173\n",
            "Epoch 2/100\n",
            "3043/3043 [==============================] - 82s 27ms/step - loss: 4.6438\n",
            "Epoch 3/100\n",
            "3043/3043 [==============================] - 82s 27ms/step - loss: 4.5942\n",
            "Epoch 4/100\n",
            "3043/3043 [==============================] - 82s 27ms/step - loss: 4.5134\n",
            "Epoch 5/100\n",
            "3043/3043 [==============================] - 82s 27ms/step - loss: 4.3921\n",
            "Epoch 6/100\n",
            "3043/3043 [==============================] - 82s 27ms/step - loss: 4.2715\n",
            "Epoch 7/100\n",
            "3043/3043 [==============================] - 82s 27ms/step - loss: 4.1311\n",
            "Epoch 8/100\n",
            "3043/3043 [==============================] - 82s 27ms/step - loss: 3.9920\n",
            "Epoch 9/100\n",
            "3043/3043 [==============================] - 82s 27ms/step - loss: 3.8652\n",
            "Epoch 10/100\n",
            "3043/3043 [==============================] - 82s 27ms/step - loss: 3.7561\n",
            "Epoch 11/100\n",
            "3043/3043 [==============================] - 83s 27ms/step - loss: 3.6574\n",
            "Epoch 12/100\n",
            "3043/3043 [==============================] - 83s 27ms/step - loss: 3.5695\n",
            "Epoch 13/100\n",
            "3043/3043 [==============================] - 82s 27ms/step - loss: 3.4846\n",
            "Epoch 14/100\n",
            "3043/3043 [==============================] - 84s 28ms/step - loss: 3.4085\n",
            "Epoch 15/100\n",
            "3043/3043 [==============================] - 83s 27ms/step - loss: 3.3471\n",
            "Epoch 16/100\n",
            "3043/3043 [==============================] - 83s 27ms/step - loss: 3.2796\n",
            "Epoch 17/100\n",
            "3043/3043 [==============================] - 83s 27ms/step - loss: 3.2288\n",
            "Epoch 18/100\n",
            "3043/3043 [==============================] - 82s 27ms/step - loss: 3.1758\n",
            "Epoch 19/100\n",
            "3043/3043 [==============================] - 82s 27ms/step - loss: 3.1266\n",
            "Epoch 20/100\n",
            "3043/3043 [==============================] - 82s 27ms/step - loss: 3.0824\n",
            "Epoch 21/100\n",
            "3043/3043 [==============================] - 82s 27ms/step - loss: 3.0420\n",
            "Epoch 22/100\n",
            "3043/3043 [==============================] - 83s 27ms/step - loss: 2.9978\n",
            "Epoch 23/100\n",
            "3043/3043 [==============================] - 82s 27ms/step - loss: 2.9644\n",
            "Epoch 24/100\n",
            "3043/3043 [==============================] - 82s 27ms/step - loss: 2.9253\n",
            "Epoch 25/100\n",
            "3043/3043 [==============================] - 82s 27ms/step - loss: 2.8929\n",
            "Epoch 26/100\n",
            "3043/3043 [==============================] - 82s 27ms/step - loss: 2.8611\n",
            "Epoch 27/100\n",
            "3043/3043 [==============================] - 82s 27ms/step - loss: 2.8314\n",
            "Epoch 28/100\n",
            "3043/3043 [==============================] - 82s 27ms/step - loss: 2.8010\n",
            "Epoch 29/100\n",
            "3043/3043 [==============================] - 82s 27ms/step - loss: 2.7747\n",
            "Epoch 30/100\n",
            "3043/3043 [==============================] - 82s 27ms/step - loss: 2.7477\n",
            "Epoch 31/100\n",
            "3043/3043 [==============================] - 82s 27ms/step - loss: 2.7253\n",
            "Epoch 32/100\n",
            "3043/3043 [==============================] - 82s 27ms/step - loss: 2.7017\n",
            "Epoch 33/100\n",
            "3043/3043 [==============================] - 82s 27ms/step - loss: 2.6725\n",
            "Epoch 34/100\n",
            "3043/3043 [==============================] - 82s 27ms/step - loss: 2.6484\n",
            "Epoch 35/100\n",
            "3043/3043 [==============================] - 82s 27ms/step - loss: 2.6300\n",
            "Epoch 36/100\n",
            "3043/3043 [==============================] - 82s 27ms/step - loss: 2.6115\n",
            "Epoch 37/100\n",
            "3043/3043 [==============================] - 82s 27ms/step - loss: 2.5863\n",
            "Epoch 38/100\n",
            "3043/3043 [==============================] - 82s 27ms/step - loss: 2.5708\n",
            "Epoch 39/100\n",
            "3043/3043 [==============================] - 82s 27ms/step - loss: 2.5492\n",
            "Epoch 40/100\n",
            "3043/3043 [==============================] - 82s 27ms/step - loss: 2.5246\n",
            "Epoch 41/100\n",
            "3043/3043 [==============================] - 81s 27ms/step - loss: 2.5096\n",
            "Epoch 42/100\n",
            "3043/3043 [==============================] - 81s 27ms/step - loss: 2.4911\n",
            "Epoch 43/100\n",
            "3043/3043 [==============================] - 81s 27ms/step - loss: 2.4761\n",
            "Epoch 44/100\n",
            "3043/3043 [==============================] - 81s 27ms/step - loss: 2.4561\n",
            "Epoch 45/100\n",
            "3043/3043 [==============================] - 81s 27ms/step - loss: 2.4353\n",
            "Epoch 46/100\n",
            "3043/3043 [==============================] - 81s 27ms/step - loss: 2.4226\n",
            "Epoch 47/100\n",
            "3043/3043 [==============================] - 81s 27ms/step - loss: 2.4095\n",
            "Epoch 48/100\n",
            "3043/3043 [==============================] - 81s 27ms/step - loss: 2.3915\n",
            "Epoch 49/100\n",
            "3043/3043 [==============================] - 81s 27ms/step - loss: 2.3829\n",
            "Epoch 50/100\n",
            "3043/3043 [==============================] - 81s 27ms/step - loss: 2.3641\n",
            "Epoch 51/100\n",
            "3043/3043 [==============================] - 81s 27ms/step - loss: 2.3502\n",
            "Epoch 52/100\n",
            "3043/3043 [==============================] - 81s 27ms/step - loss: 2.3347\n",
            "Epoch 53/100\n",
            "3043/3043 [==============================] - 81s 27ms/step - loss: 2.3173\n",
            "Epoch 54/100\n",
            "3043/3043 [==============================] - 81s 27ms/step - loss: 2.3043\n",
            "Epoch 55/100\n",
            "3043/3043 [==============================] - 81s 27ms/step - loss: 2.2961\n",
            "Epoch 56/100\n",
            "3043/3043 [==============================] - 81s 27ms/step - loss: 2.2803\n",
            "Epoch 57/100\n",
            "3043/3043 [==============================] - 81s 27ms/step - loss: 2.2677\n",
            "Epoch 58/100\n",
            "3043/3043 [==============================] - 81s 27ms/step - loss: 2.2581\n",
            "Epoch 59/100\n",
            "3043/3043 [==============================] - 81s 27ms/step - loss: 2.2401\n",
            "Epoch 60/100\n",
            "3043/3043 [==============================] - 81s 27ms/step - loss: 2.2323\n",
            "Epoch 61/100\n",
            "3043/3043 [==============================] - 81s 27ms/step - loss: 2.2215\n",
            "Epoch 62/100\n",
            "3043/3043 [==============================] - 81s 27ms/step - loss: 2.2112\n",
            "Epoch 63/100\n",
            "3043/3043 [==============================] - 81s 27ms/step - loss: 2.1958\n",
            "Epoch 64/100\n",
            "3043/3043 [==============================] - 81s 27ms/step - loss: 2.1882\n",
            "Epoch 65/100\n",
            "3043/3043 [==============================] - 81s 27ms/step - loss: 2.1748\n",
            "Epoch 66/100\n",
            "3043/3043 [==============================] - 81s 27ms/step - loss: 2.1590\n",
            "Epoch 67/100\n",
            "3043/3043 [==============================] - 81s 27ms/step - loss: 2.1519\n",
            "Epoch 68/100\n",
            "3043/3043 [==============================] - 81s 27ms/step - loss: 2.1433\n",
            "Epoch 69/100\n",
            "3043/3043 [==============================] - 81s 27ms/step - loss: 2.1274\n",
            "Epoch 70/100\n",
            "3043/3043 [==============================] - 81s 27ms/step - loss: 2.1185\n",
            "Epoch 71/100\n",
            "3043/3043 [==============================] - 81s 27ms/step - loss: 2.1126\n",
            "Epoch 72/100\n",
            "3043/3043 [==============================] - 81s 27ms/step - loss: 2.0975\n",
            "Epoch 73/100\n",
            "3043/3043 [==============================] - 81s 27ms/step - loss: 2.0884\n",
            "Epoch 74/100\n",
            "3043/3043 [==============================] - 81s 27ms/step - loss: 2.0844\n",
            "Epoch 75/100\n",
            "3043/3043 [==============================] - 81s 27ms/step - loss: 2.0723\n",
            "Epoch 76/100\n",
            "3043/3043 [==============================] - 81s 26ms/step - loss: 2.0615\n",
            "Epoch 77/100\n",
            "3043/3043 [==============================] - 81s 27ms/step - loss: 2.0479\n",
            "Epoch 78/100\n",
            "3043/3043 [==============================] - 81s 26ms/step - loss: 2.0432\n",
            "Epoch 79/100\n",
            "3043/3043 [==============================] - 81s 26ms/step - loss: 2.0290\n",
            "Epoch 80/100\n",
            "3043/3043 [==============================] - 81s 27ms/step - loss: 2.0214\n",
            "Epoch 81/100\n",
            "3043/3043 [==============================] - 81s 27ms/step - loss: 2.0153\n",
            "Epoch 82/100\n",
            "3043/3043 [==============================] - 81s 27ms/step - loss: 2.0042\n",
            "Epoch 83/100\n",
            "3043/3043 [==============================] - 81s 27ms/step - loss: 1.9956\n",
            "Epoch 84/100\n",
            "3043/3043 [==============================] - 81s 27ms/step - loss: 1.9867\n",
            "Epoch 85/100\n",
            "3043/3043 [==============================] - 81s 26ms/step - loss: 1.9811\n",
            "Epoch 86/100\n",
            "3043/3043 [==============================] - 81s 27ms/step - loss: 1.9704\n",
            "Epoch 87/100\n",
            "3043/3043 [==============================] - 81s 27ms/step - loss: 1.9662\n",
            "Epoch 88/100\n",
            "3043/3043 [==============================] - 81s 27ms/step - loss: 1.9533\n",
            "Epoch 89/100\n",
            "3043/3043 [==============================] - 81s 27ms/step - loss: 1.9431\n",
            "Epoch 90/100\n",
            "3043/3043 [==============================] - 81s 27ms/step - loss: 1.9365\n",
            "Epoch 91/100\n",
            "3043/3043 [==============================] - 81s 27ms/step - loss: 1.9336\n",
            "Epoch 92/100\n",
            "3043/3043 [==============================] - 81s 27ms/step - loss: 1.9237\n",
            "Epoch 93/100\n",
            "3043/3043 [==============================] - 81s 27ms/step - loss: 1.9154\n",
            "Epoch 94/100\n",
            "3043/3043 [==============================] - 81s 27ms/step - loss: 1.9096\n",
            "Epoch 95/100\n",
            "3043/3043 [==============================] - 81s 27ms/step - loss: 1.9015\n",
            "Epoch 96/100\n",
            "3043/3043 [==============================] - 81s 27ms/step - loss: 1.8903\n",
            "Epoch 97/100\n",
            "3043/3043 [==============================] - 81s 27ms/step - loss: 1.8859\n",
            "Epoch 98/100\n",
            "3043/3043 [==============================] - 81s 27ms/step - loss: 1.8837\n",
            "Epoch 99/100\n",
            "3043/3043 [==============================] - 81s 27ms/step - loss: 1.8711\n",
            "Epoch 100/100\n",
            "3043/3043 [==============================] - 81s 27ms/step - loss: 1.8615\n"
          ],
          "name": "stdout"
        },
        {
          "output_type": "execute_result",
          "data": {
            "text/plain": [
              "<tensorflow.python.keras.callbacks.History at 0x7f4a6aa68630>"
            ]
          },
          "metadata": {
            "tags": []
          },
          "execution_count": 15
        }
      ]
    },
    {
      "cell_type": "code",
      "metadata": {
        "id": "ysARsMynoMAQ"
      },
      "source": [
        "midi_model.save('/content/drive/My Drive/Tarea4/midi_model.hdf5')"
      ],
      "execution_count": null,
      "outputs": []
    },
    {
      "cell_type": "markdown",
      "metadata": {
        "id": "fSsO4Ow2Nqeb"
      },
      "source": [
        "## b) La generación de música que hicimos es muy básica y tiene varias limitaciones (¡pero aún así es sorprendente!). Una de ellas es que las notas generadas tienen solo una duración. Otra es que solo usan un instrumento. ¿Qué ideas se te ocurren para extender el método en ambos casos, que puedan implementarse en términos de redes recurrentes o Deep Learning en general?\n",
        "\n",
        "## Quizá la lectura de Briot et al. (2019, 2017) y Huang & Wu (2016) puedan ayudar."
      ]
    },
    {
      "cell_type": "markdown",
      "metadata": {
        "id": "3UWVK5eGwszi"
      },
      "source": [
        "Una de las maneras en que se podría atacar la limitación del primer caso es explorar otras representaciones de la información distintas al formato MIDI. Una de las alternativas más interesantes que se encontraron en la obra de Briot, Hadjeres y Pachet (2007) es una representación de los acordes llamada _Chord2Vec_ inspirada en la representación vectorial de palabras _Word2Vec_. De esta manera se representan los acordes de manera vertical y para cada _time step_ las notas se representan como una secuencia delimitadas por un símbolo especial. Esta forma de trabajar con los datos fue de especial interés debido a que busca vectorizar información que puede ser tan compleja como una melodía, de manera similar a como se realiza con textos en el método de _World2Vec_.\n",
        "\n",
        "Otra de las alternativas para representar la información y que, además de permitir trabajar con notas de distintas duraciones, nos permitiría también trabajar con música polifónica, es la de _piano rolls_. Esta representación contiene información sobre la __duración__ de la nota y su tono de acuerdo a la longitud y la ubicación de la _\"perforación\"_, termino que se toma del clásico papel con perforaciones utilizados para reproducir música en las pianoles (_automated pianos_). En esta representación se pueden incluir melodías tanto monódicas como __polifónicas__, es decir compuesta de distintos sonidos. En el artículo de se exploran las diferencias al utilizar la representación MIDI vs piano rolls, en la generación de música.\n",
        "\n",
        "Además de buscar distintas representaciones, considero que una de las maneras más efectivas para crear música polifónica o multi-instrumental es explorar arquitecturas especiales para este tipo de música. Un ejemplo son las __RNN-RBM__ (_Recurrent Neural Network_-_Restricted Boltzmann Machine_) la cual las combina para asociar tanto la perspectiva vertical (notas simultáneas provenientes de distintos instrumentos) como la horizontal (secuencia de las notas). Otro ejemplo de las arquitecturas especiales para este tipo de música es la descrita por Hadjeres, Pachet y Nielsen (2017) como __DeepBach__. Esta arquitectura combina dos redes recurrentes (LSTM) y dos _feedforward_, lo cual permite tomar en cuenta la dirección del tiempo tanto hacia adelante como hacia atrás, ya que una de las redes recurrentes se usa para resumir la información pasada, otra para la información del futuro y las redes no recurrentes para las notas que ocurren al mismo tiempo. Esta arquitectura se resume en la siguiente imagen tomada de Briot et al. (2017)."
      ]
    },
    {
      "cell_type": "code",
      "metadata": {
        "id": "GHaE0pcT8s8n",
        "outputId": "21f575b7-933c-4763-ed19-7073f9ffe89c",
        "colab": {
          "base_uri": "https://localhost:8080/",
          "height": 247
        }
      },
      "source": [
        "Image(retina=True, filename='/content/drive/My Drive/Tarea4/DeepBach.JPG')"
      ],
      "execution_count": null,
      "outputs": [
        {
          "output_type": "execute_result",
          "data": {
            "image/jpeg": "[encoded data removed]",
            "text/plain": [
              "<IPython.core.display.Image object>"
            ]
          },
          "metadata": {
            "tags": [],
            "image/jpeg": {
              "width": 163,
              "height": 230
            }
          },
          "execution_count": 7
        }
      ]
    }
  ]
}