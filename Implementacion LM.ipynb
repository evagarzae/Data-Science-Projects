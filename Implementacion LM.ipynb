{
 "cells": [
  {
   "cell_type": "markdown",
   "metadata": {},
   "source": [
    "# Implementación de Modelo Linear para Clasificación"
   ]
  },
  {
   "cell_type": "code",
   "execution_count": 192,
   "metadata": {},
   "outputs": [],
   "source": [
    "import pandas as pd\n",
    "import matplotlib.pyplot as plt\n",
    "import matplotlib as mpl\n",
    "import numpy as np\n",
    "import seaborn as sns\n",
    "import os\n",
    "import random"
   ]
  },
  {
   "cell_type": "code",
   "execution_count": 193,
   "metadata": {},
   "outputs": [],
   "source": [
    "os.chdir('C:/Users/Evangelina Garza/Documents/CIMAT/MCE_2Semestre/Ciencia de Datos')"
   ]
  },
  {
   "cell_type": "code",
   "execution_count": 194,
   "metadata": {},
   "outputs": [],
   "source": [
    "sns.set()\n",
    "%matplotlib inline"
   ]
  },
  {
   "cell_type": "code",
   "execution_count": 195,
   "metadata": {},
   "outputs": [],
   "source": [
    "c_map = {0: 'deeppink', 1: 'teal', 2: 'violet'}"
   ]
  },
  {
   "cell_type": "code",
   "execution_count": 196,
   "metadata": {},
   "outputs": [
    {
     "data": {
      "text/plain": [
       "<matplotlib.collections.PathCollection at 0x19cb25b76c8>"
      ]
     },
     "execution_count": 196,
     "metadata": {},
     "output_type": "execute_result"
    },
    {
     "data": {
      "image/png": "[encoded data removed]",
      "text/plain": [
       "<Figure size 432x288 with 1 Axes>"
      ]
     },
     "metadata": {
      "needs_background": "light"
     },
     "output_type": "display_data"
    }
   ],
   "source": [
    "#Generacion de datos en 2D\n",
    "from sklearn.datasets.samples_generator import make_blobs\n",
    "X, y_true = make_blobs(n_samples=100, centers=2, n_features=2,\n",
    "                       cluster_std=0.65, random_state=0)\n",
    "plt.scatter(X[:, 0],X[:, 1],c=c_map[0])"
   ]
  },
  {
   "cell_type": "code",
   "execution_count": 197,
   "metadata": {},
   "outputs": [],
   "source": [
    "X_train=X[0:89,:]\n",
    "X_test=X[90:99,:]\n",
    "y_train=y_true[0:89]\n",
    "y_test=y_true[90:99]"
   ]
  },
  {
   "cell_type": "code",
   "execution_count": 198,
   "metadata": {},
   "outputs": [
    {
     "data": {
      "text/plain": [
       "(89, 2)"
      ]
     },
     "execution_count": 198,
     "metadata": {},
     "output_type": "execute_result"
    }
   ],
   "source": [
    "X_train.shape"
   ]
  },
  {
   "cell_type": "code",
   "execution_count": 199,
   "metadata": {},
   "outputs": [],
   "source": [
    "#Funcion para generar el vector Beta y el valor de Beta0\n",
    "def betas_lm(X,y):\n",
    "    n0=0\n",
    "    n1=0\n",
    "    \n",
    "    for a in range(X.shape[0]):\n",
    "        if (y[a]==0):\n",
    "            n0=n0+1\n",
    "        else:\n",
    "            n1=n1+1\n",
    "            \n",
    "    nn=X.shape[0]\n",
    "    X0=np.zeros((n0,X.shape[1]))\n",
    "    X1=np.zeros((n1,X.shape[1]))\n",
    "    SW=np.zeros((X.shape[1],X.shape[1]))\n",
    "    \n",
    "    j=0\n",
    "    k=0\n",
    "    \n",
    "    for i in range(nn):\n",
    "        if (y[i]==0):\n",
    "            X0[j,]=X[i,]\n",
    "            j=j+1\n",
    "            sw1=np.array([[X[i,0]],[X[i,1]]])\n",
    "            SW=SW+np.dot(sw1,np.transpose(sw1))\n",
    "        else:\n",
    "            X1[k,]=X[i,]\n",
    "            k=k+1\n",
    "            sw2=np.array([[X[i,0]],[X[i,1]]])\n",
    "            SW=SW+np.dot(sw2,np.transpose(sw2))\n",
    "    \n",
    "    c=np.average(X,axis=0)\n",
    "    c0=np.average(X0,axis=0)\n",
    "    c1=np.average(X1,axis=0)\n",
    "    \n",
    "    C=np.array([[c[0]],[c[1]]])\n",
    "    C0=np.array([[c0[0]],[c0[1]]])\n",
    "    C1=np.array([[c1[0]],[c1[1]]])\n",
    "    \n",
    "    SB=np.dot((C0-C1),np.transpose((C0-C1)))\n",
    "    SW=SW-n0*(np.dot(C0,np.transpose(C0)))-n1*(np.dot(C1,np.transpose(C1)))\n",
    "    \n",
    "    M=SW+((n0*n1)/nn)*SB\n",
    "    Beta=np.dot(np.linalg.inv(M), nn*(C0-C1))\n",
    "    Beta0=-np.dot(np.transpose(Beta),C)\n",
    "    \n",
    "    return Beta,Beta0,n0,n1"
   ]
  },
  {
   "cell_type": "code",
   "execution_count": 200,
   "metadata": {},
   "outputs": [],
   "source": [
    "beta,beta0,n0,n1=betas_lm(X_train,y_train)"
   ]
  },
  {
   "cell_type": "code",
   "execution_count": 201,
   "metadata": {},
   "outputs": [
    {
     "data": {
      "text/plain": [
       "<function matplotlib.pyplot.show(*args, **kw)>"
      ]
     },
     "execution_count": 201,
     "metadata": {},
     "output_type": "execute_result"
    },
    {
     "data": {
      "image/png": "[encoded data removed]",
      "text/plain": [
       "<Figure size 432x288 with 1 Axes>"
      ]
     },
     "metadata": {
      "needs_background": "light"
     },
     "output_type": "display_data"
    }
   ],
   "source": [
    "x = np.linspace(-3, 5, 100)\n",
    "y= (-1/beta[1])*(beta[0]*x + beta0)\n",
    "y=np.transpose(y)\n",
    "\n",
    "#Grafica del modelo lineal obtenido\n",
    "plt.scatter(X_train[:, 0],X_train[:, 1],c=[c_map[i] for i in y_train])\n",
    "plt.plot(x,y)\n",
    "plt.show"
   ]
  },
  {
   "cell_type": "code",
   "execution_count": 202,
   "metadata": {},
   "outputs": [],
   "source": [
    "#Funcion que nos determina la clasificacion del nuevo conjunto de datos\n",
    "#De acuerdo con los parametros del modelo lineal y la funcion de costo\n",
    "def clasi_lm(X,n0,n1,B,B0):\n",
    "    y_new=np.zeros(X.shape[0])\n",
    "    for i in range(X.shape[0]):\n",
    "        t2=np.dot(np.transpose(B),X[i,:])\n",
    "        costo0=(((n0+n1)/n0)-t2[0]-B0[0])\n",
    "        costo0=costo0[0]*costo0[0]\n",
    "        costo1=((-(n0+n1)/n1)-t2[0]-B0[0])\n",
    "        costo1=costo1[0]*costo1[0]\n",
    "        if costo0<=costo1:\n",
    "            y_new[i]=0\n",
    "        else:\n",
    "            y_new[i]=1\n",
    "    return y_new"
   ]
  },
  {
   "cell_type": "code",
   "execution_count": 203,
   "metadata": {},
   "outputs": [
    {
     "data": {
      "text/plain": [
       "array([1., 1., 1., 1., 0., 0., 1., 1., 0.])"
      ]
     },
     "execution_count": 203,
     "metadata": {},
     "output_type": "execute_result"
    }
   ],
   "source": [
    "#Probamos con el conjunto de prueba y los parametros obtenidos previamente\n",
    "y_new=clasi_lm(X_test,n0,n1,beta,beta0)\n",
    "y_new"
   ]
  },
  {
   "cell_type": "code",
   "execution_count": 204,
   "metadata": {},
   "outputs": [
    {
     "data": {
      "text/plain": [
       "array([1, 1, 1, 1, 0, 0, 1, 1, 0])"
      ]
     },
     "execution_count": 204,
     "metadata": {},
     "output_type": "execute_result"
    }
   ],
   "source": [
    "y_test"
   ]
  },
  {
   "cell_type": "code",
   "execution_count": 205,
   "metadata": {},
   "outputs": [
    {
     "data": {
      "text/plain": [
       "<function matplotlib.pyplot.show(*args, **kw)>"
      ]
     },
     "execution_count": 205,
     "metadata": {},
     "output_type": "execute_result"
    },
    {
     "data": {
      "image/png": "[encoded data removed]",
      "text/plain": [
       "<Figure size 432x288 with 1 Axes>"
      ]
     },
     "metadata": {
      "needs_background": "light"
     },
     "output_type": "display_data"
    }
   ],
   "source": [
    "#Graficamos el conjunto de prueba con el color correspondiente \n",
    "#a la clasificacion obtenida de acuerdo al minimo de funcion de costo\n",
    "#Ademas de la linea del modelo lineal obtenido previamente\n",
    "plt.scatter(X_test[:, 0],X_test[:, 1],c=[c_map[i] for i in y_new])\n",
    "plt.plot(x,y)\n",
    "plt.show"
   ]
  },
  {
   "cell_type": "markdown",
   "metadata": {},
   "source": [
    "# Implementacion con Pesos"
   ]
  },
  {
   "cell_type": "code",
   "execution_count": 226,
   "metadata": {},
   "outputs": [],
   "source": [
    "def pesos(X,y):\n",
    "    n0=0\n",
    "    n1=0\n",
    "    \n",
    "    for a in range(X.shape[0]):\n",
    "        if (y[a]==0):\n",
    "            n0=n0+1\n",
    "        else:\n",
    "            n1=n1+1\n",
    "            \n",
    "    nn=X.shape[0]\n",
    "    X0=np.zeros((n0,X.shape[1]))\n",
    "    X1=np.zeros((n1,X.shape[1]))\n",
    "    SW=np.zeros((X.shape[1],X.shape[1]))\n",
    "    SW1=np.zeros((X.shape[1],X.shape[1]))\n",
    "    SW2=np.zeros((X.shape[1],X.shape[1]))\n",
    "    \n",
    "    j=0\n",
    "    k=0\n",
    "    \n",
    "    for i in range(nn):\n",
    "        if (y[i]==0):\n",
    "            X0[j,]=X[i,]\n",
    "            j=j+1\n",
    "            sw1=np.array([[X[i,0]],[X[i,1]]])\n",
    "            SW=SW+np.dot(sw1,np.transpose(sw1))\n",
    "            SW1=SW1+np.dot(sw1,np.transpose(sw1))\n",
    "        else:\n",
    "            X1[k,]=X[i,]\n",
    "            k=k+1\n",
    "            sw2=np.array([[X[i,0]],[X[i,1]]])\n",
    "            SW=SW+np.dot(sw2,np.transpose(sw2))\n",
    "            SW2=SW2+np.dot(sw2,np.transpose(sw2))\n",
    "    \n",
    "    c=np.average(X,axis=0)\n",
    "    c0=np.average(X0,axis=0)\n",
    "    c1=np.average(X1,axis=0)\n",
    "    \n",
    "    C=np.array([[c[0]],[c[1]]])\n",
    "    C0=np.array([[c0[0]],[c0[1]]])\n",
    "    C1=np.array([[c1[0]],[c1[1]]])\n",
    "    \n",
    "    SB=np.dot((C0-C1),np.transpose((C0-C1)))\n",
    "    SW=SW-n0*(np.dot(C0,np.transpose(C0)))-n1*(np.dot(C1,np.transpose(C1)))\n",
    "    \n",
    "    M=SW+((n0*n1)/nn)*SB\n",
    "    Beta=np.dot(np.linalg.inv(M), nn*(C0-C1))\n",
    "    Beta0=-np.dot(np.transpose(Beta),C)\n",
    "    w0=np.linalg.det(SW1)/(np.linalg.det(SW1)+np.linalg.det(SW2))\n",
    "    w1=np.linalg.det(SW2)/(np.linalg.det(SW1)+np.linalg.det(SW2))\n",
    "    \n",
    "    return w0,w1"
   ]
  },
  {
   "cell_type": "code",
   "execution_count": 227,
   "metadata": {},
   "outputs": [],
   "source": [
    "wi=pesos(X_train,y_train)"
   ]
  },
  {
   "cell_type": "code",
   "execution_count": 228,
   "metadata": {},
   "outputs": [],
   "source": [
    "def clasi_lmw(X,n0,n1,B,B0,wi):\n",
    "    y_new=np.zeros(X.shape[0])\n",
    "    for i in range(X.shape[0]):\n",
    "        t2=np.dot(np.transpose(B),X[i,:])\n",
    "        costo0=wi[0]*(((n0+n1)/n0)-t2[0]-B0[0])\n",
    "        costo0=costo0[0]*costo0[0]\n",
    "        costo1=wi[0]*((-(n0+n1)/n1)-t2[0]-B0[0])\n",
    "        costo1=costo1[0]*costo1[0]\n",
    "        if costo0<=costo1:\n",
    "            y_new[i]=0\n",
    "        else:\n",
    "            y_new[i]=1\n",
    "    return y_new"
   ]
  },
  {
   "cell_type": "code",
   "execution_count": 245,
   "metadata": {},
   "outputs": [
    {
     "data": {
      "text/plain": [
       "<matplotlib.collections.PathCollection at 0x19cb2f55ac8>"
      ]
     },
     "execution_count": 245,
     "metadata": {},
     "output_type": "execute_result"
    },
    {
     "data": {
      "image/png": "[encoded data removed]",
      "text/plain": [
       "<Figure size 432x288 with 1 Axes>"
      ]
     },
     "metadata": {
      "needs_background": "light"
     },
     "output_type": "display_data"
    }
   ],
   "source": [
    "X2, y_true2 = make_blobs(n_samples=100, centers=2, n_features=2,\n",
    "                       cluster_std=0.9, random_state=0)\n",
    "plt.scatter(X2[:, 0],X2[:, 1],c=c_map[0])"
   ]
  },
  {
   "cell_type": "code",
   "execution_count": 251,
   "metadata": {},
   "outputs": [],
   "source": [
    "X2_train=X2[0:89,:]\n",
    "X2_test=X2[90:99,:]\n",
    "y2_train=y_true2[0:89]\n",
    "y2_test=y_true2[90:99]"
   ]
  },
  {
   "cell_type": "code",
   "execution_count": 252,
   "metadata": {},
   "outputs": [
    {
     "data": {
      "text/plain": [
       "array([1., 1., 1., 1., 0., 0., 1., 1., 0.])"
      ]
     },
     "execution_count": 252,
     "metadata": {},
     "output_type": "execute_result"
    }
   ],
   "source": [
    "beta2,beta02,n02,n12=betas_lm(X2_train,y2_train)\n",
    "y2_new=clasi_lmw(X2_test,n02,n12,beta2,beta02,wi)\n",
    "y2_new"
   ]
  },
  {
   "cell_type": "code",
   "execution_count": 255,
   "metadata": {},
   "outputs": [
    {
     "data": {
      "text/plain": [
       "<function matplotlib.pyplot.show(*args, **kw)>"
      ]
     },
     "execution_count": 255,
     "metadata": {},
     "output_type": "execute_result"
    },
    {
     "data": {
      "image/png": "[encoded data removed]",
      "text/plain": [
       "<Figure size 432x288 with 1 Axes>"
      ]
     },
     "metadata": {
      "needs_background": "light"
     },
     "output_type": "display_data"
    }
   ],
   "source": [
    "#Grafica del modelo lineal obtenido\n",
    "plt.scatter(X2_train[:, 0],X2_train[:, 1],c=[c_map[i] for i in y2_train])\n",
    "plt.plot(x,y)\n",
    "plt.show"
   ]
  },
  {
   "cell_type": "code",
   "execution_count": 253,
   "metadata": {},
   "outputs": [
    {
     "data": {
      "text/plain": [
       "array([1, 1, 1, 1, 0, 0, 1, 1, 0])"
      ]
     },
     "execution_count": 253,
     "metadata": {},
     "output_type": "execute_result"
    }
   ],
   "source": [
    "y2_test"
   ]
  },
  {
   "cell_type": "code",
   "execution_count": 254,
   "metadata": {},
   "outputs": [
    {
     "data": {
      "text/plain": [
       "<function matplotlib.pyplot.show(*args, **kw)>"
      ]
     },
     "execution_count": 254,
     "metadata": {},
     "output_type": "execute_result"
    },
    {
     "data": {
      "image/png": "[encoded data removed]",
      "text/plain": [
       "<Figure size 432x288 with 1 Axes>"
      ]
     },
     "metadata": {
      "needs_background": "light"
     },
     "output_type": "display_data"
    }
   ],
   "source": [
    "plt.scatter(X2_test[:, 0],X2_test[:, 1],c=[c_map[i] for i in y2_new])\n",
    "plt.plot(x,y)\n",
    "plt.show"
   ]
  },
  {
   "cell_type": "code",
   "execution_count": null,
   "metadata": {},
   "outputs": [],
   "source": []
  }
 ],
 "metadata": {
  "kernelspec": {
   "display_name": "Python 3",
   "language": "python",
   "name": "python3"
  },
  "language_info": {
   "codemirror_mode": {
    "name": "ipython",
    "version": 3
   },
   "file_extension": ".py",
   "mimetype": "text/x-python",
   "name": "python",
   "nbconvert_exporter": "python",
   "pygments_lexer": "ipython3",
   "version": "3.7.4"
  }
 },
 "nbformat": 4,
 "nbformat_minor": 2
}
