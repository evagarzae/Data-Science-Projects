{
 "cells": [
  {
   "cell_type": "markdown",
   "metadata": {},
   "source": [
    "# <center>Tópicos selectos de análisis de datos<center>\n",
    "# <center>Tarea 1<center>\n",
    "## <center>Para entregar el 9 de septiembre de 2020<center>"
   ]
  },
  {
   "cell_type": "markdown",
   "metadata": {},
   "source": [
    "Instrucciones: \n",
    "- Entrega un solo jupyter notebook por tarea. Incluye cualquier archivo, imágen, datos, etcétera, para que pueda ejecutarse. Si lo crees conveniente, puedes usar latex para los ejercicios que lo requieran.\n",
    "\n",
    "- Usa python 3.x y tensorflow 2.x\n",
    "\n",
    "- Todos tus archivos DEBES nombrarlos con el siguiente formato: TareaXXX_Nombre_Apellido.ipynb, TareaXXX_Nombre_Apellido.pdf, TareaXXX_Nombre_Apellido.csv, etcétera.\n",
    "\n",
    "- Crea una carpeta con nombre TareaXXX_Nombre_Apellido donde incluirás todos tus archivos, y entrega UN SOLO archivo ZIP usando el mismo formato para el nombre: TareaXXX_Nombre_Apellido.zip\n",
    "\n",
    "- LAS TAREAS SON INDIVIDUALES, a menos que se especifique lo contrario\n"
   ]
  },
  {
   "cell_type": "markdown",
   "metadata": {},
   "source": [
    "1. Calcula lo siguiente:\n",
    "$$ \n",
    "\\begin{pmatrix} 1 & 2 \\\\ \n",
    "3 & 4 \\end{pmatrix} \n",
    "\\begin{pmatrix} 0 & 1 \\\\ \n",
    "2 & 3 \\end{pmatrix} \n",
    "+ \n",
    "\\begin{pmatrix} 7 & 9 \\end{pmatrix} \n",
    "$$\n",
    "\n",
    "Usa broadcasting de tal forma que la operación esté bien definida. Antes, averigua qué es broadcasting, en el contextos de numpy-tensorflow..."
   ]
  },
  {
   "cell_type": "markdown",
   "metadata": {},
   "source": [
    "### <font color=green>Respuesta</font>\n"
   ]
  },
  {
   "cell_type": "markdown",
   "metadata": {},
   "source": [
    "El broadcasting se refiere a la manera de tratar dos areglos de diferentes tamaños para que sean compatibles \n",
    "cuando se está realizando alguna operación con ellos. La librería Numpy tiene una función que realiza esta operación a la que se\n",
    "puede accesar a través de numpy.broadcasting, aunque también es capaz de realizarlo automáticamente. \n",
    "Se muestran las dos maneras a continuación:"
   ]
  },
  {
   "cell_type": "code",
   "execution_count": 1,
   "metadata": {},
   "outputs": [
    {
     "data": {
      "text/plain": [
       "array([[ 4,  7],\n",
       "       [ 8, 15]])"
      ]
     },
     "execution_count": 1,
     "metadata": {},
     "output_type": "execute_result"
    }
   ],
   "source": [
    "import numpy as np\n",
    "\n",
    "a=np.array([[1,2],[3,4]])\n",
    "b=np.array([[0,1],[2,3]])\n",
    "\n",
    "c=np.dot(a,b)\n",
    "c"
   ]
  },
  {
   "cell_type": "code",
   "execution_count": 2,
   "metadata": {},
   "outputs": [
    {
     "data": {
      "text/plain": [
       "[array([[ 4,  7],\n",
       "        [ 8, 15]]), array([[7, 9],\n",
       "        [7, 9]])]"
      ]
     },
     "execution_count": 2,
     "metadata": {},
     "output_type": "execute_result"
    }
   ],
   "source": [
    "d=np.array([7,9])\n",
    "#Escribiendo explicitamente la función\n",
    "broadc=np.broadcast_arrays(c,d)\n",
    "#Regresa una lista con ambos vectores con las mismas dimensiones\n",
    "broadc"
   ]
  },
  {
   "cell_type": "code",
   "execution_count": 3,
   "metadata": {},
   "outputs": [
    {
     "data": {
      "text/plain": [
       "array([[11, 16],\n",
       "       [15, 24]])"
      ]
     },
     "execution_count": 3,
     "metadata": {},
     "output_type": "execute_result"
    }
   ],
   "source": [
    "broadc[0]+broadc[1]"
   ]
  },
  {
   "cell_type": "code",
   "execution_count": 4,
   "metadata": {},
   "outputs": [
    {
     "data": {
      "text/plain": [
       "array([[11, 16],\n",
       "       [15, 24]])"
      ]
     },
     "execution_count": 4,
     "metadata": {},
     "output_type": "execute_result"
    }
   ],
   "source": [
    "#De igual manera Numpy lo hace de manera directa sin tener que especificar la función broadcast\n",
    "c+d"
   ]
  },
  {
   "cell_type": "code",
   "execution_count": 5,
   "metadata": {},
   "outputs": [],
   "source": [
    "import tensorflow as tf"
   ]
  },
  {
   "cell_type": "code",
   "execution_count": 6,
   "metadata": {},
   "outputs": [
    {
     "data": {
      "text/plain": [
       "<tf.Tensor: shape=(2, 2), dtype=int32, numpy=\n",
       "array([[11, 16],\n",
       "       [15, 24]])>"
      ]
     },
     "execution_count": 6,
     "metadata": {},
     "output_type": "execute_result"
    }
   ],
   "source": [
    "#Con tensorflow\n",
    "x = tf.constant([[1, 2],[3,4]])\n",
    "y = tf.constant([[0, 1],[2,3]])\n",
    "z = tf.constant([7, 9])\n",
    "z2 = tf.broadcast_to(z, [2, 2])\n",
    "res = tf.linalg.matmul(a,b)\n",
    "res+z2"
   ]
  },
  {
   "cell_type": "markdown",
   "metadata": {},
   "source": [
    "2. Las funciones  `tf.math.reduce_` de `tensorflow` reducen las dimensiones de un tensor realizando operaciones en sus elementos. Por ejemplo,\n",
    "```python\n",
    "x = tf.constant([[1, 1, 1], [1, 1, 1]])\n",
    "tf.reduce_sum(x)\n",
    "# obtenemos 6\n",
    "tf.reduce_sum(x, 0)\n",
    "## dará como resultado\n",
    "[2, 2, 2]\n",
    "```\n",
    "Ahora, considera el siguiente código:\n",
    "```python\n",
    "a = tf.constant([[1.], [2.]])\n",
    "b = tf.constant([1., 2.])\n",
    "c = tf.reduce_sum(a + b)\n",
    "```\n",
    "¿Qué valor tendrá `c` ? Explica porqué da ése resultado."
   ]
  },
  {
   "cell_type": "markdown",
   "metadata": {},
   "source": [
    "### <font color=green>Respuesta</font>"
   ]
  },
  {
   "cell_type": "markdown",
   "metadata": {},
   "source": [
    "Dado que no estamos especificando en qué eje se hará la reducción de dimensiones, lo que hará tensorflow \n",
    "es sumar todos los elementos. La primera operación que se realiza es la suma de a y b, que da como resultado un vector de 2x2,\n",
    "ya que se utiliza el broadcasting y ambos arreglos son extendidos a esta dimensión: a se extiende a un arreglo con dos **1** en \n",
    "la primera fila y dos **2** en la segunda fila, b se extiende a un arreglo con otra fila idéntica a la que ya tiene. El resultado de a + b por lo tanto queda **2,3** en la primera fila y **3,4** en la segunda fila. El resultado de la operación\n",
    "*tf.reduce_sum* es la suma de todos estos que es **12**."
   ]
  },
  {
   "cell_type": "code",
   "execution_count": 7,
   "metadata": {},
   "outputs": [
    {
     "data": {
      "text/plain": [
       "12.0"
      ]
     },
     "execution_count": 7,
     "metadata": {},
     "output_type": "execute_result"
    }
   ],
   "source": [
    "a = tf.constant([[1.], [2.]])\n",
    "b = tf.constant([1., 2.])\n",
    "c = tf.reduce_sum(a + b)\n",
    "c.numpy()"
   ]
  },
  {
   "cell_type": "markdown",
   "metadata": {},
   "source": [
    "3. Considera un problema de clasificación multiclase y una red neuronal densa con una capa oculta, como se muestra en la figura 1.\n",
    "<img src=\"fig.png\" height=\"40%\" width=\"40%\"/>\n",
    "<center> Figura 1 <center>\n",
    "\n",
    "    \n",
    "Consideraremos también el uso de la función sigmoide como activación de las unidades ocultas, la función softmax para las estimaciones en la capa de salida y cross-entropy como función de costo."
   ]
  },
  {
   "cell_type": "markdown",
   "metadata": {},
   "source": [
    "(a) Muestra que softmax es invariante a traslaciones (constantes) del vector de entrada, es decir, para cualquier vector $\\mathbf{x}$ y cualquier constante $c$: \n",
    "$$\n",
    "\\text{softmax}(\\mathbf{x}) = \\text{softmax}(\\mathbf{x}+c),\n",
    "$$\n",
    "    donde la operación $\\mathbf{x}+c$ se realiza con broadcasting. Recuerda que \n",
    "$$\n",
    "\\text{softmax}(\\mathbf{x})_i = \\frac{e^{\\mathbf{x}_i}}{\\sum_j e^{\\mathbf{x}_j}}.\n",
    "$$\n",
    "\n",
    "Lo anterior es útil cuando se escoge $c=-\\max(\\mathbf{x})$, es decir, quitando el valor mayor en todos los elementos de $\\mathbf{x}$, para estabilidad numérica."
   ]
  },
  {
   "cell_type": "markdown",
   "metadata": {},
   "source": [
    "### <font color=green>Respuesta</font>"
   ]
  },
  {
   "cell_type": "markdown",
   "metadata": {},
   "source": [
    "La invariabilidad de la función softmax ante translaciones del vector de entrada **x** se puede demostrar con álgebra simple. Sea c la  constante a sumar al vector de entrada y sabiendo que la función softmax está definida como anteriormente se presenta, entonces tenemos que para cada traslación de **x** la función se definiría de la siguiente manera:\n",
    "$$\n",
    "\\text{softmax}(\\mathbf{x})_i = \\frac{e^{\\mathbf{x}_i+c}}{\\sum_j e^{\\mathbf{x}_j+c}}.\n",
    "$$\n",
    "\n",
    "$$\n",
    "\\text{softmax}(\\mathbf{x})_i = \\frac{e^{\\mathbf{x}_i}e^{c}}{\\sum_j e^{\\mathbf{x}_j}e^{c}}.\n",
    "$$\n",
    "\n",
    "$$\n",
    "\\text{softmax}(\\mathbf{x})_i = \\frac{e^{c}e^{\\mathbf{x}_i}}{e^{c}\\sum_j e^{\\mathbf{x}_j}}.\n",
    "$$\n",
    "\n",
    "$$\n",
    "\\text{softmax}(\\mathbf{x})_i = \\frac{e^{\\mathbf{x}_i}}{\\sum_j e^{\\mathbf{x}_j}}.\n",
    "$$\n",
    "\n",
    "\n"
   ]
  },
  {
   "cell_type": "markdown",
   "metadata": {},
   "source": [
    "Esta función puede presentar problemas cuando la sumatoria de los elementos del vector de entrada tiene valores muy grandes. Si es muy negativa entonces podría ser redondeado y definido como $-\\infty$ lo que haría $\\mathbf{0}$ el denominador y a la función indefinida. De igual manera si es una cantidad muy grande y positiva, la función también podría quedar indefinida. Es por esto que se considera útil utilizar $c=-\\max(\\mathbf{x})$ dado que esto eliminará el elemento más grande del vector, haciendo que el argumento más grande pasado al exponencial sea 0 y que al menos un término en el denominador tenga valor de 1, descartando la posibilidad de que el denominador quede en $\\mathbf{0}$. \n",
    "\n",
    "*Referencia:\n",
    "Deep Learning (Ian J. Goodfellow, Yoshua Bengio and Aaron Courville), MIT Press, 2016.*"
   ]
  },
  {
   "cell_type": "code",
   "execution_count": 8,
   "metadata": {},
   "outputs": [
    {
     "name": "stdout",
     "output_type": "stream",
     "text": [
      "[4.33282105e-04 1.43854725e-03 1.75250932e-02 7.83392424e-01\n",
      " 3.91037685e-03 1.18083149e-04 1.93182193e-01]\n",
      "[4.33282105e-04 1.43854725e-03 1.75250932e-02 7.83392424e-01\n",
      " 3.91037685e-03 1.18083149e-04 1.93182193e-01]\n"
     ]
    }
   ],
   "source": [
    "# Se muestra que se obtienen los mismos resultados analiticamente utilizando la traslación con c=-max(x)\n",
    "\n",
    "def softmax_o(x):\n",
    "    e_x = np.exp(x)\n",
    "    return e_x/e_x.sum() \n",
    "\n",
    "def softmax_c(x):\n",
    "    e_x = np.exp(x-np.max(x))\n",
    "    return e_x/e_x.sum() \n",
    "\n",
    "v_test=np.array([1.4,2.6,5.1,8.9,3.6,0.1,7.5])\n",
    "print(softmax_o(v_test))\n",
    "print(softmax_c(v_test))"
   ]
  },
  {
   "cell_type": "markdown",
   "metadata": {},
   "source": [
    "(b) Para un escalar $x$, muestra que el gradiente de la función sigmoide es $\\sigma(x)(1-\\sigma(x))$"
   ]
  },
  {
   "cell_type": "markdown",
   "metadata": {},
   "source": [
    "### <font color=green>Respuesta</font>\n"
   ]
  },
  {
   "cell_type": "markdown",
   "metadata": {},
   "source": [
    "Sabemos que la función sigmoide está definida por:\n",
    "\n",
    "$$\n",
    "\\sigma(\\mathbf{x}) = \\frac{1}{1+e^{\\mathbf{-x}}}.\n",
    "$$\n",
    "\n",
    "Para calcular su gradiente, utilizamos la regla de la cadena en donde \n",
    "$$\n",
    "\\mathbf{u}=1+e^{\\mathbf{-x}}\n",
    "$$\n",
    "\n",
    "y\n",
    "\n",
    "$$\n",
    "\\frac{\\partial \\mathbf{u}}{ \\partial \\mathbf{x}}=-e^{\\mathbf{-x}}\n",
    "$$\n",
    "\n",
    "Por lo tanto:\n",
    "\n",
    "$$\n",
    "\\frac {\\partial \\sigma (\\mathbf{x})}{\\partial \\mathbf{x}}  = \\frac {\\partial \\sigma (\\mathbf{x})}{\\partial \\mathbf{u}} \\frac {\\partial \\mathbf{u}}{\\partial \\mathbf{x}}\n",
    "$$\n",
    "\n",
    "$$\n",
    "\\frac {\\partial \\sigma (\\mathbf{x})}{\\partial \\mathbf{x}}  = (-\\mathbf{u}^{-2}) (-e^{\\mathbf{-x}})\n",
    "$$\n",
    "\n",
    "$$\n",
    "\\frac {\\partial \\sigma (\\mathbf{x})}{\\partial \\mathbf{x}}  = (-(\\mathbf{1+e^{\\mathbf{-x}}}))^{-2}) (-e^{\\mathbf{-x}})\n",
    "$$\n",
    "\n",
    "$$\n",
    "\\frac {\\partial \\sigma (\\mathbf{x})}{\\partial \\mathbf{x}}  = \\frac{-e^{\\mathbf{-x}}}{(-(\\mathbf{1+e^{\\mathbf{-x}}}))^{2})}\n",
    "$$\n",
    "\n",
    "$$\n",
    "\\frac {\\partial \\sigma (\\mathbf{x})}{\\partial \\mathbf{x}}  = \\frac{e^{\\mathbf{-x}}}{(\\mathbf{1+e^{\\mathbf{-x}}})^{2})}\n",
    "$$\n",
    "\n",
    "Separando los términos tenemos:\n",
    "$$\n",
    "\\frac {\\partial \\sigma (\\mathbf{x})}{\\partial \\mathbf{x}}  = \\frac{1}{(\\mathbf{1+e^{\\mathbf{-x}}})}\\frac{e^{\\mathbf{-x}}}{(\\mathbf{1+e^{\\mathbf{-x}}})^{2})}\n",
    "$$\n",
    "\n",
    "Reescribimos el último término de la ecuación:\n",
    "$$\n",
    "\\frac{e^{\\mathbf{-x}}}{(\\mathbf{1+e^{\\mathbf{-x}}}))}=1-\\frac{1}{(\\mathbf{1+e^{\\mathbf{-x}}})}\n",
    "$$\n",
    "Se comprueba que:\n",
    "$$\n",
    "\\frac {\\partial \\sigma (\\mathbf{x})}{\\partial \\mathbf{x}}=\\sigma(\\mathbf{x})(1-\\sigma(\\mathbf{x}))\n",
    "$$"
   ]
  },
  {
   "cell_type": "markdown",
   "metadata": {},
   "source": [
    "(c) Muestra que el gradiente en la capa de salida es \n",
    "$$\n",
    "    \\frac{\\partial L(\\mathbf{y},{\\hat{\\mathbf{y}}})}{\\partial \\mathbf{z}}=\\hat{\\mathbf{y}}-\\mathbf{y},\n",
    "$$\n",
    "    donde $\\hat{\\mathbf{y}}=\\text{softmax}(\\mathbf{z})$, para algún vector $\\mathbf{z}$ que proviene de la capa de salida. \n",
    "    \n",
    "La función de costo, como mencionamos al inicio, es la cross-entropy: $L(\\mathbf{y},{\\hat{\\mathbf{y}}}) = \\displaystyle -\\sum_i y_i\\log(\\hat{y}_i)$, donde $\\mathbf{y}$ es un vector *one-hot* de las clases y $\\hat{\\mathbf{y}}$ es el vector de probabilidades estimadas."
   ]
  },
  {
   "cell_type": "markdown",
   "metadata": {},
   "source": [
    "### <font color=green>Respuesta</font>"
   ]
  },
  {
   "cell_type": "markdown",
   "metadata": {},
   "source": [
    "Para obtener el gradiente en la capa de salida, es necesario utilizar la regla de la cadena para obtener la derivada de $\\hat{y}$ y después la derivada parcial de la función de costo $L(\\mathbf{y,\\hat{y}})$. Se muestra primero la obtención  del gradiente de $\\mathbf{\\hat{y}}$, para lo cual es necesario derivar la función softmax que está dada por:\n",
    "\n",
    "$$\n",
    "\\text{softmax}(\\mathbf{z})_i = \\frac{e^{\\mathbf{z}_i}}{\\sum_j e^{\\mathbf{z}_j}}.\n",
    "$$\n",
    "\n",
    "Dado que la función softmax está dado por un cociente, utilizaremos la regla de la derivada de fracciones según la cual si:\n",
    "$f(z)=\\frac{g(z)}{h(z)}$, entonces:\n",
    "$f'(z)=\\frac{g'(z)h(z)-h'(z)g(z)}{h(z)^2}$\n",
    "\n",
    "Por lo tanto para nuestra función tenemos:\n",
    "$g(z)=e^{\\mathbf{z}_i}$\n",
    "\n",
    "$h(z)=\\sum_j e^{\\mathbf{z}_j}$\n",
    "\n",
    "Las derivadas con respecto a i para nuestra primera función,$g(z)$, es sencilla ya que se obtiene con respecto a $\\mathbf{z_i}$, por lo que queda igual, es decir:\n",
    "\n",
    "$\\frac{\\partial e^{\\mathbf{z_i}}}{\\partial \\mathbf{z_i}}=\\mathbf{z_i}$\n",
    "\n",
    "Sin embargo, para el caso $h(z)$, observamos que la derivada se obtiene con respecto a $\\mathbf{z_i}$, mientras que el término de la sumatoria es sobre los índices j. Esto nos indica que la derivada se obtiene para dos casos: cuando $\\mathbf{i}=\\mathbf{j}$ y $\\mathbf{i} \\neq \\mathbf{j}$.\n",
    "\n",
    "En el primer caso, cuando $i=j$ tenemos que la derivada está dada por:\n",
    "\n",
    "$\\frac{\\partial \\frac{e^{\\mathbf{z_i}}}{\\sum_j e^{\\mathbf{z}_j}}}{\\partial z_i}=\\frac{e^{\\mathbf{z_i}}\\sum_j e^{\\mathbf{z_j}}-e^{\\mathbf{z}_j}e^{\\mathbf{z}_i}}{(e^{\\mathbf{z}_j})^2}$\n",
    "\n",
    "Sabemos por cómo se define el vector $\\hat{y}$, que:\n",
    "\n",
    "$\\hat{y_i}=\\frac{e^{\\mathbf{z_i}}}{\\sum_j e^{\\mathbf{z_j}}}$\n",
    "\n",
    "Entonces utilizando simple álgebra reacomodamos los términos y obtenemos para el caso $i=j$\n",
    "\n",
    "$\\frac{\\partial \\frac{e^{\\mathbf{z_i}}}{\\sum_j e^{\\mathbf{z}_j}}}{\\partial z_i}=\\hat{y_i}(1-\\hat{y_j})$\n",
    "\n",
    "Para el caso $i \\neq j$ observamos que el primer término del numerador es cero, por lo que la expresión que se obtiene es:\n",
    "\n",
    "$\\frac{\\partial \\frac{e^{\\mathbf{z_i}}}{\\sum_j e^{\\mathbf{z}_j}}}{\\partial z_i}=\\frac{0-e^{\\mathbf{z}_j}e^{\\mathbf{z}_i}}{(e^{\\mathbf{z}_j})^2}$\n",
    "\n",
    "\n",
    "$\\frac{\\partial \\frac{e^{\\mathbf{z_i}}}{\\sum_j e^{\\mathbf{z}_j}}}{\\partial z_i}=-\\hat{y_j}y_i$\n",
    "\n",
    "Definiendo el vector de respuesta y como un vector one-hot entonces:\n",
    "\n",
    "$$\n",
    "y=\n",
    "\\begin{cases}\n",
    "1 \\ \\ \\text{if} \\ \\ \\mathbf{i=j}\\\\\n",
    "0 \\ \\ \\text{if} \\ \\ \\mathbf{i \\neq j}\n",
    "\\end{cases}\n",
    "$$\n",
    "\n",
    "Es así que tenemos que:\n",
    "$\\mathbf{\\frac{\\partial \\hat{y_i}}{\\partial{z_j}}=\\hat{y_i}(y-\\hat{y_j})}$"
   ]
  },
  {
   "cell_type": "markdown",
   "metadata": {},
   "source": [
    "Ahora derivamos la expresión de la derivada de la función de Cross Entropy con respecto a z. Sabemos que la función está dada por:\n",
    "\n",
    "$L=-\\sum_i y_i log(\\hat{y_i}) $\n",
    "\n",
    "Entonces la derivada estará dada por:\n",
    "\n",
    "$\\frac{\\partial L}{\\partial z_i} = - \\sum_k y_k \\frac{\\partial log(\\hat{y_k})}{z_i}$\n",
    "$\\frac{\\partial L}{\\partial z_i} = - \\sum_k y_k \\frac{\\partial log(\\hat{y_k})}{z_k} \\frac{\\partial \\hat{y_k}}{\\partial z_i}$\n",
    "$\\frac{\\partial L}{\\partial z_i} = - \\sum_k y_k \\frac{1}{z_k} \\frac{\\partial \\hat{y_k}}{\\partial z_i}$\n",
    "\n",
    "Utilizando el resultado obtenido del gradiente de softmax, tenemos entonces:\n",
    "\n",
    "$\\frac{\\partial L}{\\partial z_i} = -y_i(1-\\hat{y_i}) - \\sum_{k \\neq i} y_k \\frac{1}{z_k} (-\\hat{y_k \\hat{y_i}})$\n",
    "\n",
    "$\\frac{\\partial L}{\\partial z_i} = -y_i(1-\\hat{y_i}) + \\sum_{k \\neq i} y_k (\\hat{y_i})$\n",
    "\n",
    "Dado que y es un vector indicador sabemos que \n",
    "$y_i+\\sum_{k \\neq 1}y_k = 1$\n",
    "\n",
    "De aquí que la expresión se simplifica y obtenemos:\n",
    "\n",
    "$\\mathbf{\\frac{\\partial L}{\\partial z}=\\hat{y}-y}$\n"
   ]
  },
  {
   "cell_type": "markdown",
   "metadata": {},
   "source": [
    "(d) Considerando los incisos anteriores, obtén las ecuaciones de backpropagation para la red neuronal, es decir, calcula\n",
    "$$\n",
    "    \\frac{\\partial L(\\mathbf{y},{\\hat{\\mathbf{y}}})}{\\partial \\mathbf{x}}.\n",
    "$$\n",
    "Recuerda que el paso forward calcula las activaciones: $\\mathbf{h} = \\sigma(\\mathbf{x}\\mathbf{W}_1+\\mathbf{b}_1)\n",
    "$ y $\\hat{\\mathbf{y}} = \\text{softmax}(\\mathbf{h}\\mathbf{W}_2+\\mathbf{b}_2)$.\n",
    "\n",
    "Recuerda también que la función de activación en un vector (tensor), se aplica entrada por entrada."
   ]
  },
  {
   "cell_type": "markdown",
   "metadata": {},
   "source": [
    "### <font color=green>Respuesta</font>\n"
   ]
  },
  {
   "cell_type": "markdown",
   "metadata": {},
   "source": [
    "El paso backpropagation nos permite ir ajustando los pesos y el sesgo del modelo, de manera que se obtengan los óptimos para realizar una clasificación adecuada. Esto se hace implementando la regla de la cadena recursivamente para obtener la ecuación dada por:\n",
    "$$\n",
    "    \\frac{\\partial L(\\mathbf{y},{\\hat{\\mathbf{y}}})}{\\partial \\mathbf{x}}.\n",
    "$$\n",
    "\n",
    "Esto es, obteniendo:\n",
    "\n",
    "$$\n",
    "\\frac{\\partial L(\\mathbf{y},{\\hat{\\mathbf{y}}})}{\\partial \\mathbf{x}}=\\frac{\\partial L(\\mathbf{y},{\\hat{\\mathbf{y}}})}{\\partial \\mathbf{z}} \\frac{\\partial \\mathbf{z}}{\\partial \\mathbf{h}} \\frac{\\partial \\mathbf{h}}{\\partial \\mathbf{x}}.\n",
    "$$\n",
    "\n",
    "Tenemos de acuerdo a los incisos anteriores que:\n",
    "\n",
    "$$\n",
    "\\frac{\\partial L(\\mathbf{y},{\\hat{\\mathbf{y}}})}{\\partial \\mathbf{z}}=\\mathbf{\\hat{y}-y}\n",
    "$$\n",
    "\n",
    "$$\n",
    "\\frac{\\partial \\mathbf{z}}{\\partial \\mathbf{h}}=\\mathbf{W_2}\n",
    "$$\n",
    "\n",
    "$$\n",
    "\\frac{\\partial \\mathbf{h}}{\\partial \\mathbf{x}}= \\frac{\\partial \\sigma (\\mathbf{W_1x+b_1})}{\\partial \\mathbf{W_1x+b_1}} \\frac{\\partial \\mathbf{W_1x+b_1}}{\\partial \\mathbf{x}}.\n",
    "$$\n",
    "\n",
    "$$\n",
    "\\frac{\\partial \\mathbf{h}}{\\partial \\mathbf{x}}= \\sigma (\\mathbf{W_1x+b_1})(1-\\sigma (\\mathbf{W_1x+b_1})) \\mathbf{W_1}.\n",
    "$$\n",
    "\n",
    "Y por lo tanto:\n",
    "\n",
    "$$\n",
    "    \\frac{\\partial L(\\mathbf{y},{\\hat{\\mathbf{y}}})}{\\partial \\mathbf{x}}=(\\mathbf{\\hat{y}-y}) \\ \\mathbf{W_2} \\ \\ \\sigma (\\mathbf{W_1x+b_1})(1-\\sigma (\\mathbf{W_1x+b_1})) \\ \\ \\mathbf{W_1}.\n",
    "$$\n"
   ]
  },
  {
   "cell_type": "markdown",
   "metadata": {},
   "source": [
    "(e) Implementa una clase `NN1HD` que entrene una red neuronal con una capa oculta como la que se muestra en la figura 1, usando los resultados de los incisos anteriores. Tu clase debe tener al menos, los métodos `train`, `predict`, que realicen las operaciones `feed_forward`, `back_propagation`, `update_weights`, etcétera, y todas las funciones que consideres necesarias (inicializar pesos, imprimir la exactitud o error, etcétera). Utiliza `numpy` para las operaciones numéricas. NO usar `sklearn`, `tensorflow` ni `keras`.\n",
    "\n",
    "Prueba tu implementación con un conjunto de datos de 2 y 3 categorías (al menos).\n",
    "Comenta tus hallazgos."
   ]
  },
  {
   "cell_type": "code",
   "execution_count": 9,
   "metadata": {},
   "outputs": [],
   "source": [
    "class NN1HD():    \n",
    "    def __init__(self,max_iterations=230,learning_rate=.01):\n",
    "        self.max_iterations=max_iterations\n",
    "        self.learning_rate=learning_rate\n",
    "    \n",
    "    #def sigmoid(self,X):\n",
    "        #sigma=1/(1+np.exp(-X))\n",
    "        #return sigma\n",
    "        \n",
    "    def sigmoid(self,x):\n",
    "        sig = 1 / (1 + np.exp(-x))     # Define sigmoid function\n",
    "        sig = np.minimum(sig, 0.999)  # Set upper bound\n",
    "        sig = np.maximum(sig, 0.001)  # Set lower bound\n",
    "        sig[sig == 1.0] = 0.9999 \n",
    "        sig[sig == 0.0] = 0.0001\n",
    "        return sig\n",
    "    \n",
    "    def softmax(self,X):\n",
    "        e_x = np.exp(X-np.max(X))\n",
    "        return e_x/e_x.sum(axis=0) \n",
    "    \n",
    "    def cross_entropy(self,Y_g,Y):\n",
    "        cost=0\n",
    "        for i in range(Y.shape[1]):\n",
    "            temp=np.dot(Y[i,:].T,np.log(Y_g[i,:]))\n",
    "            cost+=temp\n",
    "        return (-1)*cost\n",
    "    \n",
    "    def feed_forward(self,X,y,W1,b1,W2,b2):\n",
    "        u=(np.dot(X,W1.T))+b1\n",
    "        h=self.sigmoid(u)\n",
    "        dh=np.dot(self.sigmoid(u).T,(1-self.sigmoid(u)))\n",
    "        z=np.dot(h,W2)+b2\n",
    "        yg=self.softmax(z)\n",
    "        cost=self.cross_entropy(yg,y)\n",
    "        \n",
    "        dLW1=np.dot(np.dot(np.dot(W2,dh),(yg-y).T),X)\n",
    "        dLb1=np.dot(np.dot(np.dot(W2,dh),(yg-y).T),np.ones((X.shape[0])))\n",
    "        dLW2=np.dot(h.T,(yg-y))\n",
    "        dLb2=np.dot(np.ones((1,y.shape[0])),(yg-y))\n",
    "        \n",
    "        return dLW1,dLb1,dLW2,dLb2\n",
    "    \n",
    "    def train(self,X,y):\n",
    "        #Pesos iniciales\n",
    "        W1=0.002*np.random.random((y.shape[1],X.shape[1]))\n",
    "        b1=np.zeros((1,y.shape[1]))\n",
    "        W2=0.002*np.random.random((y.shape[1],y.shape[1]))\n",
    "        b2=np.zeros((1,y.shape[1]))\n",
    "        \n",
    "        for i in range(self.max_iterations):\n",
    "            dLW1,dLb1,dLW2,dLb2=self.feed_forward(X,y,W1,b1,W2,b2)\n",
    "            \n",
    "            W1= W1 - self.learning_rate*dLW1\n",
    "            b1= b1 - self.learning_rate*dLb1\n",
    "            W2= W2 - self.learning_rate*dLW2\n",
    "            b2= b2 - self.learning_rate*dLb2\n",
    "        \n",
    "        self.W1=W1\n",
    "        self.b1=b1\n",
    "        self.W2=W2\n",
    "        self.b2=b2\n",
    "    \n",
    "        return self\n",
    "    \n",
    "    def predict(self,X):\n",
    "        b1=self.b1\n",
    "        b2=self.b2\n",
    "        W1=self.W1\n",
    "        W2=self.W2\n",
    "        \n",
    "        u=(np.dot(X,W1.T))+b1\n",
    "        u=u*(1e-11)\n",
    "        h=self.sigmoid(u)\n",
    "        z=np.dot(h,W2)+b2\n",
    "        yg=self.softmax(z)\n",
    "        \n",
    "        y_pred=np.zeros((yg.shape[0]))\n",
    "        for i in range(yg.shape[0]):\n",
    "            temp=yg[i,:]\n",
    "            y_pred[i]=np.argmax(temp)\n",
    "        \n",
    "        return np.array(y_pred)"
   ]
  },
  {
   "cell_type": "markdown",
   "metadata": {},
   "source": [
    "#### Primer conjunto de datos (2 clases)"
   ]
  },
  {
   "cell_type": "code",
   "execution_count": 10,
   "metadata": {},
   "outputs": [],
   "source": [
    "from sklearn.datasets import load_breast_cancer\n",
    "from sklearn.model_selection import train_test_split\n",
    "\n",
    "data = load_breast_cancer()\n",
    "\n",
    "X=data['data']\n",
    "y=data['target']\n",
    "\n",
    "X_train, X_test, y_train, y_test = train_test_split(X, y, test_size=0.30, random_state=42)"
   ]
  },
  {
   "cell_type": "code",
   "execution_count": 11,
   "metadata": {},
   "outputs": [],
   "source": [
    "#Funciones que codifican los vectores de clasificación a arreglos con cada clase como variable binaria\n",
    "\n",
    "def to_one_hot(Y):\n",
    "    Y=Y.astype(int)\n",
    "    n_col = np.amax(Y) + 1\n",
    "    n_col=n_col.astype(int)\n",
    "    binarized = np.zeros((len(Y), n_col))\n",
    "    for i in range(len(Y)):\n",
    "        binarized[i, Y[i]] = 1.\n",
    "    return binarized\n",
    "    \n",
    "def from_one_hot(Y):\n",
    "    arr=np.zeros((Y.shape[0]))\n",
    "    for i in range(Y.shape[0]):\n",
    "        temp=Y[i,:]\n",
    "        arr[i]=np.argmax(temp)\n",
    "    return arr"
   ]
  },
  {
   "cell_type": "code",
   "execution_count": 12,
   "metadata": {},
   "outputs": [],
   "source": [
    "y_t=to_one_hot(y_train)"
   ]
  },
  {
   "cell_type": "code",
   "execution_count": 13,
   "metadata": {},
   "outputs": [],
   "source": [
    "model=NN1HD().train(X_train,y_t)"
   ]
  },
  {
   "cell_type": "code",
   "execution_count": 14,
   "metadata": {},
   "outputs": [],
   "source": [
    "yp_test=model.predict(X_test)\n",
    "yp_train=model.predict(X_train)"
   ]
  },
  {
   "cell_type": "code",
   "execution_count": 15,
   "metadata": {},
   "outputs": [
    {
     "name": "stdout",
     "output_type": "stream",
     "text": [
      "Error de entrenamiento\n"
     ]
    },
    {
     "data": {
      "text/plain": [
       "13.5678391959799"
      ]
     },
     "execution_count": 15,
     "metadata": {},
     "output_type": "execute_result"
    }
   ],
   "source": [
    "error_train=0\n",
    "for i in range(y_train.shape[0]):\n",
    "    if y_train[i]!=yp_train[i]:\n",
    "        error_train=error_train+1\n",
    "\n",
    "error_train=(error_train/y_train.shape[0])*100\n",
    "print('Error de entrenamiento')\n",
    "error_train"
   ]
  },
  {
   "cell_type": "code",
   "execution_count": 16,
   "metadata": {},
   "outputs": [
    {
     "name": "stdout",
     "output_type": "stream",
     "text": [
      "Error de prueba\n"
     ]
    },
    {
     "data": {
      "text/plain": [
       "12.865497076023392"
      ]
     },
     "execution_count": 16,
     "metadata": {},
     "output_type": "execute_result"
    }
   ],
   "source": [
    "error_test=0\n",
    "for i in range(y_test.shape[0]):\n",
    "    if y_test[i]!=yp_test[i]:\n",
    "        error_test=error_test+1\n",
    "\n",
    "error_test=(error_test/y_test.shape[0])*100\n",
    "print('Error de prueba')\n",
    "error_test"
   ]
  },
  {
   "cell_type": "markdown",
   "metadata": {},
   "source": [
    "#### Segundo Conjunto de datos (3 clases)"
   ]
  },
  {
   "cell_type": "code",
   "execution_count": 17,
   "metadata": {},
   "outputs": [],
   "source": [
    "from sklearn.datasets import load_breast_cancer\n",
    "\n",
    "from sklearn.datasets import load_iris\n",
    "data = load_iris()\n",
    "\n",
    "X=data['data']\n",
    "y=data['target']\n",
    "\n",
    "X_train, X_test, y_train, y_test = train_test_split(X, y, test_size=0.30, random_state=42)"
   ]
  },
  {
   "cell_type": "code",
   "execution_count": 18,
   "metadata": {},
   "outputs": [],
   "source": [
    "y_t=to_one_hot(y_train)"
   ]
  },
  {
   "cell_type": "code",
   "execution_count": 19,
   "metadata": {},
   "outputs": [],
   "source": [
    "model2=NN1HD().train(X_train,y_t)"
   ]
  },
  {
   "cell_type": "code",
   "execution_count": 20,
   "metadata": {},
   "outputs": [],
   "source": [
    "yp_test=model2.predict(X_test)\n",
    "yp_train=model2.predict(X_train)"
   ]
  },
  {
   "cell_type": "code",
   "execution_count": 21,
   "metadata": {},
   "outputs": [
    {
     "name": "stdout",
     "output_type": "stream",
     "text": [
      "Error de entrenamiento\n"
     ]
    },
    {
     "data": {
      "text/plain": [
       "36.19047619047619"
      ]
     },
     "execution_count": 21,
     "metadata": {},
     "output_type": "execute_result"
    }
   ],
   "source": [
    "error_train=0\n",
    "for i in range(y_train.shape[0]):\n",
    "    if y_train[i]!=yp_train[i]:\n",
    "        error_train=error_train+1\n",
    "\n",
    "error_train=(error_train/y_train.shape[0])*100\n",
    "print('Error de entrenamiento')\n",
    "error_train"
   ]
  },
  {
   "cell_type": "code",
   "execution_count": 22,
   "metadata": {},
   "outputs": [
    {
     "name": "stdout",
     "output_type": "stream",
     "text": [
      "Error de prueba\n"
     ]
    },
    {
     "data": {
      "text/plain": [
       "28.888888888888886"
      ]
     },
     "execution_count": 22,
     "metadata": {},
     "output_type": "execute_result"
    }
   ],
   "source": [
    "error_test=0\n",
    "for i in range(y_test.shape[0]):\n",
    "    if y_test[i]!=yp_test[i]:\n",
    "        error_test=error_test+1\n",
    "\n",
    "error_test=(error_test/y_test.shape[0])*100\n",
    "print('Error de prueba')\n",
    "error_test"
   ]
  },
  {
   "cell_type": "markdown",
   "metadata": {},
   "source": [
    "3. Considera los datos de dígitos MNIST. \n",
    "\n",
    "(a) Usando la API de keras para tensorflow (`tf.keras`), implementa un baseline basado en regresión logística (multiclase) para la clasificación de dígitos. Reporta su desempeño con las métricas que creas conveniente. Muestra el grafo computacional correspondiente, así como sus métricas, usando tensorboard. "
   ]
  },
  {
   "cell_type": "markdown",
   "metadata": {},
   "source": [
    "### <font color=green>Tu respuesta aquí</font>\n"
   ]
  },
  {
   "cell_type": "code",
   "execution_count": 23,
   "metadata": {},
   "outputs": [
    {
     "name": "stdout",
     "output_type": "stream",
     "text": [
      "2.1.0\n"
     ]
    }
   ],
   "source": [
    "import tensorflow as tf\n",
    "print(tf.__version__)"
   ]
  },
  {
   "cell_type": "code",
   "execution_count": 24,
   "metadata": {},
   "outputs": [],
   "source": [
    "mnist = tf.keras.datasets.mnist\n",
    "\n",
    "(x_train, y_train),(x_test, y_test) = mnist.load_data()\n",
    "x_train, x_test = x_train / 255.0, x_test / 255.0"
   ]
  },
  {
   "cell_type": "code",
   "execution_count": 25,
   "metadata": {},
   "outputs": [
    {
     "data": {
      "text/plain": [
       "(60000, 28, 28)"
      ]
     },
     "execution_count": 25,
     "metadata": {},
     "output_type": "execute_result"
    }
   ],
   "source": [
    "x_train.shape"
   ]
  },
  {
   "cell_type": "code",
   "execution_count": 26,
   "metadata": {},
   "outputs": [
    {
     "name": "stderr",
     "output_type": "stream",
     "text": [
      "Using TensorFlow backend.\n"
     ]
    }
   ],
   "source": [
    "from keras.utils import to_categorical\n",
    "y_binary = to_categorical(y_train)"
   ]
  },
  {
   "cell_type": "code",
   "execution_count": 27,
   "metadata": {},
   "outputs": [],
   "source": [
    "from tensorflow import keras\n",
    "from tensorflow.keras.models import Sequential \n",
    "from tensorflow.keras.layers import Dense, Activation,Flatten\n",
    "from keras.regularizers import l2\n",
    "import os\n",
    "import datetime\n",
    "from tensorflow.keras.utils import plot_model\n",
    "from IPython.display import Image\n",
    "\n",
    "logdir = os.path.join(\"logs\",datetime.datetime.now().strftime(\"%Y%m%d-%H%M%S\"))\n",
    "tensorboard_callback = tf.keras.callbacks.TensorBoard(logdir, histogram_freq=1)\n",
    "\n",
    "#model construction\n",
    "input_dim = 28*28 # imágenes de 28x28\n",
    "output_dim = 10 # 10 categorías\n",
    "\n",
    "#Baseline\n",
    "keras_model = Sequential()\n",
    "keras_model.add(Flatten(input_shape=(28, 28)))\n",
    "keras_model.add(Dense(output_dim, input_dim=input_dim, activation='softmax'))\n",
    "keras_model.compile(loss='categorical_crossentropy', optimizer='sgd', metrics=['accuracy','mse', 'mae'])"
   ]
  },
  {
   "cell_type": "code",
   "execution_count": 28,
   "metadata": {},
   "outputs": [
    {
     "name": "stdout",
     "output_type": "stream",
     "text": [
      "WARNING:tensorflow:Method (on_train_batch_end) is slow compared to the batch update (0.163498). Check your callbacks.\n"
     ]
    }
   ],
   "source": [
    "#training\n",
    "history=keras_model.fit(x_train, y_binary, epochs=100, verbose=0,validation_split=0.2,callbacks=[tensorboard_callback])"
   ]
  },
  {
   "cell_type": "code",
   "execution_count": 29,
   "metadata": {},
   "outputs": [
    {
     "name": "stdout",
     "output_type": "stream",
     "text": [
      "Model: \"sequential\"\n",
      "_________________________________________________________________\n",
      "Layer (type)                 Output Shape              Param #   \n",
      "=================================================================\n",
      "flatten (Flatten)            (None, 784)               0         \n",
      "_________________________________________________________________\n",
      "dense (Dense)                (None, 10)                7850      \n",
      "=================================================================\n",
      "Total params: 7,850\n",
      "Trainable params: 7,850\n",
      "Non-trainable params: 0\n",
      "_________________________________________________________________\n",
      "None\n"
     ]
    }
   ],
   "source": [
    "print(keras_model.summary())"
   ]
  },
  {
   "cell_type": "markdown",
   "metadata": {},
   "source": [
    "A continuación se muestra el grafo computacional y después la gráfica de la métrica del Accuracy Score para nuestro modelo baseline."
   ]
  },
  {
   "cell_type": "code",
   "execution_count": 30,
   "metadata": {},
   "outputs": [
    {
     "data": {
      "image/png": "[encoded data removed]",
      "text/plain": [
       "<IPython.core.display.Image object>"
      ]
     },
     "execution_count": 30,
     "metadata": {},
     "output_type": "execute_result"
    }
   ],
   "source": [
    "plot_model(keras_model, to_file='grafo.png',show_shapes=True, show_layer_names=True)"
   ]
  },
  {
   "cell_type": "code",
   "execution_count": 32,
   "metadata": {},
   "outputs": [
    {
     "data": {
      "image/png": "[encoded data removed]",
      "text/plain": [
       "<Figure size 720x720 with 3 Axes>"
      ]
     },
     "metadata": {
      "needs_background": "light"
     },
     "output_type": "display_data"
    }
   ],
   "source": [
    "import matplotlib.pyplot as plt\n",
    "\n",
    "fig, axs = plt.subplots(3,figsize=(10,10))\n",
    "fig.suptitle('Model Metrics', fontsize=16)\n",
    "axs[0].plot(history.history['accuracy'])\n",
    "axs[0].set_title('Accuracy')\n",
    "axs[0].set_ylabel('Score')\n",
    "axs[1].plot(history.history['mse'])\n",
    "axs[1].set_title('Mean Square Error')\n",
    "axs[1].set_ylabel('MSE')\n",
    "axs[2].plot(history.history['mae'])\n",
    "axs[2].set_title('Mean Absoulute Error')\n",
    "axs[2].set_xlabel('Epochs')\n",
    "axs[2].set_ylabel('MAE')\n",
    "plt.show()"
   ]
  },
  {
   "cell_type": "code",
   "execution_count": 33,
   "metadata": {},
   "outputs": [
    {
     "data": {
      "image/png": "[encoded data removed]",
      "text/plain": [
       "<Figure size 720x504 with 1 Axes>"
      ]
     },
     "metadata": {
      "needs_background": "light"
     },
     "output_type": "display_data"
    }
   ],
   "source": [
    "loss = history.history['loss']\n",
    "val_loss = history.history['val_loss']\n",
    "\n",
    "epochs = range(1, len(loss) + 1)\n",
    "\n",
    "plt.figure(figsize=(10,7))\n",
    "plt.plot(epochs, loss, 'bo', label='Training loss')\n",
    "plt.plot(epochs, val_loss, 'b', label='Validation loss')\n",
    "plt.title('Training and validation loss')\n",
    "plt.xlabel('Epochs')\n",
    "plt.ylabel('Loss')\n",
    "plt.legend()\n",
    "\n",
    "plt.show()"
   ]
  },
  {
   "cell_type": "markdown",
   "metadata": {},
   "source": [
    "#### Visualización con tensorboard"
   ]
  },
  {
   "cell_type": "code",
   "execution_count": 43,
   "metadata": {},
   "outputs": [
    {
     "data": {
      "text/plain": [
       "Reusing TensorBoard on port 6006 (pid 13296), started 0:01:08 ago. (Use '!kill 13296' to kill it.)"
      ]
     },
     "metadata": {},
     "output_type": "display_data"
    },
    {
     "data": {
      "text/html": [
       "\n",
       "      <iframe id=\"tensorboard-frame-a39c6c149cf439c5\" width=\"100%\" height=\"800\" frameborder=\"0\">\n",
       "      </iframe>\n",
       "      <script>\n",
       "        (function() {\n",
       "          const frame = document.getElementById(\"tensorboard-frame-a39c6c149cf439c5\");\n",
       "          const url = new URL(\"/\", window.location);\n",
       "          url.port = 6006;\n",
       "          frame.src = url;\n",
       "        })();\n",
       "      </script>\n",
       "  "
      ],
      "text/plain": [
       "<IPython.core.display.HTML object>"
      ]
     },
     "metadata": {},
     "output_type": "display_data"
    }
   ],
   "source": [
    "logs_base_dir = \"./logs\"\n",
    "os.makedirs(logs_base_dir, exist_ok=True)\n",
    "%tensorboard --logdir {logs_base_dir}  --host localhost"
   ]
  },
  {
   "cell_type": "markdown",
   "metadata": {},
   "source": [
    "El modelo baseline implementado, a pesar de solo contar con una capa oculta, logra una precisión de más del 90%. El costo/pérdida del modelo es bastante bajo y utilizando 100 epochs con el conjunto de entrenamiento también se observa un puntaje muy bajo de mean_square_error y mean_absolute_error. Contrastando la simplicidad del modelo y el bajo costo computacional que tiene comparado con otros modelos con mayor número de capas, considero que es bastante bueno para realizar esta tarea de clasificación."
   ]
  },
  {
   "cell_type": "markdown",
   "metadata": {},
   "source": [
    "(b) Nuevamente, usando la API de keras, implementa redes neuronales con 1, 2 y 3 unidades ocultas. ¿Qué mejoras obtienes en cada caso respecto al baseline? Reporta todos tus hallazgos. Usa tensorboard para mostrar el modelo y las gráficas que consideres informativas. ¿Qué modelo escogerías en éste caso y porqué?\n",
    "\n",
    "En ambos incisos, reporta los parámetros que uses, incluyendo el número de unidades ocultas en la capa, el optimizador (uno solo para todos los modelos), el número de datos de entrenamiento, validación, batch, etcétera. SOLO UTILIZA lo que hemos visto hasta ahora."
   ]
  },
  {
   "cell_type": "markdown",
   "metadata": {},
   "source": [
    "### <font color=green>Tu respuesta aquí</font>\n"
   ]
  },
  {
   "cell_type": "code",
   "execution_count": 36,
   "metadata": {},
   "outputs": [],
   "source": [
    "def classification_model(units):\n",
    "    model = Sequential()\n",
    "    model.add(Flatten(input_shape=(28,28)))\n",
    "    model.add(Dense(units, input_dim=input_dim, activation='softmax'))\n",
    "    model.add(Dense(output_dim, input_dim=input_dim, activation='softmax'))\n",
    "    model.compile(loss='categorical_crossentropy', optimizer='sgd', metrics=['accuracy','mse', 'mae'])\n",
    "    return model\n",
    "\n",
    "input_dim = 28*28 # imágenes de 28x28\n",
    "output_dim = 10 # 10 categorías\n",
    "\n",
    "keras_model1 = classification_model(1)\n",
    "keras_model2 = classification_model(2)\n",
    "keras_model3 = classification_model(3)\n",
    "history1=keras_model1.fit(x_train, y_binary, epochs=100, verbose=0,validation_split=0.2,callbacks=[tensorboard_callback])\n",
    "history2=keras_model2.fit(x_train, y_binary, epochs=100, verbose=0,validation_split=0.2,callbacks=[tensorboard_callback])\n",
    "history3=keras_model3.fit(x_train, y_binary, epochs=100, verbose=0,validation_split=0.2,callbacks=[tensorboard_callback])"
   ]
  },
  {
   "cell_type": "code",
   "execution_count": 37,
   "metadata": {},
   "outputs": [],
   "source": [
    "loss1 = history1.history['loss']\n",
    "val_loss1 = history1.history['val_loss']\n",
    "loss2 = history2.history['loss']\n",
    "val_loss2 = history2.history['val_loss']\n",
    "loss3 = history3.history['loss']\n",
    "val_loss3 = history3.history['val_loss']\n",
    "\n",
    "epochs = range(1, len(loss1) + 1)"
   ]
  },
  {
   "cell_type": "code",
   "execution_count": 38,
   "metadata": {},
   "outputs": [
    {
     "data": {
      "text/plain": [
       "Text(0, 0.5, 'Accuracy Score')"
      ]
     },
     "execution_count": 38,
     "metadata": {},
     "output_type": "execute_result"
    },
    {
     "data": {
      "image/png": "[encoded data removed]",
      "text/plain": [
       "<Figure size 720x720 with 3 Axes>"
      ]
     },
     "metadata": {
      "needs_background": "light"
     },
     "output_type": "display_data"
    }
   ],
   "source": [
    "fig, axs = plt.subplots(3,figsize=(10,10))\n",
    "fig.suptitle('Model Accuracy', fontsize=16)\n",
    "axs[0].plot(history1.history['accuracy'])\n",
    "axs[0].set_title('1 Hidden Unit')\n",
    "axs[1].plot(history2.history['accuracy'])\n",
    "axs[1].set_title('2 Hidden Units')\n",
    "axs[2].plot(history3.history['accuracy'])\n",
    "axs[2].set_title('3 Hidden Units')\n",
    "axs[2].set_xlabel('Epochs')\n",
    "axs[2].set_ylabel('Accuracy Score')"
   ]
  },
  {
   "cell_type": "code",
   "execution_count": 39,
   "metadata": {},
   "outputs": [
    {
     "data": {
      "image/png": "[encoded data removed]",
      "text/plain": [
       "<Figure size 720x720 with 3 Axes>"
      ]
     },
     "metadata": {
      "needs_background": "light"
     },
     "output_type": "display_data"
    }
   ],
   "source": [
    "fig, axs = plt.subplots(3,figsize=(10,10))\n",
    "fig.suptitle('Training/Validation Loss', fontsize=16)\n",
    "\n",
    "axs[0].plot(epochs, loss1, 'bo', label='Training loss')\n",
    "axs[0].plot(epochs, val_loss1, 'b', label='Validation loss')\n",
    "axs[0].set_title('1 Hidden Unit')\n",
    "axs[1].plot(epochs, loss2, 'bo', label='Training loss')\n",
    "axs[1].plot(epochs, val_loss2, 'b', label='Validation loss')\n",
    "axs[1].set_title('2 Hidden Units')\n",
    "axs[2].plot(epochs, loss3, 'bo', label='Training loss')\n",
    "axs[2].plot(epochs, val_loss3, 'b', label='Validation loss')\n",
    "axs[2].set_title('3 Hidden Units')\n",
    "axs[2].set_xlabel('Epochs')\n",
    "axs[2].set_ylabel('Loss Score')\n",
    "plt.legend()\n",
    "plt.show()"
   ]
  },
  {
   "cell_type": "markdown",
   "metadata": {},
   "source": [
    "Estos tres modelos no son de mucha utilidad para un conjunto de datos tan complejo como lo es MNIST, ya que al tener tan pocas unidades ocultas, no se realizan las transformaciones necesarias para hacer una clasificación multiclase adecuada. Sin embargo se puede ver claramente que el modelo con menor costo/pérdida tanto con el conjunto de entrenamiento y validación es el modelo de 3 unidades ocultas. De igual manera el accuracy score, que es bastante bajo es mejor en comparación con los otros dos para el modelo de 3 unidades ocultas. Ninguno de estos tuvo mejor rendimiento que el baseline implementado con una capa oculta densa, pero tomaron menor tiempo de cómputo debido a la simpleza significativamente mayor."
   ]
  },
  {
   "cell_type": "code",
   "execution_count": null,
   "metadata": {},
   "outputs": [],
   "source": []
  }
 ],
 "metadata": {
  "kernelspec": {
   "display_name": "Python 3",
   "language": "python",
   "name": "python3"
  },
  "language_info": {
   "codemirror_mode": {
    "name": "ipython",
    "version": 3
   },
   "file_extension": ".py",
   "mimetype": "text/x-python",
   "name": "python",
   "nbconvert_exporter": "python",
   "pygments_lexer": "ipython3",
   "version": "3.7.4"
  }
 },
 "nbformat": 4,
 "nbformat_minor": 2
}
